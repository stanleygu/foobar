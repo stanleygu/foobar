{
 "metadata": {
  "celltoolbar": "Slideshow",
  "signature": "sha256:197f952931d4262afabaaf77ac532a1fb3a1e9740312a24ab4e62fd007d8da0c"
 },
 "nbformat": 3,
 "nbformat_minor": 0,
 "worksheets": [
  {
   "cells": [
    {
     "cell_type": "code",
     "collapsed": false,
     "input": [
      "!pip install actdiag blockdiag nwdiag seqdiag"
     ],
     "language": "python",
     "metadata": {
      "slideshow": {
       "slide_type": "slide"
      }
     },
     "outputs": [
      {
       "output_type": "stream",
       "stream": "stdout",
       "text": [
        "Downloading/unpacking actdiag\r\n"
       ]
      },
      {
       "output_type": "stream",
       "stream": "stdout",
       "text": [
        "  Downloading actdiag-0.5.3-py2.py3-none-any.whl\r\n"
       ]
      },
      {
       "output_type": "stream",
       "stream": "stdout",
       "text": [
        "Downloading/unpacking blockdiag\r\n"
       ]
      },
      {
       "output_type": "stream",
       "stream": "stdout",
       "text": [
        "  Downloading blockdiag-1.4.3-py2.py3-none-any.whl (168kB): \r",
        "  Downloading blockdiag-1.4.3-py2.py3-none-any.whl (168kB):   2%  4.1kB\r",
        "  Downloading blockdiag-1.4.3-py2.py3-none-any.whl (168kB):   4%  8.2kB\r",
        "  Downloading blockdiag-1.4.3-py2.py3-none-any.whl (168kB):   7%  12kB \r",
        "  Downloading blockdiag-1.4.3-py2.py3-none-any.whl (168kB):   9%  16kB"
       ]
      },
      {
       "output_type": "stream",
       "stream": "stdout",
       "text": [
        "\r",
        "  Downloading blockdiag-1.4.3-py2.py3-none-any.whl (168kB):  12%  20kB\r",
        "  Downloading blockdiag-1.4.3-py2.py3-none-any.whl (168kB):  14%  24kB\r",
        "  Downloading blockdiag-1.4.3-py2.py3-none-any.whl (168kB):  17%  28kB\r",
        "  Downloading blockdiag-1.4.3-py2.py3-none-any.whl (168kB):  19%  32kB\r",
        "  Downloading blockdiag-1.4.3-py2.py3-none-any.whl (168kB):  21%  36kB\r",
        "  Downloading blockdiag-1.4.3-py2.py3-none-any.whl (168kB):  24%  40kB\r",
        "  Downloading blockdiag-1.4.3-py2.py3-none-any.whl (168kB):  26%  45kB\r",
        "  Downloading blockdiag-1.4.3-py2.py3-none-any.whl (168kB):  29%  49kB\r",
        "  Downloading blockdiag-1.4.3-py2.py3-none-any.whl (168kB):  31%  53kB\r",
        "  Downloading blockdiag-1.4.3-py2.py3-none-any.whl (168kB):  34%  57kB\r",
        "  Downloading blockdiag-1.4.3-py2.py3-none-any.whl (168kB):  36%  61kB\r",
        "  Downloading blockdiag-1.4.3-py2.py3-none-any.whl (168kB):  38%  65kB\r",
        "  Downloading blockdiag-1.4.3-py2.py3-none-any.whl (168kB):  41%  69kB\r",
        "  Downloading blockdiag-1.4.3-py2.py3-none-any.whl (168kB):  43%  73kB"
       ]
      },
      {
       "output_type": "stream",
       "stream": "stdout",
       "text": [
        "\r",
        "  Downloading blockdiag-1.4.3-py2.py3-none-any.whl (168kB):  46%  77kB\r",
        "  Downloading blockdiag-1.4.3-py2.py3-none-any.whl (168kB):  48%  81kB\r",
        "  Downloading blockdiag-1.4.3-py2.py3-none-any.whl (168kB):  51%  86kB\r",
        "  Downloading blockdiag-1.4.3-py2.py3-none-any.whl (168kB):  53%  90kB\r",
        "  Downloading blockdiag-1.4.3-py2.py3-none-any.whl (168kB):  55%  94kB\r",
        "  Downloading blockdiag-1.4.3-py2.py3-none-any.whl (168kB):  58%  98kB\r",
        "  Downloading blockdiag-1.4.3-py2.py3-none-any.whl (168kB):  60%  102kB\r",
        "  Downloading blockdiag-1.4.3-py2.py3-none-any.whl (168kB):  63%  106kB\r",
        "  Downloading blockdiag-1.4.3-py2.py3-none-any.whl (168kB):  65%  110kB\r",
        "  Downloading blockdiag-1.4.3-py2.py3-none-any.whl (168kB):  68%  114kB\r",
        "  Downloading blockdiag-1.4.3-py2.py3-none-any.whl (168kB):  70%  118kB\r",
        "  Downloading blockdiag-1.4.3-py2.py3-none-any.whl (168kB):  72%  122kB\r",
        "  Downloading blockdiag-1.4.3-py2.py3-none-any.whl (168kB):  75%  126kB\r",
        "  Downloading blockdiag-1.4.3-py2.py3-none-any.whl (168kB):  77%  131kB\r",
        "  Downloading blockdiag-1.4.3-py2.py3-none-any.whl (168kB):  80%  135kB\r",
        "  Downloading blockdiag-1.4.3-py2.py3-none-any.whl (168kB):  82%  139kB\r",
        "  Downloading blockdiag-1.4.3-py2.py3-none-any.whl (168kB):  85%  143kB\r",
        "  Downloading blockdiag-1.4.3-py2.py3-none-any.whl (168kB):  87%  147kB\r",
        "  Downloading blockdiag-1.4.3-py2.py3-none-any.whl (168kB):  89%  151kB\r",
        "  Downloading blockdiag-1.4.3-py2.py3-none-any.whl (168kB):  92%  155kB\r",
        "  Downloading blockdiag-1.4.3-py2.py3-none-any.whl (168kB):  94%  159kB\r",
        "  Downloading blockdiag-1.4.3-py2.py3-none-any.whl (168kB):  97%  163kB\r",
        "  Downloading blockdiag-1.4.3-py2.py3-none-any.whl (168kB):  99%  167kB\r",
        "  Downloading blockdiag-1.4.3-py2.py3-none-any.whl (168kB): 100%  168kB\r",
        "  Downloading blockdiag-1.4.3-py2.py3-none-any.whl (168kB):            \r",
        "  Downloading blockdiag-1.4.3-py2.py3-none-any.whl (168kB): 168kB downloaded\r\n"
       ]
      },
      {
       "output_type": "stream",
       "stream": "stdout",
       "text": [
        "Downloading/unpacking nwdiag\r\n"
       ]
      },
      {
       "output_type": "stream",
       "stream": "stdout",
       "text": [
        "  Downloading nwdiag-1.0.3-py2.py3-none-any.whl (74kB): \r",
        "  Downloading nwdiag-1.0.3-py2.py3-none-any.whl (74kB):   5%  4.1kB\r",
        "  Downloading nwdiag-1.0.3-py2.py3-none-any.whl (74kB):  10%  8.2kB\r",
        "  Downloading nwdiag-1.0.3-py2.py3-none-any.whl (74kB):  16%  12kB \r",
        "  Downloading nwdiag-1.0.3-py2.py3-none-any.whl (74kB):  21%  16kB\r",
        "  Downloading nwdiag-1.0.3-py2.py3-none-any.whl (74kB):  27%  20kB\r",
        "  Downloading nwdiag-1.0.3-py2.py3-none-any.whl (74kB):  32%  24kB\r",
        "  Downloading nwdiag-1.0.3-py2.py3-none-any.whl (74kB):  38%  28kB\r",
        "  Downloading nwdiag-1.0.3-py2.py3-none-any.whl (74kB):  43%  32kB\r",
        "  Downloading nwdiag-1.0.3-py2.py3-none-any.whl (74kB):  49%  36kB\r",
        "  Downloading nwdiag-1.0.3-py2.py3-none-any.whl (74kB):  54%  40kB\r",
        "  Downloading nwdiag-1.0.3-py2.py3-none-any.whl (74kB):  60%  45kB\r",
        "  Downloading nwdiag-1.0.3-py2.py3-none-any.whl (74kB):  65%  49kB"
       ]
      },
      {
       "output_type": "stream",
       "stream": "stdout",
       "text": [
        "\r",
        "  Downloading nwdiag-1.0.3-py2.py3-none-any.whl (74kB):  71%  53kB\r",
        "  Downloading nwdiag-1.0.3-py2.py3-none-any.whl (74kB):  76%  57kB\r",
        "  Downloading nwdiag-1.0.3-py2.py3-none-any.whl (74kB):  82%  61kB\r",
        "  Downloading nwdiag-1.0.3-py2.py3-none-any.whl (74kB):  87%  65kB\r",
        "  Downloading nwdiag-1.0.3-py2.py3-none-any.whl (74kB):  93%  69kB\r",
        "  Downloading nwdiag-1.0.3-py2.py3-none-any.whl (74kB):  98%  73kB\r",
        "  Downloading nwdiag-1.0.3-py2.py3-none-any.whl (74kB): 100%  74kB\r",
        "  Downloading nwdiag-1.0.3-py2.py3-none-any.whl (74kB):           \r",
        "  Downloading nwdiag-1.0.3-py2.py3-none-any.whl (74kB): 74kB downloaded\r\n"
       ]
      },
      {
       "output_type": "stream",
       "stream": "stdout",
       "text": [
        "Downloading/unpacking seqdiag\r\n"
       ]
      },
      {
       "output_type": "stream",
       "stream": "stdout",
       "text": [
        "  Downloading seqdiag-0.9.3-py2.py3-none-any.whl\r\n"
       ]
      },
      {
       "output_type": "stream",
       "stream": "stdout",
       "text": [
        "Requirement already satisfied (use --upgrade to upgrade): setuptools in /home/user/.virtualenvs/localpy/lib/python2.7/site-packages (from actdiag)\r\n",
        "Downloading/unpacking Pillow (from blockdiag)\r\n"
       ]
      },
      {
       "output_type": "stream",
       "stream": "stdout",
       "text": [
        "  Downloading Pillow-2.5.3.zip (6.9MB): \r",
        "  Downloading Pillow-2.5.3.zip (6.9MB):   0%  4.1kB\r",
        "  Downloading Pillow-2.5.3.zip (6.9MB):   0%  8.2kB\r",
        "  Downloading Pillow-2.5.3.zip (6.9MB):   0%  12kB \r",
        "  Downloading Pillow-2.5.3.zip (6.9MB):   0%  16kB\r",
        "  Downloading Pillow-2.5.3.zip (6.9MB):   0%  20kB\r",
        "  Downloading Pillow-2.5.3.zip (6.9MB):   0%  24kB\r",
        "  Downloading Pillow-2.5.3.zip (6.9MB):   0%  28kB\r",
        "  Downloading Pillow-2.5.3.zip (6.9MB):   0%  32kB\r",
        "  Downloading Pillow-2.5.3.zip (6.9MB):   0%  36kB\r",
        "  Downloading Pillow-2.5.3.zip (6.9MB):   0%  40kB\r",
        "  Downloading Pillow-2.5.3.zip (6.9MB):   0%  45kB\r",
        "  Downloading Pillow-2.5.3.zip (6.9MB):   0%  49kB\r",
        "  Downloading Pillow-2.5.3.zip (6.9MB):   0%  53kB\r",
        "  Downloading Pillow-2.5.3.zip (6.9MB):   0%  57kB"
       ]
      },
      {
       "output_type": "stream",
       "stream": "stdout",
       "text": [
        "\r",
        "  Downloading Pillow-2.5.3.zip (6.9MB):   0%  61kB\r",
        "  Downloading Pillow-2.5.3.zip (6.9MB):   0%  65kB\r",
        "  Downloading Pillow-2.5.3.zip (6.9MB):   1%  69kB\r",
        "  Downloading Pillow-2.5.3.zip (6.9MB):   1%  73kB\r",
        "  Downloading Pillow-2.5.3.zip (6.9MB):   1%  77kB\r",
        "  Downloading Pillow-2.5.3.zip (6.9MB):   1%  81kB\r",
        "  Downloading Pillow-2.5.3.zip (6.9MB):   1%  86kB\r",
        "  Downloading Pillow-2.5.3.zip (6.9MB):   1%  90kB\r",
        "  Downloading Pillow-2.5.3.zip (6.9MB):   1%  94kB\r",
        "  Downloading Pillow-2.5.3.zip (6.9MB):   1%  98kB\r",
        "  Downloading Pillow-2.5.3.zip (6.9MB):   1%  102kB\r",
        "  Downloading Pillow-2.5.3.zip (6.9MB):   1%  106kB\r",
        "  Downloading Pillow-2.5.3.zip (6.9MB):   1%  110kB\r",
        "  Downloading Pillow-2.5.3.zip (6.9MB):   1%  114kB\r",
        "  Downloading Pillow-2.5.3.zip (6.9MB):   1%  118kB\r",
        "  Downloading Pillow-2.5.3.zip (6.9MB):   1%  122kB\r",
        "  Downloading Pillow-2.5.3.zip (6.9MB):   1%  126kB\r",
        "  Downloading Pillow-2.5.3.zip (6.9MB):   1%  131kB\r",
        "  Downloading Pillow-2.5.3.zip (6.9MB):   1%  135kB\r",
        "  Downloading Pillow-2.5.3.zip (6.9MB):   2%  139kB\r",
        "  Downloading Pillow-2.5.3.zip (6.9MB):   2%  143kB\r",
        "  Downloading Pillow-2.5.3.zip (6.9MB):   2%  147kB\r",
        "  Downloading Pillow-2.5.3.zip (6.9MB):   2%  151kB\r",
        "  Downloading Pillow-2.5.3.zip (6.9MB):   2%  155kB\r",
        "  Downloading Pillow-2.5.3.zip (6.9MB):   2%  159kB\r",
        "  Downloading Pillow-2.5.3.zip (6.9MB):   2%  163kB\r",
        "  Downloading Pillow-2.5.3.zip (6.9MB):   2%  167kB\r",
        "  Downloading Pillow-2.5.3.zip (6.9MB):   2%  172kB\r",
        "  Downloading Pillow-2.5.3.zip (6.9MB):   2%  176kB\r",
        "  Downloading Pillow-2.5.3.zip (6.9MB):   2%  180kB\r",
        "  Downloading Pillow-2.5.3.zip (6.9MB):   2%  184kB\r",
        "  Downloading Pillow-2.5.3.zip (6.9MB):   2%  188kB"
       ]
      },
      {
       "output_type": "stream",
       "stream": "stdout",
       "text": [
        "\r",
        "  Downloading Pillow-2.5.3.zip (6.9MB):   2%  192kB\r",
        "  Downloading Pillow-2.5.3.zip (6.9MB):   2%  196kB\r",
        "  Downloading Pillow-2.5.3.zip (6.9MB):   2%  200kB\r",
        "  Downloading Pillow-2.5.3.zip (6.9MB):   2%  204kB\r",
        "  Downloading Pillow-2.5.3.zip (6.9MB):   3%  208kB\r",
        "  Downloading Pillow-2.5.3.zip (6.9MB):   3%  212kB\r",
        "  Downloading Pillow-2.5.3.zip (6.9MB):   3%  217kB\r",
        "  Downloading Pillow-2.5.3.zip (6.9MB):   3%  221kB\r",
        "  Downloading Pillow-2.5.3.zip (6.9MB):   3%  225kB\r",
        "  Downloading Pillow-2.5.3.zip (6.9MB):   3%  229kB\r",
        "  Downloading Pillow-2.5.3.zip (6.9MB):   3%  233kB\r",
        "  Downloading Pillow-2.5.3.zip (6.9MB):   3%  237kB\r",
        "  Downloading Pillow-2.5.3.zip (6.9MB):   3%  241kB\r",
        "  Downloading Pillow-2.5.3.zip (6.9MB):   3%  245kB\r",
        "  Downloading Pillow-2.5.3.zip (6.9MB):   3%  249kB\r",
        "  Downloading Pillow-2.5.3.zip (6.9MB):   3%  253kB\r",
        "  Downloading Pillow-2.5.3.zip (6.9MB):   3%  258kB\r",
        "  Downloading Pillow-2.5.3.zip (6.9MB):   3%  262kB\r",
        "  Downloading Pillow-2.5.3.zip (6.9MB):   3%  266kB\r",
        "  Downloading Pillow-2.5.3.zip (6.9MB):   3%  270kB\r",
        "  Downloading Pillow-2.5.3.zip (6.9MB):   3%  274kB\r",
        "  Downloading Pillow-2.5.3.zip (6.9MB):   4%  278kB\r",
        "  Downloading Pillow-2.5.3.zip (6.9MB):   4%  282kB\r",
        "  Downloading Pillow-2.5.3.zip (6.9MB):   4%  286kB\r",
        "  Downloading Pillow-2.5.3.zip (6.9MB):   4%  290kB\r",
        "  Downloading Pillow-2.5.3.zip (6.9MB):   4%  294kB\r",
        "  Downloading Pillow-2.5.3.zip (6.9MB):   4%  299kB\r",
        "  Downloading Pillow-2.5.3.zip (6.9MB):   4%  303kB\r",
        "  Downloading Pillow-2.5.3.zip (6.9MB):   4%  307kB\r",
        "  Downloading Pillow-2.5.3.zip (6.9MB):   4%  311kB\r",
        "  Downloading Pillow-2.5.3.zip (6.9MB):   4%  315kB\r",
        "  Downloading Pillow-2.5.3.zip (6.9MB):   4%  319kB\r",
        "  Downloading Pillow-2.5.3.zip (6.9MB):   4%  323kB\r",
        "  Downloading Pillow-2.5.3.zip (6.9MB):   4%  327kB\r",
        "  Downloading Pillow-2.5.3.zip (6.9MB):   4%  331kB\r",
        "  Downloading Pillow-2.5.3.zip (6.9MB):   4%  335kB\r",
        "  Downloading Pillow-2.5.3.zip (6.9MB):   4%  339kB\r",
        "  Downloading Pillow-2.5.3.zip (6.9MB):   5%  344kB\r",
        "  Downloading Pillow-2.5.3.zip (6.9MB):   5%  348kB\r",
        "  Downloading Pillow-2.5.3.zip (6.9MB):   5%  352kB\r",
        "  Downloading Pillow-2.5.3.zip (6.9MB):   5%  356kB\r",
        "  Downloading Pillow-2.5.3.zip (6.9MB):   5%  360kB\r",
        "  Downloading Pillow-2.5.3.zip (6.9MB):   5%  364kB\r",
        "  Downloading Pillow-2.5.3.zip (6.9MB):   5%  368kB\r",
        "  Downloading Pillow-2.5.3.zip (6.9MB):   5%  372kB\r",
        "  Downloading Pillow-2.5.3.zip (6.9MB):   5%  376kB\r",
        "  Downloading Pillow-2.5.3.zip (6.9MB):   5%  380kB\r",
        "  Downloading Pillow-2.5.3.zip (6.9MB):   5%  385kB\r",
        "  Downloading Pillow-2.5.3.zip (6.9MB):   5%  389kB\r",
        "  Downloading Pillow-2.5.3.zip (6.9MB):   5%  393kB\r",
        "  Downloading Pillow-2.5.3.zip (6.9MB):   5%  397kB\r",
        "  Downloading Pillow-2.5.3.zip (6.9MB):   5%  401kB\r",
        "  Downloading Pillow-2.5.3.zip (6.9MB):   5%  405kB\r",
        "  Downloading Pillow-2.5.3.zip (6.9MB):   5%  409kB\r",
        "  Downloading Pillow-2.5.3.zip (6.9MB):   6%  413kB"
       ]
      },
      {
       "output_type": "stream",
       "stream": "stdout",
       "text": [
        "\r",
        "  Downloading Pillow-2.5.3.zip (6.9MB):   6%  417kB\r",
        "  Downloading Pillow-2.5.3.zip (6.9MB):   6%  421kB\r",
        "  Downloading Pillow-2.5.3.zip (6.9MB):   6%  425kB\r",
        "  Downloading Pillow-2.5.3.zip (6.9MB):   6%  430kB\r",
        "  Downloading Pillow-2.5.3.zip (6.9MB):   6%  434kB\r",
        "  Downloading Pillow-2.5.3.zip (6.9MB):   6%  438kB\r",
        "  Downloading Pillow-2.5.3.zip (6.9MB):   6%  442kB\r",
        "  Downloading Pillow-2.5.3.zip (6.9MB):   6%  446kB\r",
        "  Downloading Pillow-2.5.3.zip (6.9MB):   6%  450kB\r",
        "  Downloading Pillow-2.5.3.zip (6.9MB):   6%  454kB\r",
        "  Downloading Pillow-2.5.3.zip (6.9MB):   6%  458kB\r",
        "  Downloading Pillow-2.5.3.zip (6.9MB):   6%  462kB\r",
        "  Downloading Pillow-2.5.3.zip (6.9MB):   6%  466kB\r",
        "  Downloading Pillow-2.5.3.zip (6.9MB):   6%  471kB\r",
        "  Downloading Pillow-2.5.3.zip (6.9MB):   6%  475kB\r",
        "  Downloading Pillow-2.5.3.zip (6.9MB):   6%  479kB\r",
        "  Downloading Pillow-2.5.3.zip (6.9MB):   7%  483kB\r",
        "  Downloading Pillow-2.5.3.zip (6.9MB):   7%  487kB\r",
        "  Downloading Pillow-2.5.3.zip (6.9MB):   7%  491kB\r",
        "  Downloading Pillow-2.5.3.zip (6.9MB):   7%  495kB\r",
        "  Downloading Pillow-2.5.3.zip (6.9MB):   7%  499kB\r",
        "  Downloading Pillow-2.5.3.zip (6.9MB):   7%  503kB\r",
        "  Downloading Pillow-2.5.3.zip (6.9MB):   7%  507kB\r",
        "  Downloading Pillow-2.5.3.zip (6.9MB):   7%  512kB\r",
        "  Downloading Pillow-2.5.3.zip (6.9MB):   7%  516kB\r",
        "  Downloading Pillow-2.5.3.zip (6.9MB):   7%  520kB\r",
        "  Downloading Pillow-2.5.3.zip (6.9MB):   7%  524kB\r",
        "  Downloading Pillow-2.5.3.zip (6.9MB):   7%  528kB\r",
        "  Downloading Pillow-2.5.3.zip (6.9MB):   7%  532kB\r",
        "  Downloading Pillow-2.5.3.zip (6.9MB):   7%  536kB\r",
        "  Downloading Pillow-2.5.3.zip (6.9MB):   7%  540kB\r",
        "  Downloading Pillow-2.5.3.zip (6.9MB):   7%  544kB\r",
        "  Downloading Pillow-2.5.3.zip (6.9MB):   7%  548kB\r",
        "  Downloading Pillow-2.5.3.zip (6.9MB):   8%  552kB\r",
        "  Downloading Pillow-2.5.3.zip (6.9MB):   8%  557kB\r",
        "  Downloading Pillow-2.5.3.zip (6.9MB):   8%  561kB\r",
        "  Downloading Pillow-2.5.3.zip (6.9MB):   8%  565kB\r",
        "  Downloading Pillow-2.5.3.zip (6.9MB):   8%  569kB\r",
        "  Downloading Pillow-2.5.3.zip (6.9MB):   8%  573kB\r",
        "  Downloading Pillow-2.5.3.zip (6.9MB):   8%  577kB\r",
        "  Downloading Pillow-2.5.3.zip (6.9MB):   8%  581kB\r",
        "  Downloading Pillow-2.5.3.zip (6.9MB):   8%  585kB\r",
        "  Downloading Pillow-2.5.3.zip (6.9MB):   8%  589kB\r",
        "  Downloading Pillow-2.5.3.zip (6.9MB):   8%  593kB\r",
        "  Downloading Pillow-2.5.3.zip (6.9MB):   8%  598kB\r",
        "  Downloading Pillow-2.5.3.zip (6.9MB):   8%  602kB\r",
        "  Downloading Pillow-2.5.3.zip (6.9MB):   8%  606kB\r",
        "  Downloading Pillow-2.5.3.zip (6.9MB):   8%  610kB\r",
        "  Downloading Pillow-2.5.3.zip (6.9MB):   8%  614kB\r",
        "  Downloading Pillow-2.5.3.zip (6.9MB):   8%  618kB\r",
        "  Downloading Pillow-2.5.3.zip (6.9MB):   9%  622kB\r",
        "  Downloading Pillow-2.5.3.zip (6.9MB):   9%  626kB\r",
        "  Downloading Pillow-2.5.3.zip (6.9MB):   9%  630kB\r",
        "  Downloading Pillow-2.5.3.zip (6.9MB):   9%  634kB\r",
        "  Downloading Pillow-2.5.3.zip (6.9MB):   9%  638kB\r",
        "  Downloading Pillow-2.5.3.zip (6.9MB):   9%  643kB\r",
        "  Downloading Pillow-2.5.3.zip (6.9MB):   9%  647kB\r",
        "  Downloading Pillow-2.5.3.zip (6.9MB):   9%  651kB\r",
        "  Downloading Pillow-2.5.3.zip (6.9MB):   9%  655kB\r",
        "  Downloading Pillow-2.5.3.zip (6.9MB):   9%  659kB\r",
        "  Downloading Pillow-2.5.3.zip (6.9MB):   9%  663kB\r",
        "  Downloading Pillow-2.5.3.zip (6.9MB):   9%  667kB\r",
        "  Downloading Pillow-2.5.3.zip (6.9MB):   9%  671kB\r",
        "  Downloading Pillow-2.5.3.zip (6.9MB):   9%  675kB\r",
        "  Downloading Pillow-2.5.3.zip (6.9MB):   9%  679kB\r",
        "  Downloading Pillow-2.5.3.zip (6.9MB):   9%  684kB\r",
        "  Downloading Pillow-2.5.3.zip (6.9MB):  10%  688kB\r",
        "  Downloading Pillow-2.5.3.zip (6.9MB):  10%  692kB\r",
        "  Downloading Pillow-2.5.3.zip (6.9MB):  10%  696kB\r",
        "  Downloading Pillow-2.5.3.zip (6.9MB):  10%  700kB\r",
        "  Downloading Pillow-2.5.3.zip (6.9MB):  10%  704kB\r",
        "  Downloading Pillow-2.5.3.zip (6.9MB):  10%  708kB\r",
        "  Downloading Pillow-2.5.3.zip (6.9MB):  10%  712kB\r",
        "  Downloading Pillow-2.5.3.zip (6.9MB):  10%  716kB\r",
        "  Downloading Pillow-2.5.3.zip (6.9MB):  10%  720kB\r",
        "  Downloading Pillow-2.5.3.zip (6.9MB):  10%  724kB\r",
        "  Downloading Pillow-2.5.3.zip (6.9MB):  10%  729kB\r",
        "  Downloading Pillow-2.5.3.zip (6.9MB):  10%  733kB\r",
        "  Downloading Pillow-2.5.3.zip (6.9MB):  10%  737kB"
       ]
      },
      {
       "output_type": "stream",
       "stream": "stdout",
       "text": [
        "\r",
        "  Downloading Pillow-2.5.3.zip (6.9MB):  10%  741kB\r",
        "  Downloading Pillow-2.5.3.zip (6.9MB):  10%  745kB\r",
        "  Downloading Pillow-2.5.3.zip (6.9MB):  10%  749kB\r",
        "  Downloading Pillow-2.5.3.zip (6.9MB):  10%  753kB\r",
        "  Downloading Pillow-2.5.3.zip (6.9MB):  11%  757kB\r",
        "  Downloading Pillow-2.5.3.zip (6.9MB):  11%  761kB\r",
        "  Downloading Pillow-2.5.3.zip (6.9MB):  11%  765kB\r",
        "  Downloading Pillow-2.5.3.zip (6.9MB):  11%  770kB\r",
        "  Downloading Pillow-2.5.3.zip (6.9MB):  11%  774kB\r",
        "  Downloading Pillow-2.5.3.zip (6.9MB):  11%  778kB\r",
        "  Downloading Pillow-2.5.3.zip (6.9MB):  11%  782kB\r",
        "  Downloading Pillow-2.5.3.zip (6.9MB):  11%  786kB\r",
        "  Downloading Pillow-2.5.3.zip (6.9MB):  11%  790kB\r",
        "  Downloading Pillow-2.5.3.zip (6.9MB):  11%  794kB\r",
        "  Downloading Pillow-2.5.3.zip (6.9MB):  11%  798kB\r",
        "  Downloading Pillow-2.5.3.zip (6.9MB):  11%  802kB\r",
        "  Downloading Pillow-2.5.3.zip (6.9MB):  11%  806kB\r",
        "  Downloading Pillow-2.5.3.zip (6.9MB):  11%  811kB\r",
        "  Downloading Pillow-2.5.3.zip (6.9MB):  11%  815kB\r",
        "  Downloading Pillow-2.5.3.zip (6.9MB):  11%  819kB\r",
        "  Downloading Pillow-2.5.3.zip (6.9MB):  11%  823kB\r",
        "  Downloading Pillow-2.5.3.zip (6.9MB):  12%  827kB\r",
        "  Downloading Pillow-2.5.3.zip (6.9MB):  12%  831kB\r",
        "  Downloading Pillow-2.5.3.zip (6.9MB):  12%  835kB\r",
        "  Downloading Pillow-2.5.3.zip (6.9MB):  12%  839kB\r",
        "  Downloading Pillow-2.5.3.zip (6.9MB):  12%  843kB\r",
        "  Downloading Pillow-2.5.3.zip (6.9MB):  12%  847kB\r",
        "  Downloading Pillow-2.5.3.zip (6.9MB):  12%  851kB\r",
        "  Downloading Pillow-2.5.3.zip (6.9MB):  12%  856kB\r",
        "  Downloading Pillow-2.5.3.zip (6.9MB):  12%  860kB\r",
        "  Downloading Pillow-2.5.3.zip (6.9MB):  12%  864kB\r",
        "  Downloading Pillow-2.5.3.zip (6.9MB):  12%  868kB\r",
        "  Downloading Pillow-2.5.3.zip (6.9MB):  12%  872kB\r",
        "  Downloading Pillow-2.5.3.zip (6.9MB):  12%  876kB\r",
        "  Downloading Pillow-2.5.3.zip (6.9MB):  12%  880kB\r",
        "  Downloading Pillow-2.5.3.zip (6.9MB):  12%  884kB\r",
        "  Downloading Pillow-2.5.3.zip (6.9MB):  12%  888kB\r",
        "  Downloading Pillow-2.5.3.zip (6.9MB):  12%  892kB\r",
        "  Downloading Pillow-2.5.3.zip (6.9MB):  13%  897kB\r",
        "  Downloading Pillow-2.5.3.zip (6.9MB):  13%  901kB\r",
        "  Downloading Pillow-2.5.3.zip (6.9MB):  13%  905kB\r",
        "  Downloading Pillow-2.5.3.zip (6.9MB):  13%  909kB\r",
        "  Downloading Pillow-2.5.3.zip (6.9MB):  13%  913kB\r",
        "  Downloading Pillow-2.5.3.zip (6.9MB):  13%  917kB\r",
        "  Downloading Pillow-2.5.3.zip (6.9MB):  13%  921kB\r",
        "  Downloading Pillow-2.5.3.zip (6.9MB):  13%  925kB\r",
        "  Downloading Pillow-2.5.3.zip (6.9MB):  13%  929kB\r",
        "  Downloading Pillow-2.5.3.zip (6.9MB):  13%  933kB\r",
        "  Downloading Pillow-2.5.3.zip (6.9MB):  13%  937kB\r",
        "  Downloading Pillow-2.5.3.zip (6.9MB):  13%  942kB\r",
        "  Downloading Pillow-2.5.3.zip (6.9MB):  13%  946kB\r",
        "  Downloading Pillow-2.5.3.zip (6.9MB):  13%  950kB\r",
        "  Downloading Pillow-2.5.3.zip (6.9MB):  13%  954kB\r",
        "  Downloading Pillow-2.5.3.zip (6.9MB):  13%  958kB\r",
        "  Downloading Pillow-2.5.3.zip (6.9MB):  14%  962kB\r",
        "  Downloading Pillow-2.5.3.zip (6.9MB):  14%  966kB\r",
        "  Downloading Pillow-2.5.3.zip (6.9MB):  14%  970kB\r",
        "  Downloading Pillow-2.5.3.zip (6.9MB):  14%  974kB\r",
        "  Downloading Pillow-2.5.3.zip (6.9MB):  14%  978kB\r",
        "  Downloading Pillow-2.5.3.zip (6.9MB):  14%  983kB\r",
        "  Downloading Pillow-2.5.3.zip (6.9MB):  14%  987kB\r",
        "  Downloading Pillow-2.5.3.zip (6.9MB):  14%  991kB\r",
        "  Downloading Pillow-2.5.3.zip (6.9MB):  14%  995kB\r",
        "  Downloading Pillow-2.5.3.zip (6.9MB):  14%  999kB\r",
        "  Downloading Pillow-2.5.3.zip (6.9MB):  14%  1.0MB\r",
        "  Downloading Pillow-2.5.3.zip (6.9MB):  14%  1.0MB\r",
        "  Downloading Pillow-2.5.3.zip (6.9MB):  14%  1.0MB\r",
        "  Downloading Pillow-2.5.3.zip (6.9MB):  14%  1.0MB\r",
        "  Downloading Pillow-2.5.3.zip (6.9MB):  14%  1.0MB\r",
        "  Downloading Pillow-2.5.3.zip (6.9MB):  14%  1.0MB\r",
        "  Downloading Pillow-2.5.3.zip (6.9MB):  14%  1.0MB\r",
        "  Downloading Pillow-2.5.3.zip (6.9MB):  15%  1.0MB\r",
        "  Downloading Pillow-2.5.3.zip (6.9MB):  15%  1.0MB\r",
        "  Downloading Pillow-2.5.3.zip (6.9MB):  15%  1.0MB\r",
        "  Downloading Pillow-2.5.3.zip (6.9MB):  15%  1.0MB\r",
        "  Downloading Pillow-2.5.3.zip (6.9MB):  15%  1.0MB\r",
        "  Downloading Pillow-2.5.3.zip (6.9MB):  15%  1.1MB\r",
        "  Downloading Pillow-2.5.3.zip (6.9MB):  15%  1.1MB\r",
        "  Downloading Pillow-2.5.3.zip (6.9MB):  15%  1.1MB\r",
        "  Downloading Pillow-2.5.3.zip (6.9MB):  15%  1.1MB\r",
        "  Downloading Pillow-2.5.3.zip (6.9MB):  15%  1.1MB\r",
        "  Downloading Pillow-2.5.3.zip (6.9MB):  15%  1.1MB\r",
        "  Downloading Pillow-2.5.3.zip (6.9MB):  15%  1.1MB\r",
        "  Downloading Pillow-2.5.3.zip (6.9MB):  15%  1.1MB\r",
        "  Downloading Pillow-2.5.3.zip (6.9MB):  15%  1.1MB\r",
        "  Downloading Pillow-2.5.3.zip (6.9MB):  15%  1.1MB\r",
        "  Downloading Pillow-2.5.3.zip (6.9MB):  15%  1.1MB\r",
        "  Downloading Pillow-2.5.3.zip (6.9MB):  15%  1.1MB\r",
        "  Downloading Pillow-2.5.3.zip (6.9MB):  16%  1.1MB\r",
        "  Downloading Pillow-2.5.3.zip (6.9MB):  16%  1.1MB\r",
        "  Downloading Pillow-2.5.3.zip (6.9MB):  16%  1.1MB\r",
        "  Downloading Pillow-2.5.3.zip (6.9MB):  16%  1.1MB\r",
        "  Downloading Pillow-2.5.3.zip (6.9MB):  16%  1.1MB\r",
        "  Downloading Pillow-2.5.3.zip (6.9MB):  16%  1.1MB\r",
        "  Downloading Pillow-2.5.3.zip (6.9MB):  16%  1.1MB\r",
        "  Downloading Pillow-2.5.3.zip (6.9MB):  16%  1.1MB\r",
        "  Downloading Pillow-2.5.3.zip (6.9MB):  16%  1.1MB\r",
        "  Downloading Pillow-2.5.3.zip (6.9MB):  16%  1.1MB\r",
        "  Downloading Pillow-2.5.3.zip (6.9MB):  16%  1.1MB\r",
        "  Downloading Pillow-2.5.3.zip (6.9MB):  16%  1.1MB\r",
        "  Downloading Pillow-2.5.3.zip (6.9MB):  16%  1.2MB\r",
        "  Downloading Pillow-2.5.3.zip (6.9MB):  16%  1.2MB\r",
        "  Downloading Pillow-2.5.3.zip (6.9MB):  16%  1.2MB\r",
        "  Downloading Pillow-2.5.3.zip (6.9MB):  16%  1.2MB\r",
        "  Downloading Pillow-2.5.3.zip (6.9MB):  16%  1.2MB\r",
        "  Downloading Pillow-2.5.3.zip (6.9MB):  17%  1.2MB\r",
        "  Downloading Pillow-2.5.3.zip (6.9MB):  17%  1.2MB\r",
        "  Downloading Pillow-2.5.3.zip (6.9MB):  17%  1.2MB\r",
        "  Downloading Pillow-2.5.3.zip (6.9MB):  17%  1.2MB\r",
        "  Downloading Pillow-2.5.3.zip (6.9MB):  17%  1.2MB"
       ]
      },
      {
       "output_type": "stream",
       "stream": "stdout",
       "text": [
        "\r",
        "  Downloading Pillow-2.5.3.zip (6.9MB):  17%  1.2MB\r",
        "  Downloading Pillow-2.5.3.zip (6.9MB):  17%  1.2MB\r",
        "  Downloading Pillow-2.5.3.zip (6.9MB):  17%  1.2MB\r",
        "  Downloading Pillow-2.5.3.zip (6.9MB):  17%  1.2MB\r",
        "  Downloading Pillow-2.5.3.zip (6.9MB):  17%  1.2MB\r",
        "  Downloading Pillow-2.5.3.zip (6.9MB):  17%  1.2MB\r",
        "  Downloading Pillow-2.5.3.zip (6.9MB):  17%  1.2MB\r",
        "  Downloading Pillow-2.5.3.zip (6.9MB):  17%  1.2MB\r",
        "  Downloading Pillow-2.5.3.zip (6.9MB):  17%  1.2MB\r",
        "  Downloading Pillow-2.5.3.zip (6.9MB):  17%  1.2MB\r",
        "  Downloading Pillow-2.5.3.zip (6.9MB):  17%  1.2MB\r",
        "  Downloading Pillow-2.5.3.zip (6.9MB):  17%  1.2MB\r",
        "  Downloading Pillow-2.5.3.zip (6.9MB):  18%  1.2MB\r",
        "  Downloading Pillow-2.5.3.zip (6.9MB):  18%  1.2MB\r",
        "  Downloading Pillow-2.5.3.zip (6.9MB):  18%  1.2MB\r",
        "  Downloading Pillow-2.5.3.zip (6.9MB):  18%  1.3MB\r",
        "  Downloading Pillow-2.5.3.zip (6.9MB):  18%  1.3MB\r",
        "  Downloading Pillow-2.5.3.zip (6.9MB):  18%  1.3MB\r",
        "  Downloading Pillow-2.5.3.zip (6.9MB):  18%  1.3MB\r",
        "  Downloading Pillow-2.5.3.zip (6.9MB):  18%  1.3MB\r",
        "  Downloading Pillow-2.5.3.zip (6.9MB):  18%  1.3MB\r",
        "  Downloading Pillow-2.5.3.zip (6.9MB):  18%  1.3MB\r",
        "  Downloading Pillow-2.5.3.zip (6.9MB):  18%  1.3MB\r",
        "  Downloading Pillow-2.5.3.zip (6.9MB):  18%  1.3MB\r",
        "  Downloading Pillow-2.5.3.zip (6.9MB):  18%  1.3MB\r",
        "  Downloading Pillow-2.5.3.zip (6.9MB):  18%  1.3MB\r",
        "  Downloading Pillow-2.5.3.zip (6.9MB):  18%  1.3MB\r",
        "  Downloading Pillow-2.5.3.zip (6.9MB):  18%  1.3MB\r",
        "  Downloading Pillow-2.5.3.zip (6.9MB):  19%  1.3MB\r",
        "  Downloading Pillow-2.5.3.zip (6.9MB):  19%  1.3MB\r",
        "  Downloading Pillow-2.5.3.zip (6.9MB):  19%  1.3MB\r",
        "  Downloading Pillow-2.5.3.zip (6.9MB):  19%  1.3MB\r",
        "  Downloading Pillow-2.5.3.zip (6.9MB):  19%  1.3MB\r",
        "  Downloading Pillow-2.5.3.zip (6.9MB):  19%  1.3MB\r",
        "  Downloading Pillow-2.5.3.zip (6.9MB):  19%  1.3MB\r",
        "  Downloading Pillow-2.5.3.zip (6.9MB):  19%  1.3MB\r",
        "  Downloading Pillow-2.5.3.zip (6.9MB):  19%  1.3MB\r",
        "  Downloading Pillow-2.5.3.zip (6.9MB):  19%  1.3MB\r",
        "  Downloading Pillow-2.5.3.zip (6.9MB):  19%  1.3MB\r",
        "  Downloading Pillow-2.5.3.zip (6.9MB):  19%  1.4MB\r",
        "  Downloading Pillow-2.5.3.zip (6.9MB):  19%  1.4MB\r",
        "  Downloading Pillow-2.5.3.zip (6.9MB):  19%  1.4MB\r",
        "  Downloading Pillow-2.5.3.zip (6.9MB):  19%  1.4MB\r",
        "  Downloading Pillow-2.5.3.zip (6.9MB):  19%  1.4MB\r",
        "  Downloading Pillow-2.5.3.zip (6.9MB):  19%  1.4MB\r",
        "  Downloading Pillow-2.5.3.zip (6.9MB):  20%  1.4MB\r",
        "  Downloading Pillow-2.5.3.zip (6.9MB):  20%  1.4MB"
       ]
      },
      {
       "output_type": "stream",
       "stream": "stdout",
       "text": [
        "\r",
        "  Downloading Pillow-2.5.3.zip (6.9MB):  20%  1.4MB\r",
        "  Downloading Pillow-2.5.3.zip (6.9MB):  20%  1.4MB\r",
        "  Downloading Pillow-2.5.3.zip (6.9MB):  20%  1.4MB\r",
        "  Downloading Pillow-2.5.3.zip (6.9MB):  20%  1.4MB\r",
        "  Downloading Pillow-2.5.3.zip (6.9MB):  20%  1.4MB\r",
        "  Downloading Pillow-2.5.3.zip (6.9MB):  20%  1.4MB\r",
        "  Downloading Pillow-2.5.3.zip (6.9MB):  20%  1.4MB\r",
        "  Downloading Pillow-2.5.3.zip (6.9MB):  20%  1.4MB\r",
        "  Downloading Pillow-2.5.3.zip (6.9MB):  20%  1.4MB\r",
        "  Downloading Pillow-2.5.3.zip (6.9MB):  20%  1.4MB\r",
        "  Downloading Pillow-2.5.3.zip (6.9MB):  20%  1.4MB\r",
        "  Downloading Pillow-2.5.3.zip (6.9MB):  20%  1.4MB\r",
        "  Downloading Pillow-2.5.3.zip (6.9MB):  20%  1.4MB\r",
        "  Downloading Pillow-2.5.3.zip (6.9MB):  20%  1.4MB\r",
        "  Downloading Pillow-2.5.3.zip (6.9MB):  20%  1.4MB\r",
        "  Downloading Pillow-2.5.3.zip (6.9MB):  21%  1.4MB\r",
        "  Downloading Pillow-2.5.3.zip (6.9MB):  21%  1.4MB\r",
        "  Downloading Pillow-2.5.3.zip (6.9MB):  21%  1.5MB\r",
        "  Downloading Pillow-2.5.3.zip (6.9MB):  21%  1.5MB\r",
        "  Downloading Pillow-2.5.3.zip (6.9MB):  21%  1.5MB\r",
        "  Downloading Pillow-2.5.3.zip (6.9MB):  21%  1.5MB\r",
        "  Downloading Pillow-2.5.3.zip (6.9MB):  21%  1.5MB\r",
        "  Downloading Pillow-2.5.3.zip (6.9MB):  21%  1.5MB\r",
        "  Downloading Pillow-2.5.3.zip (6.9MB):  21%  1.5MB\r",
        "  Downloading Pillow-2.5.3.zip (6.9MB):  21%  1.5MB\r",
        "  Downloading Pillow-2.5.3.zip (6.9MB):  21%  1.5MB\r",
        "  Downloading Pillow-2.5.3.zip (6.9MB):  21%  1.5MB\r",
        "  Downloading Pillow-2.5.3.zip (6.9MB):  21%  1.5MB\r",
        "  Downloading Pillow-2.5.3.zip (6.9MB):  21%  1.5MB\r",
        "  Downloading Pillow-2.5.3.zip (6.9MB):  21%  1.5MB\r",
        "  Downloading Pillow-2.5.3.zip (6.9MB):  21%  1.5MB\r",
        "  Downloading Pillow-2.5.3.zip (6.9MB):  21%  1.5MB\r",
        "  Downloading Pillow-2.5.3.zip (6.9MB):  22%  1.5MB\r",
        "  Downloading Pillow-2.5.3.zip (6.9MB):  22%  1.5MB\r",
        "  Downloading Pillow-2.5.3.zip (6.9MB):  22%  1.5MB\r",
        "  Downloading Pillow-2.5.3.zip (6.9MB):  22%  1.5MB\r",
        "  Downloading Pillow-2.5.3.zip (6.9MB):  22%  1.5MB\r",
        "  Downloading Pillow-2.5.3.zip (6.9MB):  22%  1.5MB\r",
        "  Downloading Pillow-2.5.3.zip (6.9MB):  22%  1.5MB\r",
        "  Downloading Pillow-2.5.3.zip (6.9MB):  22%  1.5MB\r",
        "  Downloading Pillow-2.5.3.zip (6.9MB):  22%  1.5MB\r",
        "  Downloading Pillow-2.5.3.zip (6.9MB):  22%  1.6MB\r",
        "  Downloading Pillow-2.5.3.zip (6.9MB):  22%  1.6MB\r",
        "  Downloading Pillow-2.5.3.zip (6.9MB):  22%  1.6MB\r",
        "  Downloading Pillow-2.5.3.zip (6.9MB):  22%  1.6MB\r",
        "  Downloading Pillow-2.5.3.zip (6.9MB):  22%  1.6MB\r",
        "  Downloading Pillow-2.5.3.zip (6.9MB):  22%  1.6MB\r",
        "  Downloading Pillow-2.5.3.zip (6.9MB):  22%  1.6MB\r",
        "  Downloading Pillow-2.5.3.zip (6.9MB):  23%  1.6MB\r",
        "  Downloading Pillow-2.5.3.zip (6.9MB):  23%  1.6MB\r",
        "  Downloading Pillow-2.5.3.zip (6.9MB):  23%  1.6MB\r",
        "  Downloading Pillow-2.5.3.zip (6.9MB):  23%  1.6MB\r",
        "  Downloading Pillow-2.5.3.zip (6.9MB):  23%  1.6MB\r",
        "  Downloading Pillow-2.5.3.zip (6.9MB):  23%  1.6MB\r",
        "  Downloading Pillow-2.5.3.zip (6.9MB):  23%  1.6MB\r",
        "  Downloading Pillow-2.5.3.zip (6.9MB):  23%  1.6MB\r",
        "  Downloading Pillow-2.5.3.zip (6.9MB):  23%  1.6MB\r",
        "  Downloading Pillow-2.5.3.zip (6.9MB):  23%  1.6MB\r",
        "  Downloading Pillow-2.5.3.zip (6.9MB):  23%  1.6MB\r",
        "  Downloading Pillow-2.5.3.zip (6.9MB):  23%  1.6MB\r",
        "  Downloading Pillow-2.5.3.zip (6.9MB):  23%  1.6MB\r",
        "  Downloading Pillow-2.5.3.zip (6.9MB):  23%  1.6MB\r",
        "  Downloading Pillow-2.5.3.zip (6.9MB):  23%  1.6MB\r",
        "  Downloading Pillow-2.5.3.zip (6.9MB):  23%  1.6MB\r",
        "  Downloading Pillow-2.5.3.zip (6.9MB):  23%  1.6MB\r",
        "  Downloading Pillow-2.5.3.zip (6.9MB):  24%  1.7MB\r",
        "  Downloading Pillow-2.5.3.zip (6.9MB):  24%  1.7MB\r",
        "  Downloading Pillow-2.5.3.zip (6.9MB):  24%  1.7MB\r",
        "  Downloading Pillow-2.5.3.zip (6.9MB):  24%  1.7MB\r",
        "  Downloading Pillow-2.5.3.zip (6.9MB):  24%  1.7MB\r",
        "  Downloading Pillow-2.5.3.zip (6.9MB):  24%  1.7MB\r",
        "  Downloading Pillow-2.5.3.zip (6.9MB):  24%  1.7MB\r",
        "  Downloading Pillow-2.5.3.zip (6.9MB):  24%  1.7MB\r",
        "  Downloading Pillow-2.5.3.zip (6.9MB):  24%  1.7MB\r",
        "  Downloading Pillow-2.5.3.zip (6.9MB):  24%  1.7MB\r",
        "  Downloading Pillow-2.5.3.zip (6.9MB):  24%  1.7MB\r",
        "  Downloading Pillow-2.5.3.zip (6.9MB):  24%  1.7MB\r",
        "  Downloading Pillow-2.5.3.zip (6.9MB):  24%  1.7MB\r",
        "  Downloading Pillow-2.5.3.zip (6.9MB):  24%  1.7MB\r",
        "  Downloading Pillow-2.5.3.zip (6.9MB):  24%  1.7MB\r",
        "  Downloading Pillow-2.5.3.zip (6.9MB):  24%  1.7MB\r",
        "  Downloading Pillow-2.5.3.zip (6.9MB):  24%  1.7MB\r",
        "  Downloading Pillow-2.5.3.zip (6.9MB):  25%  1.7MB\r",
        "  Downloading Pillow-2.5.3.zip (6.9MB):  25%  1.7MB\r",
        "  Downloading Pillow-2.5.3.zip (6.9MB):  25%  1.7MB\r",
        "  Downloading Pillow-2.5.3.zip (6.9MB):  25%  1.7MB\r",
        "  Downloading Pillow-2.5.3.zip (6.9MB):  25%  1.7MB\r",
        "  Downloading Pillow-2.5.3.zip (6.9MB):  25%  1.7MB\r",
        "  Downloading Pillow-2.5.3.zip (6.9MB):  25%  1.7MB\r",
        "  Downloading Pillow-2.5.3.zip (6.9MB):  25%  1.7MB\r",
        "  Downloading Pillow-2.5.3.zip (6.9MB):  25%  1.8MB\r",
        "  Downloading Pillow-2.5.3.zip (6.9MB):  25%  1.8MB\r",
        "  Downloading Pillow-2.5.3.zip (6.9MB):  25%  1.8MB\r",
        "  Downloading Pillow-2.5.3.zip (6.9MB):  25%  1.8MB\r",
        "  Downloading Pillow-2.5.3.zip (6.9MB):  25%  1.8MB\r",
        "  Downloading Pillow-2.5.3.zip (6.9MB):  25%  1.8MB\r",
        "  Downloading Pillow-2.5.3.zip (6.9MB):  25%  1.8MB\r",
        "  Downloading Pillow-2.5.3.zip (6.9MB):  25%  1.8MB\r",
        "  Downloading Pillow-2.5.3.zip (6.9MB):  25%  1.8MB\r",
        "  Downloading Pillow-2.5.3.zip (6.9MB):  26%  1.8MB\r",
        "  Downloading Pillow-2.5.3.zip (6.9MB):  26%  1.8MB\r",
        "  Downloading Pillow-2.5.3.zip (6.9MB):  26%  1.8MB\r",
        "  Downloading Pillow-2.5.3.zip (6.9MB):  26%  1.8MB\r",
        "  Downloading Pillow-2.5.3.zip (6.9MB):  26%  1.8MB\r",
        "  Downloading Pillow-2.5.3.zip (6.9MB):  26%  1.8MB\r",
        "  Downloading Pillow-2.5.3.zip (6.9MB):  26%  1.8MB\r",
        "  Downloading Pillow-2.5.3.zip (6.9MB):  26%  1.8MB\r",
        "  Downloading Pillow-2.5.3.zip (6.9MB):  26%  1.8MB\r",
        "  Downloading Pillow-2.5.3.zip (6.9MB):  26%  1.8MB\r",
        "  Downloading Pillow-2.5.3.zip (6.9MB):  26%  1.8MB\r",
        "  Downloading Pillow-2.5.3.zip (6.9MB):  26%  1.8MB\r",
        "  Downloading Pillow-2.5.3.zip (6.9MB):  26%  1.8MB\r",
        "  Downloading Pillow-2.5.3.zip (6.9MB):  26%  1.8MB\r",
        "  Downloading Pillow-2.5.3.zip (6.9MB):  26%  1.8MB\r",
        "  Downloading Pillow-2.5.3.zip (6.9MB):  26%  1.9MB\r",
        "  Downloading Pillow-2.5.3.zip (6.9MB):  26%  1.9MB\r",
        "  Downloading Pillow-2.5.3.zip (6.9MB):  27%  1.9MB\r",
        "  Downloading Pillow-2.5.3.zip (6.9MB):  27%  1.9MB\r",
        "  Downloading Pillow-2.5.3.zip (6.9MB):  27%  1.9MB\r",
        "  Downloading Pillow-2.5.3.zip (6.9MB):  27%  1.9MB\r",
        "  Downloading Pillow-2.5.3.zip (6.9MB):  27%  1.9MB\r",
        "  Downloading Pillow-2.5.3.zip (6.9MB):  27%  1.9MB\r",
        "  Downloading Pillow-2.5.3.zip (6.9MB):  27%  1.9MB\r",
        "  Downloading Pillow-2.5.3.zip (6.9MB):  27%  1.9MB\r",
        "  Downloading Pillow-2.5.3.zip (6.9MB):  27%  1.9MB\r",
        "  Downloading Pillow-2.5.3.zip (6.9MB):  27%  1.9MB\r",
        "  Downloading Pillow-2.5.3.zip (6.9MB):  27%  1.9MB"
       ]
      },
      {
       "output_type": "stream",
       "stream": "stdout",
       "text": [
        "\r",
        "  Downloading Pillow-2.5.3.zip (6.9MB):  27%  1.9MB\r",
        "  Downloading Pillow-2.5.3.zip (6.9MB):  27%  1.9MB\r",
        "  Downloading Pillow-2.5.3.zip (6.9MB):  27%  1.9MB\r",
        "  Downloading Pillow-2.5.3.zip (6.9MB):  27%  1.9MB\r",
        "  Downloading Pillow-2.5.3.zip (6.9MB):  27%  1.9MB\r",
        "  Downloading Pillow-2.5.3.zip (6.9MB):  28%  1.9MB\r",
        "  Downloading Pillow-2.5.3.zip (6.9MB):  28%  1.9MB\r",
        "  Downloading Pillow-2.5.3.zip (6.9MB):  28%  1.9MB\r",
        "  Downloading Pillow-2.5.3.zip (6.9MB):  28%  1.9MB\r",
        "  Downloading Pillow-2.5.3.zip (6.9MB):  28%  1.9MB\r",
        "  Downloading Pillow-2.5.3.zip (6.9MB):  28%  1.9MB\r",
        "  Downloading Pillow-2.5.3.zip (6.9MB):  28%  1.9MB\r",
        "  Downloading Pillow-2.5.3.zip (6.9MB):  28%  2.0MB\r",
        "  Downloading Pillow-2.5.3.zip (6.9MB):  28%  2.0MB\r",
        "  Downloading Pillow-2.5.3.zip (6.9MB):  28%  2.0MB\r",
        "  Downloading Pillow-2.5.3.zip (6.9MB):  28%  2.0MB\r",
        "  Downloading Pillow-2.5.3.zip (6.9MB):  28%  2.0MB\r",
        "  Downloading Pillow-2.5.3.zip (6.9MB):  28%  2.0MB\r",
        "  Downloading Pillow-2.5.3.zip (6.9MB):  28%  2.0MB\r",
        "  Downloading Pillow-2.5.3.zip (6.9MB):  28%  2.0MB\r",
        "  Downloading Pillow-2.5.3.zip (6.9MB):  28%  2.0MB\r",
        "  Downloading Pillow-2.5.3.zip (6.9MB):  28%  2.0MB\r",
        "  Downloading Pillow-2.5.3.zip (6.9MB):  29%  2.0MB\r",
        "  Downloading Pillow-2.5.3.zip (6.9MB):  29%  2.0MB\r",
        "  Downloading Pillow-2.5.3.zip (6.9MB):  29%  2.0MB\r",
        "  Downloading Pillow-2.5.3.zip (6.9MB):  29%  2.0MB\r",
        "  Downloading Pillow-2.5.3.zip (6.9MB):  29%  2.0MB\r",
        "  Downloading Pillow-2.5.3.zip (6.9MB):  29%  2.0MB\r",
        "  Downloading Pillow-2.5.3.zip (6.9MB):  29%  2.0MB\r",
        "  Downloading Pillow-2.5.3.zip (6.9MB):  29%  2.0MB\r",
        "  Downloading Pillow-2.5.3.zip (6.9MB):  29%  2.0MB\r",
        "  Downloading Pillow-2.5.3.zip (6.9MB):  29%  2.0MB\r",
        "  Downloading Pillow-2.5.3.zip (6.9MB):  29%  2.0MB\r",
        "  Downloading Pillow-2.5.3.zip (6.9MB):  29%  2.0MB\r",
        "  Downloading Pillow-2.5.3.zip (6.9MB):  29%  2.0MB\r",
        "  Downloading Pillow-2.5.3.zip (6.9MB):  29%  2.0MB\r",
        "  Downloading Pillow-2.5.3.zip (6.9MB):  29%  2.1MB\r",
        "  Downloading Pillow-2.5.3.zip (6.9MB):  29%  2.1MB\r",
        "  Downloading Pillow-2.5.3.zip (6.9MB):  29%  2.1MB\r",
        "  Downloading Pillow-2.5.3.zip (6.9MB):  30%  2.1MB\r",
        "  Downloading Pillow-2.5.3.zip (6.9MB):  30%  2.1MB\r",
        "  Downloading Pillow-2.5.3.zip (6.9MB):  30%  2.1MB\r",
        "  Downloading Pillow-2.5.3.zip (6.9MB):  30%  2.1MB\r",
        "  Downloading Pillow-2.5.3.zip (6.9MB):  30%  2.1MB\r",
        "  Downloading Pillow-2.5.3.zip (6.9MB):  30%  2.1MB\r",
        "  Downloading Pillow-2.5.3.zip (6.9MB):  30%  2.1MB\r",
        "  Downloading Pillow-2.5.3.zip (6.9MB):  30%  2.1MB\r",
        "  Downloading Pillow-2.5.3.zip (6.9MB):  30%  2.1MB\r",
        "  Downloading Pillow-2.5.3.zip (6.9MB):  30%  2.1MB\r",
        "  Downloading Pillow-2.5.3.zip (6.9MB):  30%  2.1MB\r",
        "  Downloading Pillow-2.5.3.zip (6.9MB):  30%  2.1MB\r",
        "  Downloading Pillow-2.5.3.zip (6.9MB):  30%  2.1MB\r",
        "  Downloading Pillow-2.5.3.zip (6.9MB):  30%  2.1MB\r",
        "  Downloading Pillow-2.5.3.zip (6.9MB):  30%  2.1MB\r",
        "  Downloading Pillow-2.5.3.zip (6.9MB):  30%  2.1MB\r",
        "  Downloading Pillow-2.5.3.zip (6.9MB):  30%  2.1MB\r",
        "  Downloading Pillow-2.5.3.zip (6.9MB):  31%  2.1MB\r",
        "  Downloading Pillow-2.5.3.zip (6.9MB):  31%  2.1MB\r",
        "  Downloading Pillow-2.5.3.zip (6.9MB):  31%  2.1MB\r",
        "  Downloading Pillow-2.5.3.zip (6.9MB):  31%  2.1MB\r",
        "  Downloading Pillow-2.5.3.zip (6.9MB):  31%  2.2MB\r",
        "  Downloading Pillow-2.5.3.zip (6.9MB):  31%  2.2MB\r",
        "  Downloading Pillow-2.5.3.zip (6.9MB):  31%  2.2MB\r",
        "  Downloading Pillow-2.5.3.zip (6.9MB):  31%  2.2MB\r",
        "  Downloading Pillow-2.5.3.zip (6.9MB):  31%  2.2MB\r",
        "  Downloading Pillow-2.5.3.zip (6.9MB):  31%  2.2MB\r",
        "  Downloading Pillow-2.5.3.zip (6.9MB):  31%  2.2MB\r",
        "  Downloading Pillow-2.5.3.zip (6.9MB):  31%  2.2MB\r",
        "  Downloading Pillow-2.5.3.zip (6.9MB):  31%  2.2MB\r",
        "  Downloading Pillow-2.5.3.zip (6.9MB):  31%  2.2MB\r",
        "  Downloading Pillow-2.5.3.zip (6.9MB):  31%  2.2MB\r",
        "  Downloading Pillow-2.5.3.zip (6.9MB):  31%  2.2MB\r",
        "  Downloading Pillow-2.5.3.zip (6.9MB):  32%  2.2MB\r",
        "  Downloading Pillow-2.5.3.zip (6.9MB):  32%  2.2MB\r",
        "  Downloading Pillow-2.5.3.zip (6.9MB):  32%  2.2MB\r",
        "  Downloading Pillow-2.5.3.zip (6.9MB):  32%  2.2MB\r",
        "  Downloading Pillow-2.5.3.zip (6.9MB):  32%  2.2MB\r",
        "  Downloading Pillow-2.5.3.zip (6.9MB):  32%  2.2MB\r",
        "  Downloading Pillow-2.5.3.zip (6.9MB):  32%  2.2MB\r",
        "  Downloading Pillow-2.5.3.zip (6.9MB):  32%  2.2MB\r",
        "  Downloading Pillow-2.5.3.zip (6.9MB):  32%  2.2MB\r",
        "  Downloading Pillow-2.5.3.zip (6.9MB):  32%  2.2MB\r",
        "  Downloading Pillow-2.5.3.zip (6.9MB):  32%  2.2MB\r",
        "  Downloading Pillow-2.5.3.zip (6.9MB):  32%  2.2MB\r",
        "  Downloading Pillow-2.5.3.zip (6.9MB):  32%  2.2MB\r",
        "  Downloading Pillow-2.5.3.zip (6.9MB):  32%  2.3MB\r",
        "  Downloading Pillow-2.5.3.zip (6.9MB):  32%  2.3MB\r",
        "  Downloading Pillow-2.5.3.zip (6.9MB):  32%  2.3MB"
       ]
      },
      {
       "output_type": "stream",
       "stream": "stdout",
       "text": [
        "\r",
        "  Downloading Pillow-2.5.3.zip (6.9MB):  32%  2.3MB\r",
        "  Downloading Pillow-2.5.3.zip (6.9MB):  33%  2.3MB\r",
        "  Downloading Pillow-2.5.3.zip (6.9MB):  33%  2.3MB\r",
        "  Downloading Pillow-2.5.3.zip (6.9MB):  33%  2.3MB\r",
        "  Downloading Pillow-2.5.3.zip (6.9MB):  33%  2.3MB\r",
        "  Downloading Pillow-2.5.3.zip (6.9MB):  33%  2.3MB\r",
        "  Downloading Pillow-2.5.3.zip (6.9MB):  33%  2.3MB\r",
        "  Downloading Pillow-2.5.3.zip (6.9MB):  33%  2.3MB\r",
        "  Downloading Pillow-2.5.3.zip (6.9MB):  33%  2.3MB\r",
        "  Downloading Pillow-2.5.3.zip (6.9MB):  33%  2.3MB\r",
        "  Downloading Pillow-2.5.3.zip (6.9MB):  33%  2.3MB\r",
        "  Downloading Pillow-2.5.3.zip (6.9MB):  33%  2.3MB\r",
        "  Downloading Pillow-2.5.3.zip (6.9MB):  33%  2.3MB\r",
        "  Downloading Pillow-2.5.3.zip (6.9MB):  33%  2.3MB\r",
        "  Downloading Pillow-2.5.3.zip (6.9MB):  33%  2.3MB\r",
        "  Downloading Pillow-2.5.3.zip (6.9MB):  33%  2.3MB\r",
        "  Downloading Pillow-2.5.3.zip (6.9MB):  33%  2.3MB\r",
        "  Downloading Pillow-2.5.3.zip (6.9MB):  33%  2.3MB\r",
        "  Downloading Pillow-2.5.3.zip (6.9MB):  34%  2.3MB\r",
        "  Downloading Pillow-2.5.3.zip (6.9MB):  34%  2.3MB\r",
        "  Downloading Pillow-2.5.3.zip (6.9MB):  34%  2.3MB\r",
        "  Downloading Pillow-2.5.3.zip (6.9MB):  34%  2.4MB\r",
        "  Downloading Pillow-2.5.3.zip (6.9MB):  34%  2.4MB\r",
        "  Downloading Pillow-2.5.3.zip (6.9MB):  34%  2.4MB\r",
        "  Downloading Pillow-2.5.3.zip (6.9MB):  34%  2.4MB\r",
        "  Downloading Pillow-2.5.3.zip (6.9MB):  34%  2.4MB\r",
        "  Downloading Pillow-2.5.3.zip (6.9MB):  34%  2.4MB\r",
        "  Downloading Pillow-2.5.3.zip (6.9MB):  34%  2.4MB\r",
        "  Downloading Pillow-2.5.3.zip (6.9MB):  34%  2.4MB\r",
        "  Downloading Pillow-2.5.3.zip (6.9MB):  34%  2.4MB\r",
        "  Downloading Pillow-2.5.3.zip (6.9MB):  34%  2.4MB\r",
        "  Downloading Pillow-2.5.3.zip (6.9MB):  34%  2.4MB\r",
        "  Downloading Pillow-2.5.3.zip (6.9MB):  34%  2.4MB\r",
        "  Downloading Pillow-2.5.3.zip (6.9MB):  34%  2.4MB\r",
        "  Downloading Pillow-2.5.3.zip (6.9MB):  34%  2.4MB\r",
        "  Downloading Pillow-2.5.3.zip (6.9MB):  35%  2.4MB\r",
        "  Downloading Pillow-2.5.3.zip (6.9MB):  35%  2.4MB\r",
        "  Downloading Pillow-2.5.3.zip (6.9MB):  35%  2.4MB\r",
        "  Downloading Pillow-2.5.3.zip (6.9MB):  35%  2.4MB\r",
        "  Downloading Pillow-2.5.3.zip (6.9MB):  35%  2.4MB\r",
        "  Downloading Pillow-2.5.3.zip (6.9MB):  35%  2.4MB\r",
        "  Downloading Pillow-2.5.3.zip (6.9MB):  35%  2.4MB\r",
        "  Downloading Pillow-2.5.3.zip (6.9MB):  35%  2.4MB\r",
        "  Downloading Pillow-2.5.3.zip (6.9MB):  35%  2.4MB\r",
        "  Downloading Pillow-2.5.3.zip (6.9MB):  35%  2.4MB\r",
        "  Downloading Pillow-2.5.3.zip (6.9MB):  35%  2.4MB\r",
        "  Downloading Pillow-2.5.3.zip (6.9MB):  35%  2.5MB\r",
        "  Downloading Pillow-2.5.3.zip (6.9MB):  35%  2.5MB\r",
        "  Downloading Pillow-2.5.3.zip (6.9MB):  35%  2.5MB\r",
        "  Downloading Pillow-2.5.3.zip (6.9MB):  35%  2.5MB\r",
        "  Downloading Pillow-2.5.3.zip (6.9MB):  35%  2.5MB\r",
        "  Downloading Pillow-2.5.3.zip (6.9MB):  35%  2.5MB\r",
        "  Downloading Pillow-2.5.3.zip (6.9MB):  36%  2.5MB\r",
        "  Downloading Pillow-2.5.3.zip (6.9MB):  36%  2.5MB\r",
        "  Downloading Pillow-2.5.3.zip (6.9MB):  36%  2.5MB\r",
        "  Downloading Pillow-2.5.3.zip (6.9MB):  36%  2.5MB\r",
        "  Downloading Pillow-2.5.3.zip (6.9MB):  36%  2.5MB\r",
        "  Downloading Pillow-2.5.3.zip (6.9MB):  36%  2.5MB\r",
        "  Downloading Pillow-2.5.3.zip (6.9MB):  36%  2.5MB\r",
        "  Downloading Pillow-2.5.3.zip (6.9MB):  36%  2.5MB\r",
        "  Downloading Pillow-2.5.3.zip (6.9MB):  36%  2.5MB\r",
        "  Downloading Pillow-2.5.3.zip (6.9MB):  36%  2.5MB\r",
        "  Downloading Pillow-2.5.3.zip (6.9MB):  36%  2.5MB\r",
        "  Downloading Pillow-2.5.3.zip (6.9MB):  36%  2.5MB\r",
        "  Downloading Pillow-2.5.3.zip (6.9MB):  36%  2.5MB\r",
        "  Downloading Pillow-2.5.3.zip (6.9MB):  36%  2.5MB\r",
        "  Downloading Pillow-2.5.3.zip (6.9MB):  36%  2.5MB\r",
        "  Downloading Pillow-2.5.3.zip (6.9MB):  36%  2.5MB\r",
        "  Downloading Pillow-2.5.3.zip (6.9MB):  37%  2.5MB\r",
        "  Downloading Pillow-2.5.3.zip (6.9MB):  37%  2.5MB\r",
        "  Downloading Pillow-2.5.3.zip (6.9MB):  37%  2.6MB\r",
        "  Downloading Pillow-2.5.3.zip (6.9MB):  37%  2.6MB\r",
        "  Downloading Pillow-2.5.3.zip (6.9MB):  37%  2.6MB\r",
        "  Downloading Pillow-2.5.3.zip (6.9MB):  37%  2.6MB\r",
        "  Downloading Pillow-2.5.3.zip (6.9MB):  37%  2.6MB\r",
        "  Downloading Pillow-2.5.3.zip (6.9MB):  37%  2.6MB\r",
        "  Downloading Pillow-2.5.3.zip (6.9MB):  37%  2.6MB\r",
        "  Downloading Pillow-2.5.3.zip (6.9MB):  37%  2.6MB\r",
        "  Downloading Pillow-2.5.3.zip (6.9MB):  37%  2.6MB\r",
        "  Downloading Pillow-2.5.3.zip (6.9MB):  37%  2.6MB\r",
        "  Downloading Pillow-2.5.3.zip (6.9MB):  37%  2.6MB\r",
        "  Downloading Pillow-2.5.3.zip (6.9MB):  37%  2.6MB\r",
        "  Downloading Pillow-2.5.3.zip (6.9MB):  37%  2.6MB\r",
        "  Downloading Pillow-2.5.3.zip (6.9MB):  37%  2.6MB\r",
        "  Downloading Pillow-2.5.3.zip (6.9MB):  37%  2.6MB"
       ]
      },
      {
       "output_type": "stream",
       "stream": "stdout",
       "text": [
        "\r",
        "  Downloading Pillow-2.5.3.zip (6.9MB):  38%  2.6MB\r",
        "  Downloading Pillow-2.5.3.zip (6.9MB):  38%  2.6MB\r",
        "  Downloading Pillow-2.5.3.zip (6.9MB):  38%  2.6MB\r",
        "  Downloading Pillow-2.5.3.zip (6.9MB):  38%  2.6MB\r",
        "  Downloading Pillow-2.5.3.zip (6.9MB):  38%  2.6MB\r",
        "  Downloading Pillow-2.5.3.zip (6.9MB):  38%  2.6MB\r",
        "  Downloading Pillow-2.5.3.zip (6.9MB):  38%  2.6MB\r",
        "  Downloading Pillow-2.5.3.zip (6.9MB):  38%  2.6MB\r",
        "  Downloading Pillow-2.5.3.zip (6.9MB):  38%  2.6MB\r",
        "  Downloading Pillow-2.5.3.zip (6.9MB):  38%  2.7MB\r",
        "  Downloading Pillow-2.5.3.zip (6.9MB):  38%  2.7MB\r",
        "  Downloading Pillow-2.5.3.zip (6.9MB):  38%  2.7MB\r",
        "  Downloading Pillow-2.5.3.zip (6.9MB):  38%  2.7MB\r",
        "  Downloading Pillow-2.5.3.zip (6.9MB):  38%  2.7MB\r",
        "  Downloading Pillow-2.5.3.zip (6.9MB):  38%  2.7MB\r",
        "  Downloading Pillow-2.5.3.zip (6.9MB):  38%  2.7MB\r",
        "  Downloading Pillow-2.5.3.zip (6.9MB):  38%  2.7MB\r",
        "  Downloading Pillow-2.5.3.zip (6.9MB):  39%  2.7MB\r",
        "  Downloading Pillow-2.5.3.zip (6.9MB):  39%  2.7MB\r",
        "  Downloading Pillow-2.5.3.zip (6.9MB):  39%  2.7MB\r",
        "  Downloading Pillow-2.5.3.zip (6.9MB):  39%  2.7MB\r",
        "  Downloading Pillow-2.5.3.zip (6.9MB):  39%  2.7MB\r",
        "  Downloading Pillow-2.5.3.zip (6.9MB):  39%  2.7MB\r",
        "  Downloading Pillow-2.5.3.zip (6.9MB):  39%  2.7MB\r",
        "  Downloading Pillow-2.5.3.zip (6.9MB):  39%  2.7MB\r",
        "  Downloading Pillow-2.5.3.zip (6.9MB):  39%  2.7MB\r",
        "  Downloading Pillow-2.5.3.zip (6.9MB):  39%  2.7MB\r",
        "  Downloading Pillow-2.5.3.zip (6.9MB):  39%  2.7MB\r",
        "  Downloading Pillow-2.5.3.zip (6.9MB):  39%  2.7MB\r",
        "  Downloading Pillow-2.5.3.zip (6.9MB):  39%  2.7MB\r",
        "  Downloading Pillow-2.5.3.zip (6.9MB):  39%  2.7MB\r",
        "  Downloading Pillow-2.5.3.zip (6.9MB):  39%  2.7MB\r",
        "  Downloading Pillow-2.5.3.zip (6.9MB):  39%  2.7MB\r",
        "  Downloading Pillow-2.5.3.zip (6.9MB):  39%  2.7MB\r",
        "  Downloading Pillow-2.5.3.zip (6.9MB):  40%  2.8MB\r",
        "  Downloading Pillow-2.5.3.zip (6.9MB):  40%  2.8MB\r",
        "  Downloading Pillow-2.5.3.zip (6.9MB):  40%  2.8MB\r",
        "  Downloading Pillow-2.5.3.zip (6.9MB):  40%  2.8MB\r",
        "  Downloading Pillow-2.5.3.zip (6.9MB):  40%  2.8MB\r",
        "  Downloading Pillow-2.5.3.zip (6.9MB):  40%  2.8MB\r",
        "  Downloading Pillow-2.5.3.zip (6.9MB):  40%  2.8MB\r",
        "  Downloading Pillow-2.5.3.zip (6.9MB):  40%  2.8MB\r",
        "  Downloading Pillow-2.5.3.zip (6.9MB):  40%  2.8MB\r",
        "  Downloading Pillow-2.5.3.zip (6.9MB):  40%  2.8MB\r",
        "  Downloading Pillow-2.5.3.zip (6.9MB):  40%  2.8MB\r",
        "  Downloading Pillow-2.5.3.zip (6.9MB):  40%  2.8MB\r",
        "  Downloading Pillow-2.5.3.zip (6.9MB):  40%  2.8MB\r",
        "  Downloading Pillow-2.5.3.zip (6.9MB):  40%  2.8MB\r",
        "  Downloading Pillow-2.5.3.zip (6.9MB):  40%  2.8MB\r",
        "  Downloading Pillow-2.5.3.zip (6.9MB):  40%  2.8MB\r",
        "  Downloading Pillow-2.5.3.zip (6.9MB):  41%  2.8MB\r",
        "  Downloading Pillow-2.5.3.zip (6.9MB):  41%  2.8MB\r",
        "  Downloading Pillow-2.5.3.zip (6.9MB):  41%  2.8MB\r",
        "  Downloading Pillow-2.5.3.zip (6.9MB):  41%  2.8MB\r",
        "  Downloading Pillow-2.5.3.zip (6.9MB):  41%  2.8MB\r",
        "  Downloading Pillow-2.5.3.zip (6.9MB):  41%  2.8MB\r",
        "  Downloading Pillow-2.5.3.zip (6.9MB):  41%  2.8MB\r",
        "  Downloading Pillow-2.5.3.zip (6.9MB):  41%  2.8MB\r",
        "  Downloading Pillow-2.5.3.zip (6.9MB):  41%  2.9MB\r",
        "  Downloading Pillow-2.5.3.zip (6.9MB):  41%  2.9MB\r",
        "  Downloading Pillow-2.5.3.zip (6.9MB):  41%  2.9MB\r",
        "  Downloading Pillow-2.5.3.zip (6.9MB):  41%  2.9MB\r",
        "  Downloading Pillow-2.5.3.zip (6.9MB):  41%  2.9MB\r",
        "  Downloading Pillow-2.5.3.zip (6.9MB):  41%  2.9MB\r",
        "  Downloading Pillow-2.5.3.zip (6.9MB):  41%  2.9MB\r",
        "  Downloading Pillow-2.5.3.zip (6.9MB):  41%  2.9MB\r",
        "  Downloading Pillow-2.5.3.zip (6.9MB):  41%  2.9MB\r",
        "  Downloading Pillow-2.5.3.zip (6.9MB):  42%  2.9MB\r",
        "  Downloading Pillow-2.5.3.zip (6.9MB):  42%  2.9MB\r",
        "  Downloading Pillow-2.5.3.zip (6.9MB):  42%  2.9MB\r",
        "  Downloading Pillow-2.5.3.zip (6.9MB):  42%  2.9MB\r",
        "  Downloading Pillow-2.5.3.zip (6.9MB):  42%  2.9MB\r",
        "  Downloading Pillow-2.5.3.zip (6.9MB):  42%  2.9MB\r",
        "  Downloading Pillow-2.5.3.zip (6.9MB):  42%  2.9MB\r",
        "  Downloading Pillow-2.5.3.zip (6.9MB):  42%  2.9MB\r",
        "  Downloading Pillow-2.5.3.zip (6.9MB):  42%  2.9MB\r",
        "  Downloading Pillow-2.5.3.zip (6.9MB):  42%  2.9MB\r",
        "  Downloading Pillow-2.5.3.zip (6.9MB):  42%  2.9MB\r",
        "  Downloading Pillow-2.5.3.zip (6.9MB):  42%  2.9MB\r",
        "  Downloading Pillow-2.5.3.zip (6.9MB):  42%  2.9MB"
       ]
      },
      {
       "output_type": "stream",
       "stream": "stdout",
       "text": [
        "\r",
        "  Downloading Pillow-2.5.3.zip (6.9MB):  42%  2.9MB\r",
        "  Downloading Pillow-2.5.3.zip (6.9MB):  42%  2.9MB\r",
        "  Downloading Pillow-2.5.3.zip (6.9MB):  42%  2.9MB\r",
        "  Downloading Pillow-2.5.3.zip (6.9MB):  42%  3.0MB\r",
        "  Downloading Pillow-2.5.3.zip (6.9MB):  43%  3.0MB\r",
        "  Downloading Pillow-2.5.3.zip (6.9MB):  43%  3.0MB\r",
        "  Downloading Pillow-2.5.3.zip (6.9MB):  43%  3.0MB\r",
        "  Downloading Pillow-2.5.3.zip (6.9MB):  43%  3.0MB\r",
        "  Downloading Pillow-2.5.3.zip (6.9MB):  43%  3.0MB\r",
        "  Downloading Pillow-2.5.3.zip (6.9MB):  43%  3.0MB\r",
        "  Downloading Pillow-2.5.3.zip (6.9MB):  43%  3.0MB\r",
        "  Downloading Pillow-2.5.3.zip (6.9MB):  43%  3.0MB\r",
        "  Downloading Pillow-2.5.3.zip (6.9MB):  43%  3.0MB\r",
        "  Downloading Pillow-2.5.3.zip (6.9MB):  43%  3.0MB\r",
        "  Downloading Pillow-2.5.3.zip (6.9MB):  43%  3.0MB\r",
        "  Downloading Pillow-2.5.3.zip (6.9MB):  43%  3.0MB\r",
        "  Downloading Pillow-2.5.3.zip (6.9MB):  43%  3.0MB\r",
        "  Downloading Pillow-2.5.3.zip (6.9MB):  43%  3.0MB\r",
        "  Downloading Pillow-2.5.3.zip (6.9MB):  43%  3.0MB\r",
        "  Downloading Pillow-2.5.3.zip (6.9MB):  43%  3.0MB\r",
        "  Downloading Pillow-2.5.3.zip (6.9MB):  43%  3.0MB\r",
        "  Downloading Pillow-2.5.3.zip (6.9MB):  44%  3.0MB\r",
        "  Downloading Pillow-2.5.3.zip (6.9MB):  44%  3.0MB\r",
        "  Downloading Pillow-2.5.3.zip (6.9MB):  44%  3.0MB\r",
        "  Downloading Pillow-2.5.3.zip (6.9MB):  44%  3.0MB\r",
        "  Downloading Pillow-2.5.3.zip (6.9MB):  44%  3.0MB\r",
        "  Downloading Pillow-2.5.3.zip (6.9MB):  44%  3.0MB\r",
        "  Downloading Pillow-2.5.3.zip (6.9MB):  44%  3.1MB\r",
        "  Downloading Pillow-2.5.3.zip (6.9MB):  44%  3.1MB\r",
        "  Downloading Pillow-2.5.3.zip (6.9MB):  44%  3.1MB\r",
        "  Downloading Pillow-2.5.3.zip (6.9MB):  44%  3.1MB\r",
        "  Downloading Pillow-2.5.3.zip (6.9MB):  44%  3.1MB\r",
        "  Downloading Pillow-2.5.3.zip (6.9MB):  44%  3.1MB\r",
        "  Downloading Pillow-2.5.3.zip (6.9MB):  44%  3.1MB\r",
        "  Downloading Pillow-2.5.3.zip (6.9MB):  44%  3.1MB\r",
        "  Downloading Pillow-2.5.3.zip (6.9MB):  44%  3.1MB\r",
        "  Downloading Pillow-2.5.3.zip (6.9MB):  44%  3.1MB\r",
        "  Downloading Pillow-2.5.3.zip (6.9MB):  44%  3.1MB\r",
        "  Downloading Pillow-2.5.3.zip (6.9MB):  45%  3.1MB\r",
        "  Downloading Pillow-2.5.3.zip (6.9MB):  45%  3.1MB\r",
        "  Downloading Pillow-2.5.3.zip (6.9MB):  45%  3.1MB\r",
        "  Downloading Pillow-2.5.3.zip (6.9MB):  45%  3.1MB\r",
        "  Downloading Pillow-2.5.3.zip (6.9MB):  45%  3.1MB\r",
        "  Downloading Pillow-2.5.3.zip (6.9MB):  45%  3.1MB\r",
        "  Downloading Pillow-2.5.3.zip (6.9MB):  45%  3.1MB\r",
        "  Downloading Pillow-2.5.3.zip (6.9MB):  45%  3.1MB\r",
        "  Downloading Pillow-2.5.3.zip (6.9MB):  45%  3.1MB\r",
        "  Downloading Pillow-2.5.3.zip (6.9MB):  45%  3.1MB\r",
        "  Downloading Pillow-2.5.3.zip (6.9MB):  45%  3.1MB\r",
        "  Downloading Pillow-2.5.3.zip (6.9MB):  45%  3.1MB\r",
        "  Downloading Pillow-2.5.3.zip (6.9MB):  45%  3.1MB\r",
        "  Downloading Pillow-2.5.3.zip (6.9MB):  45%  3.1MB\r",
        "  Downloading Pillow-2.5.3.zip (6.9MB):  45%  3.2MB\r",
        "  Downloading Pillow-2.5.3.zip (6.9MB):  45%  3.2MB\r",
        "  Downloading Pillow-2.5.3.zip (6.9MB):  46%  3.2MB\r",
        "  Downloading Pillow-2.5.3.zip (6.9MB):  46%  3.2MB\r",
        "  Downloading Pillow-2.5.3.zip (6.9MB):  46%  3.2MB\r",
        "  Downloading Pillow-2.5.3.zip (6.9MB):  46%  3.2MB\r",
        "  Downloading Pillow-2.5.3.zip (6.9MB):  46%  3.2MB\r",
        "  Downloading Pillow-2.5.3.zip (6.9MB):  46%  3.2MB\r",
        "  Downloading Pillow-2.5.3.zip (6.9MB):  46%  3.2MB\r",
        "  Downloading Pillow-2.5.3.zip (6.9MB):  46%  3.2MB\r",
        "  Downloading Pillow-2.5.3.zip (6.9MB):  46%  3.2MB\r",
        "  Downloading Pillow-2.5.3.zip (6.9MB):  46%  3.2MB\r",
        "  Downloading Pillow-2.5.3.zip (6.9MB):  46%  3.2MB\r",
        "  Downloading Pillow-2.5.3.zip (6.9MB):  46%  3.2MB\r",
        "  Downloading Pillow-2.5.3.zip (6.9MB):  46%  3.2MB\r",
        "  Downloading Pillow-2.5.3.zip (6.9MB):  46%  3.2MB\r",
        "  Downloading Pillow-2.5.3.zip (6.9MB):  46%  3.2MB\r",
        "  Downloading Pillow-2.5.3.zip (6.9MB):  46%  3.2MB\r",
        "  Downloading Pillow-2.5.3.zip (6.9MB):  46%  3.2MB\r",
        "  Downloading Pillow-2.5.3.zip (6.9MB):  47%  3.2MB\r",
        "  Downloading Pillow-2.5.3.zip (6.9MB):  47%  3.2MB\r",
        "  Downloading Pillow-2.5.3.zip (6.9MB):  47%  3.2MB\r",
        "  Downloading Pillow-2.5.3.zip (6.9MB):  47%  3.2MB\r",
        "  Downloading Pillow-2.5.3.zip (6.9MB):  47%  3.2MB\r",
        "  Downloading Pillow-2.5.3.zip (6.9MB):  47%  3.3MB\r",
        "  Downloading Pillow-2.5.3.zip (6.9MB):  47%  3.3MB\r",
        "  Downloading Pillow-2.5.3.zip (6.9MB):  47%  3.3MB\r",
        "  Downloading Pillow-2.5.3.zip (6.9MB):  47%  3.3MB"
       ]
      },
      {
       "output_type": "stream",
       "stream": "stdout",
       "text": [
        "\r",
        "  Downloading Pillow-2.5.3.zip (6.9MB):  47%  3.3MB\r",
        "  Downloading Pillow-2.5.3.zip (6.9MB):  47%  3.3MB\r",
        "  Downloading Pillow-2.5.3.zip (6.9MB):  47%  3.3MB\r",
        "  Downloading Pillow-2.5.3.zip (6.9MB):  47%  3.3MB\r",
        "  Downloading Pillow-2.5.3.zip (6.9MB):  47%  3.3MB\r",
        "  Downloading Pillow-2.5.3.zip (6.9MB):  47%  3.3MB\r",
        "  Downloading Pillow-2.5.3.zip (6.9MB):  47%  3.3MB\r",
        "  Downloading Pillow-2.5.3.zip (6.9MB):  47%  3.3MB\r",
        "  Downloading Pillow-2.5.3.zip (6.9MB):  48%  3.3MB\r",
        "  Downloading Pillow-2.5.3.zip (6.9MB):  48%  3.3MB\r",
        "  Downloading Pillow-2.5.3.zip (6.9MB):  48%  3.3MB\r",
        "  Downloading Pillow-2.5.3.zip (6.9MB):  48%  3.3MB\r",
        "  Downloading Pillow-2.5.3.zip (6.9MB):  48%  3.3MB\r",
        "  Downloading Pillow-2.5.3.zip (6.9MB):  48%  3.3MB\r",
        "  Downloading Pillow-2.5.3.zip (6.9MB):  48%  3.3MB\r",
        "  Downloading Pillow-2.5.3.zip (6.9MB):  48%  3.3MB\r",
        "  Downloading Pillow-2.5.3.zip (6.9MB):  48%  3.3MB\r",
        "  Downloading Pillow-2.5.3.zip (6.9MB):  48%  3.3MB\r",
        "  Downloading Pillow-2.5.3.zip (6.9MB):  48%  3.3MB\r",
        "  Downloading Pillow-2.5.3.zip (6.9MB):  48%  3.3MB\r",
        "  Downloading Pillow-2.5.3.zip (6.9MB):  48%  3.4MB\r",
        "  Downloading Pillow-2.5.3.zip (6.9MB):  48%  3.4MB\r",
        "  Downloading Pillow-2.5.3.zip (6.9MB):  48%  3.4MB\r",
        "  Downloading Pillow-2.5.3.zip (6.9MB):  48%  3.4MB\r",
        "  Downloading Pillow-2.5.3.zip (6.9MB):  48%  3.4MB\r",
        "  Downloading Pillow-2.5.3.zip (6.9MB):  49%  3.4MB\r",
        "  Downloading Pillow-2.5.3.zip (6.9MB):  49%  3.4MB\r",
        "  Downloading Pillow-2.5.3.zip (6.9MB):  49%  3.4MB\r",
        "  Downloading Pillow-2.5.3.zip (6.9MB):  49%  3.4MB\r",
        "  Downloading Pillow-2.5.3.zip (6.9MB):  49%  3.4MB\r",
        "  Downloading Pillow-2.5.3.zip (6.9MB):  49%  3.4MB\r",
        "  Downloading Pillow-2.5.3.zip (6.9MB):  49%  3.4MB\r",
        "  Downloading Pillow-2.5.3.zip (6.9MB):  49%  3.4MB\r",
        "  Downloading Pillow-2.5.3.zip (6.9MB):  49%  3.4MB\r",
        "  Downloading Pillow-2.5.3.zip (6.9MB):  49%  3.4MB\r",
        "  Downloading Pillow-2.5.3.zip (6.9MB):  49%  3.4MB\r",
        "  Downloading Pillow-2.5.3.zip (6.9MB):  49%  3.4MB\r",
        "  Downloading Pillow-2.5.3.zip (6.9MB):  49%  3.4MB\r",
        "  Downloading Pillow-2.5.3.zip (6.9MB):  49%  3.4MB\r",
        "  Downloading Pillow-2.5.3.zip (6.9MB):  49%  3.4MB\r",
        "  Downloading Pillow-2.5.3.zip (6.9MB):  49%  3.4MB\r",
        "  Downloading Pillow-2.5.3.zip (6.9MB):  49%  3.4MB\r",
        "  Downloading Pillow-2.5.3.zip (6.9MB):  50%  3.4MB\r",
        "  Downloading Pillow-2.5.3.zip (6.9MB):  50%  3.4MB\r",
        "  Downloading Pillow-2.5.3.zip (6.9MB):  50%  3.4MB\r",
        "  Downloading Pillow-2.5.3.zip (6.9MB):  50%  3.5MB\r",
        "  Downloading Pillow-2.5.3.zip (6.9MB):  50%  3.5MB\r",
        "  Downloading Pillow-2.5.3.zip (6.9MB):  50%  3.5MB\r",
        "  Downloading Pillow-2.5.3.zip (6.9MB):  50%  3.5MB\r",
        "  Downloading Pillow-2.5.3.zip (6.9MB):  50%  3.5MB\r",
        "  Downloading Pillow-2.5.3.zip (6.9MB):  50%  3.5MB\r",
        "  Downloading Pillow-2.5.3.zip (6.9MB):  50%  3.5MB\r",
        "  Downloading Pillow-2.5.3.zip (6.9MB):  50%  3.5MB\r",
        "  Downloading Pillow-2.5.3.zip (6.9MB):  50%  3.5MB\r",
        "  Downloading Pillow-2.5.3.zip (6.9MB):  50%  3.5MB\r",
        "  Downloading Pillow-2.5.3.zip (6.9MB):  50%  3.5MB\r",
        "  Downloading Pillow-2.5.3.zip (6.9MB):  50%  3.5MB\r",
        "  Downloading Pillow-2.5.3.zip (6.9MB):  50%  3.5MB\r",
        "  Downloading Pillow-2.5.3.zip (6.9MB):  51%  3.5MB\r",
        "  Downloading Pillow-2.5.3.zip (6.9MB):  51%  3.5MB\r",
        "  Downloading Pillow-2.5.3.zip (6.9MB):  51%  3.5MB\r",
        "  Downloading Pillow-2.5.3.zip (6.9MB):  51%  3.5MB\r",
        "  Downloading Pillow-2.5.3.zip (6.9MB):  51%  3.5MB\r",
        "  Downloading Pillow-2.5.3.zip (6.9MB):  51%  3.5MB\r",
        "  Downloading Pillow-2.5.3.zip (6.9MB):  51%  3.5MB\r",
        "  Downloading Pillow-2.5.3.zip (6.9MB):  51%  3.5MB\r",
        "  Downloading Pillow-2.5.3.zip (6.9MB):  51%  3.5MB\r",
        "  Downloading Pillow-2.5.3.zip (6.9MB):  51%  3.5MB\r",
        "  Downloading Pillow-2.5.3.zip (6.9MB):  51%  3.5MB\r",
        "  Downloading Pillow-2.5.3.zip (6.9MB):  51%  3.6MB\r",
        "  Downloading Pillow-2.5.3.zip (6.9MB):  51%  3.6MB\r",
        "  Downloading Pillow-2.5.3.zip (6.9MB):  51%  3.6MB\r",
        "  Downloading Pillow-2.5.3.zip (6.9MB):  51%  3.6MB\r",
        "  Downloading Pillow-2.5.3.zip (6.9MB):  51%  3.6MB\r",
        "  Downloading Pillow-2.5.3.zip (6.9MB):  51%  3.6MB\r",
        "  Downloading Pillow-2.5.3.zip (6.9MB):  52%  3.6MB\r",
        "  Downloading Pillow-2.5.3.zip (6.9MB):  52%  3.6MB\r",
        "  Downloading Pillow-2.5.3.zip (6.9MB):  52%  3.6MB\r",
        "  Downloading Pillow-2.5.3.zip (6.9MB):  52%  3.6MB\r",
        "  Downloading Pillow-2.5.3.zip (6.9MB):  52%  3.6MB\r",
        "  Downloading Pillow-2.5.3.zip (6.9MB):  52%  3.6MB\r",
        "  Downloading Pillow-2.5.3.zip (6.9MB):  52%  3.6MB\r",
        "  Downloading Pillow-2.5.3.zip (6.9MB):  52%  3.6MB\r",
        "  Downloading Pillow-2.5.3.zip (6.9MB):  52%  3.6MB\r",
        "  Downloading Pillow-2.5.3.zip (6.9MB):  52%  3.6MB\r",
        "  Downloading Pillow-2.5.3.zip (6.9MB):  52%  3.6MB\r",
        "  Downloading Pillow-2.5.3.zip (6.9MB):  52%  3.6MB\r",
        "  Downloading Pillow-2.5.3.zip (6.9MB):  52%  3.6MB\r",
        "  Downloading Pillow-2.5.3.zip (6.9MB):  52%  3.6MB\r",
        "  Downloading Pillow-2.5.3.zip (6.9MB):  52%  3.6MB\r",
        "  Downloading Pillow-2.5.3.zip (6.9MB):  52%  3.6MB\r",
        "  Downloading Pillow-2.5.3.zip (6.9MB):  52%  3.6MB\r",
        "  Downloading Pillow-2.5.3.zip (6.9MB):  53%  3.6MB\r",
        "  Downloading Pillow-2.5.3.zip (6.9MB):  53%  3.6MB\r",
        "  Downloading Pillow-2.5.3.zip (6.9MB):  53%  3.7MB\r",
        "  Downloading Pillow-2.5.3.zip (6.9MB):  53%  3.7MB\r",
        "  Downloading Pillow-2.5.3.zip (6.9MB):  53%  3.7MB\r",
        "  Downloading Pillow-2.5.3.zip (6.9MB):  53%  3.7MB\r",
        "  Downloading Pillow-2.5.3.zip (6.9MB):  53%  3.7MB\r",
        "  Downloading Pillow-2.5.3.zip (6.9MB):  53%  3.7MB\r",
        "  Downloading Pillow-2.5.3.zip (6.9MB):  53%  3.7MB\r",
        "  Downloading Pillow-2.5.3.zip (6.9MB):  53%  3.7MB\r",
        "  Downloading Pillow-2.5.3.zip (6.9MB):  53%  3.7MB\r",
        "  Downloading Pillow-2.5.3.zip (6.9MB):  53%  3.7MB\r",
        "  Downloading Pillow-2.5.3.zip (6.9MB):  53%  3.7MB\r",
        "  Downloading Pillow-2.5.3.zip (6.9MB):  53%  3.7MB\r",
        "  Downloading Pillow-2.5.3.zip (6.9MB):  53%  3.7MB\r",
        "  Downloading Pillow-2.5.3.zip (6.9MB):  53%  3.7MB\r",
        "  Downloading Pillow-2.5.3.zip (6.9MB):  53%  3.7MB\r",
        "  Downloading Pillow-2.5.3.zip (6.9MB):  54%  3.7MB\r",
        "  Downloading Pillow-2.5.3.zip (6.9MB):  54%  3.7MB\r",
        "  Downloading Pillow-2.5.3.zip (6.9MB):  54%  3.7MB\r",
        "  Downloading Pillow-2.5.3.zip (6.9MB):  54%  3.7MB\r",
        "  Downloading Pillow-2.5.3.zip (6.9MB):  54%  3.7MB\r",
        "  Downloading Pillow-2.5.3.zip (6.9MB):  54%  3.7MB"
       ]
      },
      {
       "output_type": "stream",
       "stream": "stdout",
       "text": [
        "\r",
        "  Downloading Pillow-2.5.3.zip (6.9MB):  54%  3.7MB\r",
        "  Downloading Pillow-2.5.3.zip (6.9MB):  54%  3.7MB\r",
        "  Downloading Pillow-2.5.3.zip (6.9MB):  54%  3.7MB\r",
        "  Downloading Pillow-2.5.3.zip (6.9MB):  54%  3.8MB\r",
        "  Downloading Pillow-2.5.3.zip (6.9MB):  54%  3.8MB\r",
        "  Downloading Pillow-2.5.3.zip (6.9MB):  54%  3.8MB\r",
        "  Downloading Pillow-2.5.3.zip (6.9MB):  54%  3.8MB\r",
        "  Downloading Pillow-2.5.3.zip (6.9MB):  54%  3.8MB\r",
        "  Downloading Pillow-2.5.3.zip (6.9MB):  54%  3.8MB\r",
        "  Downloading Pillow-2.5.3.zip (6.9MB):  54%  3.8MB\r",
        "  Downloading Pillow-2.5.3.zip (6.9MB):  55%  3.8MB\r",
        "  Downloading Pillow-2.5.3.zip (6.9MB):  55%  3.8MB\r",
        "  Downloading Pillow-2.5.3.zip (6.9MB):  55%  3.8MB\r",
        "  Downloading Pillow-2.5.3.zip (6.9MB):  55%  3.8MB\r",
        "  Downloading Pillow-2.5.3.zip (6.9MB):  55%  3.8MB\r",
        "  Downloading Pillow-2.5.3.zip (6.9MB):  55%  3.8MB\r",
        "  Downloading Pillow-2.5.3.zip (6.9MB):  55%  3.8MB\r",
        "  Downloading Pillow-2.5.3.zip (6.9MB):  55%  3.8MB\r",
        "  Downloading Pillow-2.5.3.zip (6.9MB):  55%  3.8MB\r",
        "  Downloading Pillow-2.5.3.zip (6.9MB):  55%  3.8MB\r",
        "  Downloading Pillow-2.5.3.zip (6.9MB):  55%  3.8MB\r",
        "  Downloading Pillow-2.5.3.zip (6.9MB):  55%  3.8MB\r",
        "  Downloading Pillow-2.5.3.zip (6.9MB):  55%  3.8MB\r",
        "  Downloading Pillow-2.5.3.zip (6.9MB):  55%  3.8MB\r",
        "  Downloading Pillow-2.5.3.zip (6.9MB):  55%  3.8MB\r",
        "  Downloading Pillow-2.5.3.zip (6.9MB):  55%  3.8MB\r",
        "  Downloading Pillow-2.5.3.zip (6.9MB):  55%  3.8MB\r",
        "  Downloading Pillow-2.5.3.zip (6.9MB):  56%  3.9MB\r",
        "  Downloading Pillow-2.5.3.zip (6.9MB):  56%  3.9MB\r",
        "  Downloading Pillow-2.5.3.zip (6.9MB):  56%  3.9MB\r",
        "  Downloading Pillow-2.5.3.zip (6.9MB):  56%  3.9MB\r",
        "  Downloading Pillow-2.5.3.zip (6.9MB):  56%  3.9MB\r",
        "  Downloading Pillow-2.5.3.zip (6.9MB):  56%  3.9MB\r",
        "  Downloading Pillow-2.5.3.zip (6.9MB):  56%  3.9MB\r",
        "  Downloading Pillow-2.5.3.zip (6.9MB):  56%  3.9MB\r",
        "  Downloading Pillow-2.5.3.zip (6.9MB):  56%  3.9MB\r",
        "  Downloading Pillow-2.5.3.zip (6.9MB):  56%  3.9MB\r",
        "  Downloading Pillow-2.5.3.zip (6.9MB):  56%  3.9MB\r",
        "  Downloading Pillow-2.5.3.zip (6.9MB):  56%  3.9MB\r",
        "  Downloading Pillow-2.5.3.zip (6.9MB):  56%  3.9MB\r",
        "  Downloading Pillow-2.5.3.zip (6.9MB):  56%  3.9MB\r",
        "  Downloading Pillow-2.5.3.zip (6.9MB):  56%  3.9MB\r",
        "  Downloading Pillow-2.5.3.zip (6.9MB):  56%  3.9MB\r",
        "  Downloading Pillow-2.5.3.zip (6.9MB):  56%  3.9MB\r",
        "  Downloading Pillow-2.5.3.zip (6.9MB):  57%  3.9MB\r",
        "  Downloading Pillow-2.5.3.zip (6.9MB):  57%  3.9MB\r",
        "  Downloading Pillow-2.5.3.zip (6.9MB):  57%  3.9MB\r",
        "  Downloading Pillow-2.5.3.zip (6.9MB):  57%  3.9MB\r",
        "  Downloading Pillow-2.5.3.zip (6.9MB):  57%  3.9MB\r",
        "  Downloading Pillow-2.5.3.zip (6.9MB):  57%  3.9MB\r",
        "  Downloading Pillow-2.5.3.zip (6.9MB):  57%  3.9MB\r",
        "  Downloading Pillow-2.5.3.zip (6.9MB):  57%  3.9MB\r",
        "  Downloading Pillow-2.5.3.zip (6.9MB):  57%  4.0MB\r",
        "  Downloading Pillow-2.5.3.zip (6.9MB):  57%  4.0MB\r",
        "  Downloading Pillow-2.5.3.zip (6.9MB):  57%  4.0MB\r",
        "  Downloading Pillow-2.5.3.zip (6.9MB):  57%  4.0MB\r",
        "  Downloading Pillow-2.5.3.zip (6.9MB):  57%  4.0MB\r",
        "  Downloading Pillow-2.5.3.zip (6.9MB):  57%  4.0MB\r",
        "  Downloading Pillow-2.5.3.zip (6.9MB):  57%  4.0MB"
       ]
      },
      {
       "output_type": "stream",
       "stream": "stdout",
       "text": [
        "\r",
        "  Downloading Pillow-2.5.3.zip (6.9MB):  57%  4.0MB\r",
        "  Downloading Pillow-2.5.3.zip (6.9MB):  57%  4.0MB\r",
        "  Downloading Pillow-2.5.3.zip (6.9MB):  58%  4.0MB\r",
        "  Downloading Pillow-2.5.3.zip (6.9MB):  58%  4.0MB\r",
        "  Downloading Pillow-2.5.3.zip (6.9MB):  58%  4.0MB\r",
        "  Downloading Pillow-2.5.3.zip (6.9MB):  58%  4.0MB\r",
        "  Downloading Pillow-2.5.3.zip (6.9MB):  58%  4.0MB\r",
        "  Downloading Pillow-2.5.3.zip (6.9MB):  58%  4.0MB\r",
        "  Downloading Pillow-2.5.3.zip (6.9MB):  58%  4.0MB\r",
        "  Downloading Pillow-2.5.3.zip (6.9MB):  58%  4.0MB\r",
        "  Downloading Pillow-2.5.3.zip (6.9MB):  58%  4.0MB\r",
        "  Downloading Pillow-2.5.3.zip (6.9MB):  58%  4.0MB\r",
        "  Downloading Pillow-2.5.3.zip (6.9MB):  58%  4.0MB\r",
        "  Downloading Pillow-2.5.3.zip (6.9MB):  58%  4.0MB\r",
        "  Downloading Pillow-2.5.3.zip (6.9MB):  58%  4.0MB\r",
        "  Downloading Pillow-2.5.3.zip (6.9MB):  58%  4.0MB\r",
        "  Downloading Pillow-2.5.3.zip (6.9MB):  58%  4.0MB\r",
        "  Downloading Pillow-2.5.3.zip (6.9MB):  58%  4.1MB\r",
        "  Downloading Pillow-2.5.3.zip (6.9MB):  58%  4.1MB\r",
        "  Downloading Pillow-2.5.3.zip (6.9MB):  59%  4.1MB\r",
        "  Downloading Pillow-2.5.3.zip (6.9MB):  59%  4.1MB\r",
        "  Downloading Pillow-2.5.3.zip (6.9MB):  59%  4.1MB\r",
        "  Downloading Pillow-2.5.3.zip (6.9MB):  59%  4.1MB\r",
        "  Downloading Pillow-2.5.3.zip (6.9MB):  59%  4.1MB\r",
        "  Downloading Pillow-2.5.3.zip (6.9MB):  59%  4.1MB\r",
        "  Downloading Pillow-2.5.3.zip (6.9MB):  59%  4.1MB\r",
        "  Downloading Pillow-2.5.3.zip (6.9MB):  59%  4.1MB\r",
        "  Downloading Pillow-2.5.3.zip (6.9MB):  59%  4.1MB\r",
        "  Downloading Pillow-2.5.3.zip (6.9MB):  59%  4.1MB\r",
        "  Downloading Pillow-2.5.3.zip (6.9MB):  59%  4.1MB\r",
        "  Downloading Pillow-2.5.3.zip (6.9MB):  59%  4.1MB\r",
        "  Downloading Pillow-2.5.3.zip (6.9MB):  59%  4.1MB\r",
        "  Downloading Pillow-2.5.3.zip (6.9MB):  59%  4.1MB\r",
        "  Downloading Pillow-2.5.3.zip (6.9MB):  59%  4.1MB\r",
        "  Downloading Pillow-2.5.3.zip (6.9MB):  59%  4.1MB\r",
        "  Downloading Pillow-2.5.3.zip (6.9MB):  60%  4.1MB\r",
        "  Downloading Pillow-2.5.3.zip (6.9MB):  60%  4.1MB\r",
        "  Downloading Pillow-2.5.3.zip (6.9MB):  60%  4.1MB\r",
        "  Downloading Pillow-2.5.3.zip (6.9MB):  60%  4.1MB\r",
        "  Downloading Pillow-2.5.3.zip (6.9MB):  60%  4.1MB\r",
        "  Downloading Pillow-2.5.3.zip (6.9MB):  60%  4.1MB\r",
        "  Downloading Pillow-2.5.3.zip (6.9MB):  60%  4.1MB\r",
        "  Downloading Pillow-2.5.3.zip (6.9MB):  60%  4.2MB\r",
        "  Downloading Pillow-2.5.3.zip (6.9MB):  60%  4.2MB\r",
        "  Downloading Pillow-2.5.3.zip (6.9MB):  60%  4.2MB\r",
        "  Downloading Pillow-2.5.3.zip (6.9MB):  60%  4.2MB\r",
        "  Downloading Pillow-2.5.3.zip (6.9MB):  60%  4.2MB\r",
        "  Downloading Pillow-2.5.3.zip (6.9MB):  60%  4.2MB\r",
        "  Downloading Pillow-2.5.3.zip (6.9MB):  60%  4.2MB\r",
        "  Downloading Pillow-2.5.3.zip (6.9MB):  60%  4.2MB\r",
        "  Downloading Pillow-2.5.3.zip (6.9MB):  60%  4.2MB\r",
        "  Downloading Pillow-2.5.3.zip (6.9MB):  60%  4.2MB\r",
        "  Downloading Pillow-2.5.3.zip (6.9MB):  61%  4.2MB\r",
        "  Downloading Pillow-2.5.3.zip (6.9MB):  61%  4.2MB\r",
        "  Downloading Pillow-2.5.3.zip (6.9MB):  61%  4.2MB\r",
        "  Downloading Pillow-2.5.3.zip (6.9MB):  61%  4.2MB\r",
        "  Downloading Pillow-2.5.3.zip (6.9MB):  61%  4.2MB\r",
        "  Downloading Pillow-2.5.3.zip (6.9MB):  61%  4.2MB\r",
        "  Downloading Pillow-2.5.3.zip (6.9MB):  61%  4.2MB\r",
        "  Downloading Pillow-2.5.3.zip (6.9MB):  61%  4.2MB\r",
        "  Downloading Pillow-2.5.3.zip (6.9MB):  61%  4.2MB\r",
        "  Downloading Pillow-2.5.3.zip (6.9MB):  61%  4.2MB\r",
        "  Downloading Pillow-2.5.3.zip (6.9MB):  61%  4.2MB\r",
        "  Downloading Pillow-2.5.3.zip (6.9MB):  61%  4.2MB\r",
        "  Downloading Pillow-2.5.3.zip (6.9MB):  61%  4.2MB\r",
        "  Downloading Pillow-2.5.3.zip (6.9MB):  61%  4.2MB\r",
        "  Downloading Pillow-2.5.3.zip (6.9MB):  61%  4.3MB\r",
        "  Downloading Pillow-2.5.3.zip (6.9MB):  61%  4.3MB\r",
        "  Downloading Pillow-2.5.3.zip (6.9MB):  61%  4.3MB\r",
        "  Downloading Pillow-2.5.3.zip (6.9MB):  62%  4.3MB\r",
        "  Downloading Pillow-2.5.3.zip (6.9MB):  62%  4.3MB\r",
        "  Downloading Pillow-2.5.3.zip (6.9MB):  62%  4.3MB\r",
        "  Downloading Pillow-2.5.3.zip (6.9MB):  62%  4.3MB\r",
        "  Downloading Pillow-2.5.3.zip (6.9MB):  62%  4.3MB\r",
        "  Downloading Pillow-2.5.3.zip (6.9MB):  62%  4.3MB\r",
        "  Downloading Pillow-2.5.3.zip (6.9MB):  62%  4.3MB\r",
        "  Downloading Pillow-2.5.3.zip (6.9MB):  62%  4.3MB\r",
        "  Downloading Pillow-2.5.3.zip (6.9MB):  62%  4.3MB\r",
        "  Downloading Pillow-2.5.3.zip (6.9MB):  62%  4.3MB"
       ]
      },
      {
       "output_type": "stream",
       "stream": "stdout",
       "text": [
        "\r",
        "  Downloading Pillow-2.5.3.zip (6.9MB):  62%  4.3MB\r",
        "  Downloading Pillow-2.5.3.zip (6.9MB):  62%  4.3MB\r",
        "  Downloading Pillow-2.5.3.zip (6.9MB):  62%  4.3MB\r",
        "  Downloading Pillow-2.5.3.zip (6.9MB):  62%  4.3MB\r",
        "  Downloading Pillow-2.5.3.zip (6.9MB):  62%  4.3MB\r",
        "  Downloading Pillow-2.5.3.zip (6.9MB):  62%  4.3MB\r",
        "  Downloading Pillow-2.5.3.zip (6.9MB):  62%  4.3MB\r",
        "  Downloading Pillow-2.5.3.zip (6.9MB):  63%  4.3MB\r",
        "  Downloading Pillow-2.5.3.zip (6.9MB):  63%  4.3MB\r",
        "  Downloading Pillow-2.5.3.zip (6.9MB):  63%  4.3MB\r",
        "  Downloading Pillow-2.5.3.zip (6.9MB):  63%  4.3MB\r",
        "  Downloading Pillow-2.5.3.zip (6.9MB):  63%  4.3MB\r",
        "  Downloading Pillow-2.5.3.zip (6.9MB):  63%  4.4MB\r",
        "  Downloading Pillow-2.5.3.zip (6.9MB):  63%  4.4MB\r",
        "  Downloading Pillow-2.5.3.zip (6.9MB):  63%  4.4MB\r",
        "  Downloading Pillow-2.5.3.zip (6.9MB):  63%  4.4MB\r",
        "  Downloading Pillow-2.5.3.zip (6.9MB):  63%  4.4MB\r",
        "  Downloading Pillow-2.5.3.zip (6.9MB):  63%  4.4MB\r",
        "  Downloading Pillow-2.5.3.zip (6.9MB):  63%  4.4MB\r",
        "  Downloading Pillow-2.5.3.zip (6.9MB):  63%  4.4MB\r",
        "  Downloading Pillow-2.5.3.zip (6.9MB):  63%  4.4MB\r",
        "  Downloading Pillow-2.5.3.zip (6.9MB):  63%  4.4MB\r",
        "  Downloading Pillow-2.5.3.zip (6.9MB):  63%  4.4MB\r",
        "  Downloading Pillow-2.5.3.zip (6.9MB):  64%  4.4MB\r",
        "  Downloading Pillow-2.5.3.zip (6.9MB):  64%  4.4MB\r",
        "  Downloading Pillow-2.5.3.zip (6.9MB):  64%  4.4MB\r",
        "  Downloading Pillow-2.5.3.zip (6.9MB):  64%  4.4MB\r",
        "  Downloading Pillow-2.5.3.zip (6.9MB):  64%  4.4MB\r",
        "  Downloading Pillow-2.5.3.zip (6.9MB):  64%  4.4MB\r",
        "  Downloading Pillow-2.5.3.zip (6.9MB):  64%  4.4MB\r",
        "  Downloading Pillow-2.5.3.zip (6.9MB):  64%  4.4MB\r",
        "  Downloading Pillow-2.5.3.zip (6.9MB):  64%  4.4MB\r",
        "  Downloading Pillow-2.5.3.zip (6.9MB):  64%  4.4MB\r",
        "  Downloading Pillow-2.5.3.zip (6.9MB):  64%  4.4MB\r",
        "  Downloading Pillow-2.5.3.zip (6.9MB):  64%  4.4MB\r",
        "  Downloading Pillow-2.5.3.zip (6.9MB):  64%  4.4MB\r",
        "  Downloading Pillow-2.5.3.zip (6.9MB):  64%  4.5MB\r",
        "  Downloading Pillow-2.5.3.zip (6.9MB):  64%  4.5MB\r",
        "  Downloading Pillow-2.5.3.zip (6.9MB):  64%  4.5MB\r",
        "  Downloading Pillow-2.5.3.zip (6.9MB):  64%  4.5MB\r",
        "  Downloading Pillow-2.5.3.zip (6.9MB):  65%  4.5MB\r",
        "  Downloading Pillow-2.5.3.zip (6.9MB):  65%  4.5MB\r",
        "  Downloading Pillow-2.5.3.zip (6.9MB):  65%  4.5MB\r",
        "  Downloading Pillow-2.5.3.zip (6.9MB):  65%  4.5MB\r",
        "  Downloading Pillow-2.5.3.zip (6.9MB):  65%  4.5MB\r",
        "  Downloading Pillow-2.5.3.zip (6.9MB):  65%  4.5MB\r",
        "  Downloading Pillow-2.5.3.zip (6.9MB):  65%  4.5MB\r",
        "  Downloading Pillow-2.5.3.zip (6.9MB):  65%  4.5MB\r",
        "  Downloading Pillow-2.5.3.zip (6.9MB):  65%  4.5MB\r",
        "  Downloading Pillow-2.5.3.zip (6.9MB):  65%  4.5MB\r",
        "  Downloading Pillow-2.5.3.zip (6.9MB):  65%  4.5MB\r",
        "  Downloading Pillow-2.5.3.zip (6.9MB):  65%  4.5MB\r",
        "  Downloading Pillow-2.5.3.zip (6.9MB):  65%  4.5MB\r",
        "  Downloading Pillow-2.5.3.zip (6.9MB):  65%  4.5MB\r",
        "  Downloading Pillow-2.5.3.zip (6.9MB):  65%  4.5MB\r",
        "  Downloading Pillow-2.5.3.zip (6.9MB):  65%  4.5MB\r",
        "  Downloading Pillow-2.5.3.zip (6.9MB):  65%  4.5MB\r",
        "  Downloading Pillow-2.5.3.zip (6.9MB):  66%  4.5MB\r",
        "  Downloading Pillow-2.5.3.zip (6.9MB):  66%  4.5MB\r",
        "  Downloading Pillow-2.5.3.zip (6.9MB):  66%  4.5MB\r",
        "  Downloading Pillow-2.5.3.zip (6.9MB):  66%  4.6MB\r",
        "  Downloading Pillow-2.5.3.zip (6.9MB):  66%  4.6MB\r",
        "  Downloading Pillow-2.5.3.zip (6.9MB):  66%  4.6MB\r",
        "  Downloading Pillow-2.5.3.zip (6.9MB):  66%  4.6MB\r",
        "  Downloading Pillow-2.5.3.zip (6.9MB):  66%  4.6MB\r",
        "  Downloading Pillow-2.5.3.zip (6.9MB):  66%  4.6MB\r",
        "  Downloading Pillow-2.5.3.zip (6.9MB):  66%  4.6MB\r",
        "  Downloading Pillow-2.5.3.zip (6.9MB):  66%  4.6MB\r",
        "  Downloading Pillow-2.5.3.zip (6.9MB):  66%  4.6MB\r",
        "  Downloading Pillow-2.5.3.zip (6.9MB):  66%  4.6MB\r",
        "  Downloading Pillow-2.5.3.zip (6.9MB):  66%  4.6MB\r",
        "  Downloading Pillow-2.5.3.zip (6.9MB):  66%  4.6MB\r",
        "  Downloading Pillow-2.5.3.zip (6.9MB):  66%  4.6MB\r",
        "  Downloading Pillow-2.5.3.zip (6.9MB):  66%  4.6MB\r",
        "  Downloading Pillow-2.5.3.zip (6.9MB):  67%  4.6MB\r",
        "  Downloading Pillow-2.5.3.zip (6.9MB):  67%  4.6MB\r",
        "  Downloading Pillow-2.5.3.zip (6.9MB):  67%  4.6MB\r",
        "  Downloading Pillow-2.5.3.zip (6.9MB):  67%  4.6MB\r",
        "  Downloading Pillow-2.5.3.zip (6.9MB):  67%  4.6MB\r",
        "  Downloading Pillow-2.5.3.zip (6.9MB):  67%  4.6MB\r",
        "  Downloading Pillow-2.5.3.zip (6.9MB):  67%  4.6MB\r",
        "  Downloading Pillow-2.5.3.zip (6.9MB):  67%  4.6MB\r",
        "  Downloading Pillow-2.5.3.zip (6.9MB):  67%  4.6MB\r",
        "  Downloading Pillow-2.5.3.zip (6.9MB):  67%  4.6MB\r",
        "  Downloading Pillow-2.5.3.zip (6.9MB):  67%  4.6MB\r",
        "  Downloading Pillow-2.5.3.zip (6.9MB):  67%  4.7MB"
       ]
      },
      {
       "output_type": "stream",
       "stream": "stdout",
       "text": [
        "\r",
        "  Downloading Pillow-2.5.3.zip (6.9MB):  67%  4.7MB\r",
        "  Downloading Pillow-2.5.3.zip (6.9MB):  67%  4.7MB\r",
        "  Downloading Pillow-2.5.3.zip (6.9MB):  67%  4.7MB\r",
        "  Downloading Pillow-2.5.3.zip (6.9MB):  67%  4.7MB\r",
        "  Downloading Pillow-2.5.3.zip (6.9MB):  67%  4.7MB\r",
        "  Downloading Pillow-2.5.3.zip (6.9MB):  68%  4.7MB\r",
        "  Downloading Pillow-2.5.3.zip (6.9MB):  68%  4.7MB\r",
        "  Downloading Pillow-2.5.3.zip (6.9MB):  68%  4.7MB\r",
        "  Downloading Pillow-2.5.3.zip (6.9MB):  68%  4.7MB\r",
        "  Downloading Pillow-2.5.3.zip (6.9MB):  68%  4.7MB\r",
        "  Downloading Pillow-2.5.3.zip (6.9MB):  68%  4.7MB\r",
        "  Downloading Pillow-2.5.3.zip (6.9MB):  68%  4.7MB\r",
        "  Downloading Pillow-2.5.3.zip (6.9MB):  68%  4.7MB\r",
        "  Downloading Pillow-2.5.3.zip (6.9MB):  68%  4.7MB\r",
        "  Downloading Pillow-2.5.3.zip (6.9MB):  68%  4.7MB\r",
        "  Downloading Pillow-2.5.3.zip (6.9MB):  68%  4.7MB\r",
        "  Downloading Pillow-2.5.3.zip (6.9MB):  68%  4.7MB\r",
        "  Downloading Pillow-2.5.3.zip (6.9MB):  68%  4.7MB\r",
        "  Downloading Pillow-2.5.3.zip (6.9MB):  68%  4.7MB\r",
        "  Downloading Pillow-2.5.3.zip (6.9MB):  68%  4.7MB\r",
        "  Downloading Pillow-2.5.3.zip (6.9MB):  68%  4.7MB\r",
        "  Downloading Pillow-2.5.3.zip (6.9MB):  69%  4.7MB\r",
        "  Downloading Pillow-2.5.3.zip (6.9MB):  69%  4.7MB\r",
        "  Downloading Pillow-2.5.3.zip (6.9MB):  69%  4.8MB\r",
        "  Downloading Pillow-2.5.3.zip (6.9MB):  69%  4.8MB\r",
        "  Downloading Pillow-2.5.3.zip (6.9MB):  69%  4.8MB\r",
        "  Downloading Pillow-2.5.3.zip (6.9MB):  69%  4.8MB\r",
        "  Downloading Pillow-2.5.3.zip (6.9MB):  69%  4.8MB\r",
        "  Downloading Pillow-2.5.3.zip (6.9MB):  69%  4.8MB\r",
        "  Downloading Pillow-2.5.3.zip (6.9MB):  69%  4.8MB\r",
        "  Downloading Pillow-2.5.3.zip (6.9MB):  69%  4.8MB\r",
        "  Downloading Pillow-2.5.3.zip (6.9MB):  69%  4.8MB\r",
        "  Downloading Pillow-2.5.3.zip (6.9MB):  69%  4.8MB\r",
        "  Downloading Pillow-2.5.3.zip (6.9MB):  69%  4.8MB\r",
        "  Downloading Pillow-2.5.3.zip (6.9MB):  69%  4.8MB\r",
        "  Downloading Pillow-2.5.3.zip (6.9MB):  69%  4.8MB\r",
        "  Downloading Pillow-2.5.3.zip (6.9MB):  69%  4.8MB\r",
        "  Downloading Pillow-2.5.3.zip (6.9MB):  69%  4.8MB\r",
        "  Downloading Pillow-2.5.3.zip (6.9MB):  70%  4.8MB\r",
        "  Downloading Pillow-2.5.3.zip (6.9MB):  70%  4.8MB\r",
        "  Downloading Pillow-2.5.3.zip (6.9MB):  70%  4.8MB\r",
        "  Downloading Pillow-2.5.3.zip (6.9MB):  70%  4.8MB\r",
        "  Downloading Pillow-2.5.3.zip (6.9MB):  70%  4.8MB\r",
        "  Downloading Pillow-2.5.3.zip (6.9MB):  70%  4.8MB\r",
        "  Downloading Pillow-2.5.3.zip (6.9MB):  70%  4.8MB\r",
        "  Downloading Pillow-2.5.3.zip (6.9MB):  70%  4.8MB\r",
        "  Downloading Pillow-2.5.3.zip (6.9MB):  70%  4.8MB\r",
        "  Downloading Pillow-2.5.3.zip (6.9MB):  70%  4.8MB\r",
        "  Downloading Pillow-2.5.3.zip (6.9MB):  70%  4.9MB\r",
        "  Downloading Pillow-2.5.3.zip (6.9MB):  70%  4.9MB\r",
        "  Downloading Pillow-2.5.3.zip (6.9MB):  70%  4.9MB\r",
        "  Downloading Pillow-2.5.3.zip (6.9MB):  70%  4.9MB\r",
        "  Downloading Pillow-2.5.3.zip (6.9MB):  70%  4.9MB\r",
        "  Downloading Pillow-2.5.3.zip (6.9MB):  70%  4.9MB\r",
        "  Downloading Pillow-2.5.3.zip (6.9MB):  70%  4.9MB\r",
        "  Downloading Pillow-2.5.3.zip (6.9MB):  71%  4.9MB\r",
        "  Downloading Pillow-2.5.3.zip (6.9MB):  71%  4.9MB\r",
        "  Downloading Pillow-2.5.3.zip (6.9MB):  71%  4.9MB\r",
        "  Downloading Pillow-2.5.3.zip (6.9MB):  71%  4.9MB\r",
        "  Downloading Pillow-2.5.3.zip (6.9MB):  71%  4.9MB\r",
        "  Downloading Pillow-2.5.3.zip (6.9MB):  71%  4.9MB\r",
        "  Downloading Pillow-2.5.3.zip (6.9MB):  71%  4.9MB\r",
        "  Downloading Pillow-2.5.3.zip (6.9MB):  71%  4.9MB\r",
        "  Downloading Pillow-2.5.3.zip (6.9MB):  71%  4.9MB\r",
        "  Downloading Pillow-2.5.3.zip (6.9MB):  71%  4.9MB\r",
        "  Downloading Pillow-2.5.3.zip (6.9MB):  71%  4.9MB\r",
        "  Downloading Pillow-2.5.3.zip (6.9MB):  71%  4.9MB\r",
        "  Downloading Pillow-2.5.3.zip (6.9MB):  71%  4.9MB\r",
        "  Downloading Pillow-2.5.3.zip (6.9MB):  71%  4.9MB\r",
        "  Downloading Pillow-2.5.3.zip (6.9MB):  71%  4.9MB\r",
        "  Downloading Pillow-2.5.3.zip (6.9MB):  71%  4.9MB\r",
        "  Downloading Pillow-2.5.3.zip (6.9MB):  71%  4.9MB\r",
        "  Downloading Pillow-2.5.3.zip (6.9MB):  72%  5.0MB\r",
        "  Downloading Pillow-2.5.3.zip (6.9MB):  72%  5.0MB\r",
        "  Downloading Pillow-2.5.3.zip (6.9MB):  72%  5.0MB\r",
        "  Downloading Pillow-2.5.3.zip (6.9MB):  72%  5.0MB\r",
        "  Downloading Pillow-2.5.3.zip (6.9MB):  72%  5.0MB\r",
        "  Downloading Pillow-2.5.3.zip (6.9MB):  72%  5.0MB\r",
        "  Downloading Pillow-2.5.3.zip (6.9MB):  72%  5.0MB\r",
        "  Downloading Pillow-2.5.3.zip (6.9MB):  72%  5.0MB\r",
        "  Downloading Pillow-2.5.3.zip (6.9MB):  72%  5.0MB\r",
        "  Downloading Pillow-2.5.3.zip (6.9MB):  72%  5.0MB\r",
        "  Downloading Pillow-2.5.3.zip (6.9MB):  72%  5.0MB\r",
        "  Downloading Pillow-2.5.3.zip (6.9MB):  72%  5.0MB\r",
        "  Downloading Pillow-2.5.3.zip (6.9MB):  72%  5.0MB\r",
        "  Downloading Pillow-2.5.3.zip (6.9MB):  72%  5.0MB"
       ]
      },
      {
       "output_type": "stream",
       "stream": "stdout",
       "text": [
        "\r",
        "  Downloading Pillow-2.5.3.zip (6.9MB):  72%  5.0MB\r",
        "  Downloading Pillow-2.5.3.zip (6.9MB):  72%  5.0MB\r",
        "  Downloading Pillow-2.5.3.zip (6.9MB):  73%  5.0MB\r",
        "  Downloading Pillow-2.5.3.zip (6.9MB):  73%  5.0MB\r",
        "  Downloading Pillow-2.5.3.zip (6.9MB):  73%  5.0MB\r",
        "  Downloading Pillow-2.5.3.zip (6.9MB):  73%  5.0MB\r",
        "  Downloading Pillow-2.5.3.zip (6.9MB):  73%  5.0MB\r",
        "  Downloading Pillow-2.5.3.zip (6.9MB):  73%  5.0MB\r",
        "  Downloading Pillow-2.5.3.zip (6.9MB):  73%  5.0MB\r",
        "  Downloading Pillow-2.5.3.zip (6.9MB):  73%  5.0MB\r",
        "  Downloading Pillow-2.5.3.zip (6.9MB):  73%  5.1MB\r",
        "  Downloading Pillow-2.5.3.zip (6.9MB):  73%  5.1MB\r",
        "  Downloading Pillow-2.5.3.zip (6.9MB):  73%  5.1MB\r",
        "  Downloading Pillow-2.5.3.zip (6.9MB):  73%  5.1MB\r",
        "  Downloading Pillow-2.5.3.zip (6.9MB):  73%  5.1MB\r",
        "  Downloading Pillow-2.5.3.zip (6.9MB):  73%  5.1MB\r",
        "  Downloading Pillow-2.5.3.zip (6.9MB):  73%  5.1MB\r",
        "  Downloading Pillow-2.5.3.zip (6.9MB):  73%  5.1MB\r",
        "  Downloading Pillow-2.5.3.zip (6.9MB):  73%  5.1MB\r",
        "  Downloading Pillow-2.5.3.zip (6.9MB):  74%  5.1MB\r",
        "  Downloading Pillow-2.5.3.zip (6.9MB):  74%  5.1MB\r",
        "  Downloading Pillow-2.5.3.zip (6.9MB):  74%  5.1MB\r",
        "  Downloading Pillow-2.5.3.zip (6.9MB):  74%  5.1MB\r",
        "  Downloading Pillow-2.5.3.zip (6.9MB):  74%  5.1MB\r",
        "  Downloading Pillow-2.5.3.zip (6.9MB):  74%  5.1MB\r",
        "  Downloading Pillow-2.5.3.zip (6.9MB):  74%  5.1MB\r",
        "  Downloading Pillow-2.5.3.zip (6.9MB):  74%  5.1MB\r",
        "  Downloading Pillow-2.5.3.zip (6.9MB):  74%  5.1MB\r",
        "  Downloading Pillow-2.5.3.zip (6.9MB):  74%  5.1MB\r",
        "  Downloading Pillow-2.5.3.zip (6.9MB):  74%  5.1MB\r",
        "  Downloading Pillow-2.5.3.zip (6.9MB):  74%  5.1MB\r",
        "  Downloading Pillow-2.5.3.zip (6.9MB):  74%  5.1MB\r",
        "  Downloading Pillow-2.5.3.zip (6.9MB):  74%  5.1MB\r",
        "  Downloading Pillow-2.5.3.zip (6.9MB):  74%  5.1MB\r",
        "  Downloading Pillow-2.5.3.zip (6.9MB):  74%  5.1MB\r",
        "  Downloading Pillow-2.5.3.zip (6.9MB):  74%  5.2MB\r",
        "  Downloading Pillow-2.5.3.zip (6.9MB):  75%  5.2MB\r",
        "  Downloading Pillow-2.5.3.zip (6.9MB):  75%  5.2MB\r",
        "  Downloading Pillow-2.5.3.zip (6.9MB):  75%  5.2MB\r",
        "  Downloading Pillow-2.5.3.zip (6.9MB):  75%  5.2MB\r",
        "  Downloading Pillow-2.5.3.zip (6.9MB):  75%  5.2MB\r",
        "  Downloading Pillow-2.5.3.zip (6.9MB):  75%  5.2MB\r",
        "  Downloading Pillow-2.5.3.zip (6.9MB):  75%  5.2MB\r",
        "  Downloading Pillow-2.5.3.zip (6.9MB):  75%  5.2MB\r",
        "  Downloading Pillow-2.5.3.zip (6.9MB):  75%  5.2MB\r",
        "  Downloading Pillow-2.5.3.zip (6.9MB):  75%  5.2MB\r",
        "  Downloading Pillow-2.5.3.zip (6.9MB):  75%  5.2MB\r",
        "  Downloading Pillow-2.5.3.zip (6.9MB):  75%  5.2MB\r",
        "  Downloading Pillow-2.5.3.zip (6.9MB):  75%  5.2MB\r",
        "  Downloading Pillow-2.5.3.zip (6.9MB):  75%  5.2MB\r",
        "  Downloading Pillow-2.5.3.zip (6.9MB):  75%  5.2MB\r",
        "  Downloading Pillow-2.5.3.zip (6.9MB):  75%  5.2MB\r",
        "  Downloading Pillow-2.5.3.zip (6.9MB):  75%  5.2MB\r",
        "  Downloading Pillow-2.5.3.zip (6.9MB):  76%  5.2MB\r",
        "  Downloading Pillow-2.5.3.zip (6.9MB):  76%  5.2MB\r",
        "  Downloading Pillow-2.5.3.zip (6.9MB):  76%  5.2MB\r",
        "  Downloading Pillow-2.5.3.zip (6.9MB):  76%  5.2MB\r",
        "  Downloading Pillow-2.5.3.zip (6.9MB):  76%  5.2MB\r",
        "  Downloading Pillow-2.5.3.zip (6.9MB):  76%  5.2MB\r",
        "  Downloading Pillow-2.5.3.zip (6.9MB):  76%  5.3MB\r",
        "  Downloading Pillow-2.5.3.zip (6.9MB):  76%  5.3MB\r",
        "  Downloading Pillow-2.5.3.zip (6.9MB):  76%  5.3MB\r",
        "  Downloading Pillow-2.5.3.zip (6.9MB):  76%  5.3MB\r",
        "  Downloading Pillow-2.5.3.zip (6.9MB):  76%  5.3MB\r",
        "  Downloading Pillow-2.5.3.zip (6.9MB):  76%  5.3MB\r",
        "  Downloading Pillow-2.5.3.zip (6.9MB):  76%  5.3MB\r",
        "  Downloading Pillow-2.5.3.zip (6.9MB):  76%  5.3MB\r",
        "  Downloading Pillow-2.5.3.zip (6.9MB):  76%  5.3MB\r",
        "  Downloading Pillow-2.5.3.zip (6.9MB):  76%  5.3MB\r",
        "  Downloading Pillow-2.5.3.zip (6.9MB):  76%  5.3MB\r",
        "  Downloading Pillow-2.5.3.zip (6.9MB):  77%  5.3MB\r",
        "  Downloading Pillow-2.5.3.zip (6.9MB):  77%  5.3MB\r",
        "  Downloading Pillow-2.5.3.zip (6.9MB):  77%  5.3MB\r",
        "  Downloading Pillow-2.5.3.zip (6.9MB):  77%  5.3MB\r",
        "  Downloading Pillow-2.5.3.zip (6.9MB):  77%  5.3MB\r",
        "  Downloading Pillow-2.5.3.zip (6.9MB):  77%  5.3MB\r",
        "  Downloading Pillow-2.5.3.zip (6.9MB):  77%  5.3MB\r",
        "  Downloading Pillow-2.5.3.zip (6.9MB):  77%  5.3MB\r",
        "  Downloading Pillow-2.5.3.zip (6.9MB):  77%  5.3MB\r",
        "  Downloading Pillow-2.5.3.zip (6.9MB):  77%  5.3MB\r",
        "  Downloading Pillow-2.5.3.zip (6.9MB):  77%  5.3MB\r",
        "  Downloading Pillow-2.5.3.zip (6.9MB):  77%  5.3MB\r",
        "  Downloading Pillow-2.5.3.zip (6.9MB):  77%  5.3MB"
       ]
      },
      {
       "output_type": "stream",
       "stream": "stdout",
       "text": [
        "\r",
        "  Downloading Pillow-2.5.3.zip (6.9MB):  77%  5.3MB\r",
        "  Downloading Pillow-2.5.3.zip (6.9MB):  77%  5.4MB\r",
        "  Downloading Pillow-2.5.3.zip (6.9MB):  77%  5.4MB\r",
        "  Downloading Pillow-2.5.3.zip (6.9MB):  78%  5.4MB\r",
        "  Downloading Pillow-2.5.3.zip (6.9MB):  78%  5.4MB\r",
        "  Downloading Pillow-2.5.3.zip (6.9MB):  78%  5.4MB\r",
        "  Downloading Pillow-2.5.3.zip (6.9MB):  78%  5.4MB\r",
        "  Downloading Pillow-2.5.3.zip (6.9MB):  78%  5.4MB\r",
        "  Downloading Pillow-2.5.3.zip (6.9MB):  78%  5.4MB\r",
        "  Downloading Pillow-2.5.3.zip (6.9MB):  78%  5.4MB\r",
        "  Downloading Pillow-2.5.3.zip (6.9MB):  78%  5.4MB\r",
        "  Downloading Pillow-2.5.3.zip (6.9MB):  78%  5.4MB\r",
        "  Downloading Pillow-2.5.3.zip (6.9MB):  78%  5.4MB\r",
        "  Downloading Pillow-2.5.3.zip (6.9MB):  78%  5.4MB\r",
        "  Downloading Pillow-2.5.3.zip (6.9MB):  78%  5.4MB\r",
        "  Downloading Pillow-2.5.3.zip (6.9MB):  78%  5.4MB\r",
        "  Downloading Pillow-2.5.3.zip (6.9MB):  78%  5.4MB\r",
        "  Downloading Pillow-2.5.3.zip (6.9MB):  78%  5.4MB\r",
        "  Downloading Pillow-2.5.3.zip (6.9MB):  78%  5.4MB\r",
        "  Downloading Pillow-2.5.3.zip (6.9MB):  78%  5.4MB\r",
        "  Downloading Pillow-2.5.3.zip (6.9MB):  79%  5.4MB\r",
        "  Downloading Pillow-2.5.3.zip (6.9MB):  79%  5.4MB\r",
        "  Downloading Pillow-2.5.3.zip (6.9MB):  79%  5.4MB\r",
        "  Downloading Pillow-2.5.3.zip (6.9MB):  79%  5.4MB\r",
        "  Downloading Pillow-2.5.3.zip (6.9MB):  79%  5.4MB\r",
        "  Downloading Pillow-2.5.3.zip (6.9MB):  79%  5.5MB\r",
        "  Downloading Pillow-2.5.3.zip (6.9MB):  79%  5.5MB\r",
        "  Downloading Pillow-2.5.3.zip (6.9MB):  79%  5.5MB\r",
        "  Downloading Pillow-2.5.3.zip (6.9MB):  79%  5.5MB\r",
        "  Downloading Pillow-2.5.3.zip (6.9MB):  79%  5.5MB\r",
        "  Downloading Pillow-2.5.3.zip (6.9MB):  79%  5.5MB\r",
        "  Downloading Pillow-2.5.3.zip (6.9MB):  79%  5.5MB\r",
        "  Downloading Pillow-2.5.3.zip (6.9MB):  79%  5.5MB\r",
        "  Downloading Pillow-2.5.3.zip (6.9MB):  79%  5.5MB\r",
        "  Downloading Pillow-2.5.3.zip (6.9MB):  79%  5.5MB\r",
        "  Downloading Pillow-2.5.3.zip (6.9MB):  79%  5.5MB\r",
        "  Downloading Pillow-2.5.3.zip (6.9MB):  79%  5.5MB\r",
        "  Downloading Pillow-2.5.3.zip (6.9MB):  80%  5.5MB\r",
        "  Downloading Pillow-2.5.3.zip (6.9MB):  80%  5.5MB\r",
        "  Downloading Pillow-2.5.3.zip (6.9MB):  80%  5.5MB\r",
        "  Downloading Pillow-2.5.3.zip (6.9MB):  80%  5.5MB\r",
        "  Downloading Pillow-2.5.3.zip (6.9MB):  80%  5.5MB\r",
        "  Downloading Pillow-2.5.3.zip (6.9MB):  80%  5.5MB\r",
        "  Downloading Pillow-2.5.3.zip (6.9MB):  80%  5.5MB\r",
        "  Downloading Pillow-2.5.3.zip (6.9MB):  80%  5.5MB\r",
        "  Downloading Pillow-2.5.3.zip (6.9MB):  80%  5.5MB\r",
        "  Downloading Pillow-2.5.3.zip (6.9MB):  80%  5.5MB\r",
        "  Downloading Pillow-2.5.3.zip (6.9MB):  80%  5.5MB\r",
        "  Downloading Pillow-2.5.3.zip (6.9MB):  80%  5.5MB\r",
        "  Downloading Pillow-2.5.3.zip (6.9MB):  80%  5.6MB\r",
        "  Downloading Pillow-2.5.3.zip (6.9MB):  80%  5.6MB\r",
        "  Downloading Pillow-2.5.3.zip (6.9MB):  80%  5.6MB\r",
        "  Downloading Pillow-2.5.3.zip (6.9MB):  80%  5.6MB\r",
        "  Downloading Pillow-2.5.3.zip (6.9MB):  80%  5.6MB\r",
        "  Downloading Pillow-2.5.3.zip (6.9MB):  81%  5.6MB\r",
        "  Downloading Pillow-2.5.3.zip (6.9MB):  81%  5.6MB\r",
        "  Downloading Pillow-2.5.3.zip (6.9MB):  81%  5.6MB\r",
        "  Downloading Pillow-2.5.3.zip (6.9MB):  81%  5.6MB\r",
        "  Downloading Pillow-2.5.3.zip (6.9MB):  81%  5.6MB\r",
        "  Downloading Pillow-2.5.3.zip (6.9MB):  81%  5.6MB\r",
        "  Downloading Pillow-2.5.3.zip (6.9MB):  81%  5.6MB\r",
        "  Downloading Pillow-2.5.3.zip (6.9MB):  81%  5.6MB\r",
        "  Downloading Pillow-2.5.3.zip (6.9MB):  81%  5.6MB\r",
        "  Downloading Pillow-2.5.3.zip (6.9MB):  81%  5.6MB\r",
        "  Downloading Pillow-2.5.3.zip (6.9MB):  81%  5.6MB\r",
        "  Downloading Pillow-2.5.3.zip (6.9MB):  81%  5.6MB\r",
        "  Downloading Pillow-2.5.3.zip (6.9MB):  81%  5.6MB\r",
        "  Downloading Pillow-2.5.3.zip (6.9MB):  81%  5.6MB\r",
        "  Downloading Pillow-2.5.3.zip (6.9MB):  81%  5.6MB\r",
        "  Downloading Pillow-2.5.3.zip (6.9MB):  81%  5.6MB\r",
        "  Downloading Pillow-2.5.3.zip (6.9MB):  82%  5.6MB\r",
        "  Downloading Pillow-2.5.3.zip (6.9MB):  82%  5.6MB\r",
        "  Downloading Pillow-2.5.3.zip (6.9MB):  82%  5.6MB\r",
        "  Downloading Pillow-2.5.3.zip (6.9MB):  82%  5.6MB\r",
        "  Downloading Pillow-2.5.3.zip (6.9MB):  82%  5.7MB\r",
        "  Downloading Pillow-2.5.3.zip (6.9MB):  82%  5.7MB\r",
        "  Downloading Pillow-2.5.3.zip (6.9MB):  82%  5.7MB\r",
        "  Downloading Pillow-2.5.3.zip (6.9MB):  82%  5.7MB\r",
        "  Downloading Pillow-2.5.3.zip (6.9MB):  82%  5.7MB\r",
        "  Downloading Pillow-2.5.3.zip (6.9MB):  82%  5.7MB\r",
        "  Downloading Pillow-2.5.3.zip (6.9MB):  82%  5.7MB\r",
        "  Downloading Pillow-2.5.3.zip (6.9MB):  82%  5.7MB\r",
        "  Downloading Pillow-2.5.3.zip (6.9MB):  82%  5.7MB\r",
        "  Downloading Pillow-2.5.3.zip (6.9MB):  82%  5.7MB\r",
        "  Downloading Pillow-2.5.3.zip (6.9MB):  82%  5.7MB\r",
        "  Downloading Pillow-2.5.3.zip (6.9MB):  82%  5.7MB\r",
        "  Downloading Pillow-2.5.3.zip (6.9MB):  82%  5.7MB\r",
        "  Downloading Pillow-2.5.3.zip (6.9MB):  83%  5.7MB\r",
        "  Downloading Pillow-2.5.3.zip (6.9MB):  83%  5.7MB\r",
        "  Downloading Pillow-2.5.3.zip (6.9MB):  83%  5.7MB\r",
        "  Downloading Pillow-2.5.3.zip (6.9MB):  83%  5.7MB\r",
        "  Downloading Pillow-2.5.3.zip (6.9MB):  83%  5.7MB\r",
        "  Downloading Pillow-2.5.3.zip (6.9MB):  83%  5.7MB\r",
        "  Downloading Pillow-2.5.3.zip (6.9MB):  83%  5.7MB"
       ]
      },
      {
       "output_type": "stream",
       "stream": "stdout",
       "text": [
        "\r",
        "  Downloading Pillow-2.5.3.zip (6.9MB):  83%  5.7MB\r",
        "  Downloading Pillow-2.5.3.zip (6.9MB):  83%  5.7MB\r",
        "  Downloading Pillow-2.5.3.zip (6.9MB):  83%  5.7MB\r",
        "  Downloading Pillow-2.5.3.zip (6.9MB):  83%  5.7MB\r",
        "  Downloading Pillow-2.5.3.zip (6.9MB):  83%  5.8MB\r",
        "  Downloading Pillow-2.5.3.zip (6.9MB):  83%  5.8MB\r",
        "  Downloading Pillow-2.5.3.zip (6.9MB):  83%  5.8MB\r",
        "  Downloading Pillow-2.5.3.zip (6.9MB):  83%  5.8MB\r",
        "  Downloading Pillow-2.5.3.zip (6.9MB):  83%  5.8MB\r",
        "  Downloading Pillow-2.5.3.zip (6.9MB):  83%  5.8MB\r",
        "  Downloading Pillow-2.5.3.zip (6.9MB):  84%  5.8MB\r",
        "  Downloading Pillow-2.5.3.zip (6.9MB):  84%  5.8MB\r",
        "  Downloading Pillow-2.5.3.zip (6.9MB):  84%  5.8MB\r",
        "  Downloading Pillow-2.5.3.zip (6.9MB):  84%  5.8MB\r",
        "  Downloading Pillow-2.5.3.zip (6.9MB):  84%  5.8MB\r",
        "  Downloading Pillow-2.5.3.zip (6.9MB):  84%  5.8MB\r",
        "  Downloading Pillow-2.5.3.zip (6.9MB):  84%  5.8MB\r",
        "  Downloading Pillow-2.5.3.zip (6.9MB):  84%  5.8MB\r",
        "  Downloading Pillow-2.5.3.zip (6.9MB):  84%  5.8MB\r",
        "  Downloading Pillow-2.5.3.zip (6.9MB):  84%  5.8MB\r",
        "  Downloading Pillow-2.5.3.zip (6.9MB):  84%  5.8MB\r",
        "  Downloading Pillow-2.5.3.zip (6.9MB):  84%  5.8MB\r",
        "  Downloading Pillow-2.5.3.zip (6.9MB):  84%  5.8MB\r",
        "  Downloading Pillow-2.5.3.zip (6.9MB):  84%  5.8MB\r",
        "  Downloading Pillow-2.5.3.zip (6.9MB):  84%  5.8MB\r",
        "  Downloading Pillow-2.5.3.zip (6.9MB):  84%  5.8MB\r",
        "  Downloading Pillow-2.5.3.zip (6.9MB):  84%  5.8MB\r",
        "  Downloading Pillow-2.5.3.zip (6.9MB):  85%  5.8MB\r",
        "  Downloading Pillow-2.5.3.zip (6.9MB):  85%  5.8MB\r",
        "  Downloading Pillow-2.5.3.zip (6.9MB):  85%  5.9MB\r",
        "  Downloading Pillow-2.5.3.zip (6.9MB):  85%  5.9MB\r",
        "  Downloading Pillow-2.5.3.zip (6.9MB):  85%  5.9MB\r",
        "  Downloading Pillow-2.5.3.zip (6.9MB):  85%  5.9MB\r",
        "  Downloading Pillow-2.5.3.zip (6.9MB):  85%  5.9MB\r",
        "  Downloading Pillow-2.5.3.zip (6.9MB):  85%  5.9MB\r",
        "  Downloading Pillow-2.5.3.zip (6.9MB):  85%  5.9MB\r",
        "  Downloading Pillow-2.5.3.zip (6.9MB):  85%  5.9MB\r",
        "  Downloading Pillow-2.5.3.zip (6.9MB):  85%  5.9MB\r",
        "  Downloading Pillow-2.5.3.zip (6.9MB):  85%  5.9MB\r",
        "  Downloading Pillow-2.5.3.zip (6.9MB):  85%  5.9MB\r",
        "  Downloading Pillow-2.5.3.zip (6.9MB):  85%  5.9MB\r",
        "  Downloading Pillow-2.5.3.zip (6.9MB):  85%  5.9MB\r",
        "  Downloading Pillow-2.5.3.zip (6.9MB):  85%  5.9MB\r",
        "  Downloading Pillow-2.5.3.zip (6.9MB):  85%  5.9MB\r",
        "  Downloading Pillow-2.5.3.zip (6.9MB):  86%  5.9MB\r",
        "  Downloading Pillow-2.5.3.zip (6.9MB):  86%  5.9MB\r",
        "  Downloading Pillow-2.5.3.zip (6.9MB):  86%  5.9MB\r",
        "  Downloading Pillow-2.5.3.zip (6.9MB):  86%  5.9MB\r",
        "  Downloading Pillow-2.5.3.zip (6.9MB):  86%  5.9MB\r",
        "  Downloading Pillow-2.5.3.zip (6.9MB):  86%  5.9MB\r",
        "  Downloading Pillow-2.5.3.zip (6.9MB):  86%  5.9MB\r",
        "  Downloading Pillow-2.5.3.zip (6.9MB):  86%  5.9MB\r",
        "  Downloading Pillow-2.5.3.zip (6.9MB):  86%  5.9MB\r",
        "  Downloading Pillow-2.5.3.zip (6.9MB):  86%  6.0MB\r",
        "  Downloading Pillow-2.5.3.zip (6.9MB):  86%  6.0MB\r",
        "  Downloading Pillow-2.5.3.zip (6.9MB):  86%  6.0MB\r",
        "  Downloading Pillow-2.5.3.zip (6.9MB):  86%  6.0MB\r",
        "  Downloading Pillow-2.5.3.zip (6.9MB):  86%  6.0MB\r",
        "  Downloading Pillow-2.5.3.zip (6.9MB):  86%  6.0MB\r",
        "  Downloading Pillow-2.5.3.zip (6.9MB):  86%  6.0MB\r",
        "  Downloading Pillow-2.5.3.zip (6.9MB):  87%  6.0MB\r",
        "  Downloading Pillow-2.5.3.zip (6.9MB):  87%  6.0MB\r",
        "  Downloading Pillow-2.5.3.zip (6.9MB):  87%  6.0MB\r",
        "  Downloading Pillow-2.5.3.zip (6.9MB):  87%  6.0MB\r",
        "  Downloading Pillow-2.5.3.zip (6.9MB):  87%  6.0MB\r",
        "  Downloading Pillow-2.5.3.zip (6.9MB):  87%  6.0MB\r",
        "  Downloading Pillow-2.5.3.zip (6.9MB):  87%  6.0MB\r",
        "  Downloading Pillow-2.5.3.zip (6.9MB):  87%  6.0MB\r",
        "  Downloading Pillow-2.5.3.zip (6.9MB):  87%  6.0MB\r",
        "  Downloading Pillow-2.5.3.zip (6.9MB):  87%  6.0MB\r",
        "  Downloading Pillow-2.5.3.zip (6.9MB):  87%  6.0MB\r",
        "  Downloading Pillow-2.5.3.zip (6.9MB):  87%  6.0MB\r",
        "  Downloading Pillow-2.5.3.zip (6.9MB):  87%  6.0MB\r",
        "  Downloading Pillow-2.5.3.zip (6.9MB):  87%  6.0MB\r",
        "  Downloading Pillow-2.5.3.zip (6.9MB):  87%  6.0MB\r",
        "  Downloading Pillow-2.5.3.zip (6.9MB):  87%  6.0MB\r",
        "  Downloading Pillow-2.5.3.zip (6.9MB):  87%  6.0MB\r",
        "  Downloading Pillow-2.5.3.zip (6.9MB):  88%  6.0MB\r",
        "  Downloading Pillow-2.5.3.zip (6.9MB):  88%  6.1MB\r",
        "  Downloading Pillow-2.5.3.zip (6.9MB):  88%  6.1MB"
       ]
      },
      {
       "output_type": "stream",
       "stream": "stdout",
       "text": [
        "\r",
        "  Downloading Pillow-2.5.3.zip (6.9MB):  88%  6.1MB\r",
        "  Downloading Pillow-2.5.3.zip (6.9MB):  88%  6.1MB\r",
        "  Downloading Pillow-2.5.3.zip (6.9MB):  88%  6.1MB\r",
        "  Downloading Pillow-2.5.3.zip (6.9MB):  88%  6.1MB\r",
        "  Downloading Pillow-2.5.3.zip (6.9MB):  88%  6.1MB\r",
        "  Downloading Pillow-2.5.3.zip (6.9MB):  88%  6.1MB\r",
        "  Downloading Pillow-2.5.3.zip (6.9MB):  88%  6.1MB\r",
        "  Downloading Pillow-2.5.3.zip (6.9MB):  88%  6.1MB\r",
        "  Downloading Pillow-2.5.3.zip (6.9MB):  88%  6.1MB\r",
        "  Downloading Pillow-2.5.3.zip (6.9MB):  88%  6.1MB\r",
        "  Downloading Pillow-2.5.3.zip (6.9MB):  88%  6.1MB\r",
        "  Downloading Pillow-2.5.3.zip (6.9MB):  88%  6.1MB\r",
        "  Downloading Pillow-2.5.3.zip (6.9MB):  88%  6.1MB\r",
        "  Downloading Pillow-2.5.3.zip (6.9MB):  88%  6.1MB\r",
        "  Downloading Pillow-2.5.3.zip (6.9MB):  89%  6.1MB\r",
        "  Downloading Pillow-2.5.3.zip (6.9MB):  89%  6.1MB\r",
        "  Downloading Pillow-2.5.3.zip (6.9MB):  89%  6.1MB\r",
        "  Downloading Pillow-2.5.3.zip (6.9MB):  89%  6.1MB\r",
        "  Downloading Pillow-2.5.3.zip (6.9MB):  89%  6.1MB\r",
        "  Downloading Pillow-2.5.3.zip (6.9MB):  89%  6.1MB\r",
        "  Downloading Pillow-2.5.3.zip (6.9MB):  89%  6.1MB\r",
        "  Downloading Pillow-2.5.3.zip (6.9MB):  89%  6.1MB\r",
        "  Downloading Pillow-2.5.3.zip (6.9MB):  89%  6.2MB\r",
        "  Downloading Pillow-2.5.3.zip (6.9MB):  89%  6.2MB\r",
        "  Downloading Pillow-2.5.3.zip (6.9MB):  89%  6.2MB\r",
        "  Downloading Pillow-2.5.3.zip (6.9MB):  89%  6.2MB\r",
        "  Downloading Pillow-2.5.3.zip (6.9MB):  89%  6.2MB\r",
        "  Downloading Pillow-2.5.3.zip (6.9MB):  89%  6.2MB\r",
        "  Downloading Pillow-2.5.3.zip (6.9MB):  89%  6.2MB\r",
        "  Downloading Pillow-2.5.3.zip (6.9MB):  89%  6.2MB\r",
        "  Downloading Pillow-2.5.3.zip (6.9MB):  89%  6.2MB\r",
        "  Downloading Pillow-2.5.3.zip (6.9MB):  90%  6.2MB\r",
        "  Downloading Pillow-2.5.3.zip (6.9MB):  90%  6.2MB\r",
        "  Downloading Pillow-2.5.3.zip (6.9MB):  90%  6.2MB\r",
        "  Downloading Pillow-2.5.3.zip (6.9MB):  90%  6.2MB\r",
        "  Downloading Pillow-2.5.3.zip (6.9MB):  90%  6.2MB\r",
        "  Downloading Pillow-2.5.3.zip (6.9MB):  90%  6.2MB\r",
        "  Downloading Pillow-2.5.3.zip (6.9MB):  90%  6.2MB\r",
        "  Downloading Pillow-2.5.3.zip (6.9MB):  90%  6.2MB\r",
        "  Downloading Pillow-2.5.3.zip (6.9MB):  90%  6.2MB\r",
        "  Downloading Pillow-2.5.3.zip (6.9MB):  90%  6.2MB\r",
        "  Downloading Pillow-2.5.3.zip (6.9MB):  90%  6.2MB\r",
        "  Downloading Pillow-2.5.3.zip (6.9MB):  90%  6.2MB\r",
        "  Downloading Pillow-2.5.3.zip (6.9MB):  90%  6.2MB\r",
        "  Downloading Pillow-2.5.3.zip (6.9MB):  90%  6.2MB\r",
        "  Downloading Pillow-2.5.3.zip (6.9MB):  90%  6.2MB\r",
        "  Downloading Pillow-2.5.3.zip (6.9MB):  90%  6.3MB\r",
        "  Downloading Pillow-2.5.3.zip (6.9MB):  90%  6.3MB\r",
        "  Downloading Pillow-2.5.3.zip (6.9MB):  91%  6.3MB\r",
        "  Downloading Pillow-2.5.3.zip (6.9MB):  91%  6.3MB\r",
        "  Downloading Pillow-2.5.3.zip (6.9MB):  91%  6.3MB\r",
        "  Downloading Pillow-2.5.3.zip (6.9MB):  91%  6.3MB\r",
        "  Downloading Pillow-2.5.3.zip (6.9MB):  91%  6.3MB\r",
        "  Downloading Pillow-2.5.3.zip (6.9MB):  91%  6.3MB\r",
        "  Downloading Pillow-2.5.3.zip (6.9MB):  91%  6.3MB\r",
        "  Downloading Pillow-2.5.3.zip (6.9MB):  91%  6.3MB\r",
        "  Downloading Pillow-2.5.3.zip (6.9MB):  91%  6.3MB\r",
        "  Downloading Pillow-2.5.3.zip (6.9MB):  91%  6.3MB\r",
        "  Downloading Pillow-2.5.3.zip (6.9MB):  91%  6.3MB\r",
        "  Downloading Pillow-2.5.3.zip (6.9MB):  91%  6.3MB\r",
        "  Downloading Pillow-2.5.3.zip (6.9MB):  91%  6.3MB\r",
        "  Downloading Pillow-2.5.3.zip (6.9MB):  91%  6.3MB\r",
        "  Downloading Pillow-2.5.3.zip (6.9MB):  91%  6.3MB\r",
        "  Downloading Pillow-2.5.3.zip (6.9MB):  91%  6.3MB\r",
        "  Downloading Pillow-2.5.3.zip (6.9MB):  92%  6.3MB\r",
        "  Downloading Pillow-2.5.3.zip (6.9MB):  92%  6.3MB\r",
        "  Downloading Pillow-2.5.3.zip (6.9MB):  92%  6.3MB\r",
        "  Downloading Pillow-2.5.3.zip (6.9MB):  92%  6.3MB\r",
        "  Downloading Pillow-2.5.3.zip (6.9MB):  92%  6.3MB\r",
        "  Downloading Pillow-2.5.3.zip (6.9MB):  92%  6.3MB\r",
        "  Downloading Pillow-2.5.3.zip (6.9MB):  92%  6.3MB\r",
        "  Downloading Pillow-2.5.3.zip (6.9MB):  92%  6.4MB\r",
        "  Downloading Pillow-2.5.3.zip (6.9MB):  92%  6.4MB\r",
        "  Downloading Pillow-2.5.3.zip (6.9MB):  92%  6.4MB\r",
        "  Downloading Pillow-2.5.3.zip (6.9MB):  92%  6.4MB\r",
        "  Downloading Pillow-2.5.3.zip (6.9MB):  92%  6.4MB\r",
        "  Downloading Pillow-2.5.3.zip (6.9MB):  92%  6.4MB\r",
        "  Downloading Pillow-2.5.3.zip (6.9MB):  92%  6.4MB\r",
        "  Downloading Pillow-2.5.3.zip (6.9MB):  92%  6.4MB\r",
        "  Downloading Pillow-2.5.3.zip (6.9MB):  92%  6.4MB\r",
        "  Downloading Pillow-2.5.3.zip (6.9MB):  92%  6.4MB\r",
        "  Downloading Pillow-2.5.3.zip (6.9MB):  93%  6.4MB\r",
        "  Downloading Pillow-2.5.3.zip (6.9MB):  93%  6.4MB\r",
        "  Downloading Pillow-2.5.3.zip (6.9MB):  93%  6.4MB\r",
        "  Downloading Pillow-2.5.3.zip (6.9MB):  93%  6.4MB\r",
        "  Downloading Pillow-2.5.3.zip (6.9MB):  93%  6.4MB\r",
        "  Downloading Pillow-2.5.3.zip (6.9MB):  93%  6.4MB\r",
        "  Downloading Pillow-2.5.3.zip (6.9MB):  93%  6.4MB\r",
        "  Downloading Pillow-2.5.3.zip (6.9MB):  93%  6.4MB\r",
        "  Downloading Pillow-2.5.3.zip (6.9MB):  93%  6.4MB\r",
        "  Downloading Pillow-2.5.3.zip (6.9MB):  93%  6.4MB"
       ]
      },
      {
       "output_type": "stream",
       "stream": "stdout",
       "text": [
        "\r",
        "  Downloading Pillow-2.5.3.zip (6.9MB):  93%  6.4MB\r",
        "  Downloading Pillow-2.5.3.zip (6.9MB):  93%  6.4MB\r",
        "  Downloading Pillow-2.5.3.zip (6.9MB):  93%  6.4MB\r",
        "  Downloading Pillow-2.5.3.zip (6.9MB):  93%  6.4MB\r",
        "  Downloading Pillow-2.5.3.zip (6.9MB):  93%  6.5MB\r",
        "  Downloading Pillow-2.5.3.zip (6.9MB):  93%  6.5MB\r",
        "  Downloading Pillow-2.5.3.zip (6.9MB):  93%  6.5MB\r",
        "  Downloading Pillow-2.5.3.zip (6.9MB):  94%  6.5MB\r",
        "  Downloading Pillow-2.5.3.zip (6.9MB):  94%  6.5MB\r",
        "  Downloading Pillow-2.5.3.zip (6.9MB):  94%  6.5MB\r",
        "  Downloading Pillow-2.5.3.zip (6.9MB):  94%  6.5MB\r",
        "  Downloading Pillow-2.5.3.zip (6.9MB):  94%  6.5MB\r",
        "  Downloading Pillow-2.5.3.zip (6.9MB):  94%  6.5MB\r",
        "  Downloading Pillow-2.5.3.zip (6.9MB):  94%  6.5MB\r",
        "  Downloading Pillow-2.5.3.zip (6.9MB):  94%  6.5MB\r",
        "  Downloading Pillow-2.5.3.zip (6.9MB):  94%  6.5MB\r",
        "  Downloading Pillow-2.5.3.zip (6.9MB):  94%  6.5MB\r",
        "  Downloading Pillow-2.5.3.zip (6.9MB):  94%  6.5MB\r",
        "  Downloading Pillow-2.5.3.zip (6.9MB):  94%  6.5MB\r",
        "  Downloading Pillow-2.5.3.zip (6.9MB):  94%  6.5MB\r",
        "  Downloading Pillow-2.5.3.zip (6.9MB):  94%  6.5MB\r",
        "  Downloading Pillow-2.5.3.zip (6.9MB):  94%  6.5MB\r",
        "  Downloading Pillow-2.5.3.zip (6.9MB):  94%  6.5MB\r",
        "  Downloading Pillow-2.5.3.zip (6.9MB):  94%  6.5MB\r",
        "  Downloading Pillow-2.5.3.zip (6.9MB):  95%  6.5MB\r",
        "  Downloading Pillow-2.5.3.zip (6.9MB):  95%  6.5MB\r",
        "  Downloading Pillow-2.5.3.zip (6.9MB):  95%  6.5MB\r",
        "  Downloading Pillow-2.5.3.zip (6.9MB):  95%  6.5MB\r",
        "  Downloading Pillow-2.5.3.zip (6.9MB):  95%  6.5MB\r",
        "  Downloading Pillow-2.5.3.zip (6.9MB):  95%  6.6MB\r",
        "  Downloading Pillow-2.5.3.zip (6.9MB):  95%  6.6MB\r",
        "  Downloading Pillow-2.5.3.zip (6.9MB):  95%  6.6MB\r",
        "  Downloading Pillow-2.5.3.zip (6.9MB):  95%  6.6MB\r",
        "  Downloading Pillow-2.5.3.zip (6.9MB):  95%  6.6MB\r",
        "  Downloading Pillow-2.5.3.zip (6.9MB):  95%  6.6MB\r",
        "  Downloading Pillow-2.5.3.zip (6.9MB):  95%  6.6MB\r",
        "  Downloading Pillow-2.5.3.zip (6.9MB):  95%  6.6MB\r",
        "  Downloading Pillow-2.5.3.zip (6.9MB):  95%  6.6MB\r",
        "  Downloading Pillow-2.5.3.zip (6.9MB):  95%  6.6MB\r",
        "  Downloading Pillow-2.5.3.zip (6.9MB):  95%  6.6MB\r",
        "  Downloading Pillow-2.5.3.zip (6.9MB):  96%  6.6MB\r",
        "  Downloading Pillow-2.5.3.zip (6.9MB):  96%  6.6MB\r",
        "  Downloading Pillow-2.5.3.zip (6.9MB):  96%  6.6MB\r",
        "  Downloading Pillow-2.5.3.zip (6.9MB):  96%  6.6MB\r",
        "  Downloading Pillow-2.5.3.zip (6.9MB):  96%  6.6MB\r",
        "  Downloading Pillow-2.5.3.zip (6.9MB):  96%  6.6MB\r",
        "  Downloading Pillow-2.5.3.zip (6.9MB):  96%  6.6MB\r",
        "  Downloading Pillow-2.5.3.zip (6.9MB):  96%  6.6MB\r",
        "  Downloading Pillow-2.5.3.zip (6.9MB):  96%  6.6MB\r",
        "  Downloading Pillow-2.5.3.zip (6.9MB):  96%  6.6MB\r",
        "  Downloading Pillow-2.5.3.zip (6.9MB):  96%  6.6MB\r",
        "  Downloading Pillow-2.5.3.zip (6.9MB):  96%  6.6MB\r",
        "  Downloading Pillow-2.5.3.zip (6.9MB):  96%  6.6MB\r",
        "  Downloading Pillow-2.5.3.zip (6.9MB):  96%  6.7MB\r",
        "  Downloading Pillow-2.5.3.zip (6.9MB):  96%  6.7MB\r",
        "  Downloading Pillow-2.5.3.zip (6.9MB):  96%  6.7MB\r",
        "  Downloading Pillow-2.5.3.zip (6.9MB):  96%  6.7MB\r",
        "  Downloading Pillow-2.5.3.zip (6.9MB):  97%  6.7MB\r",
        "  Downloading Pillow-2.5.3.zip (6.9MB):  97%  6.7MB\r",
        "  Downloading Pillow-2.5.3.zip (6.9MB):  97%  6.7MB\r",
        "  Downloading Pillow-2.5.3.zip (6.9MB):  97%  6.7MB\r",
        "  Downloading Pillow-2.5.3.zip (6.9MB):  97%  6.7MB\r",
        "  Downloading Pillow-2.5.3.zip (6.9MB):  97%  6.7MB\r",
        "  Downloading Pillow-2.5.3.zip (6.9MB):  97%  6.7MB\r",
        "  Downloading Pillow-2.5.3.zip (6.9MB):  97%  6.7MB\r",
        "  Downloading Pillow-2.5.3.zip (6.9MB):  97%  6.7MB\r",
        "  Downloading Pillow-2.5.3.zip (6.9MB):  97%  6.7MB\r",
        "  Downloading Pillow-2.5.3.zip (6.9MB):  97%  6.7MB\r",
        "  Downloading Pillow-2.5.3.zip (6.9MB):  97%  6.7MB\r",
        "  Downloading Pillow-2.5.3.zip (6.9MB):  97%  6.7MB\r",
        "  Downloading Pillow-2.5.3.zip (6.9MB):  97%  6.7MB\r",
        "  Downloading Pillow-2.5.3.zip (6.9MB):  97%  6.7MB\r",
        "  Downloading Pillow-2.5.3.zip (6.9MB):  97%  6.7MB\r",
        "  Downloading Pillow-2.5.3.zip (6.9MB):  97%  6.7MB\r",
        "  Downloading Pillow-2.5.3.zip (6.9MB):  98%  6.7MB\r",
        "  Downloading Pillow-2.5.3.zip (6.9MB):  98%  6.7MB\r",
        "  Downloading Pillow-2.5.3.zip (6.9MB):  98%  6.7MB\r",
        "  Downloading Pillow-2.5.3.zip (6.9MB):  98%  6.8MB\r",
        "  Downloading Pillow-2.5.3.zip (6.9MB):  98%  6.8MB\r",
        "  Downloading Pillow-2.5.3.zip (6.9MB):  98%  6.8MB\r",
        "  Downloading Pillow-2.5.3.zip (6.9MB):  98%  6.8MB\r",
        "  Downloading Pillow-2.5.3.zip (6.9MB):  98%  6.8MB\r",
        "  Downloading Pillow-2.5.3.zip (6.9MB):  98%  6.8MB\r",
        "  Downloading Pillow-2.5.3.zip (6.9MB):  98%  6.8MB\r",
        "  Downloading Pillow-2.5.3.zip (6.9MB):  98%  6.8MB\r",
        "  Downloading Pillow-2.5.3.zip (6.9MB):  98%  6.8MB"
       ]
      },
      {
       "output_type": "stream",
       "stream": "stdout",
       "text": [
        "\r",
        "  Downloading Pillow-2.5.3.zip (6.9MB):  98%  6.8MB\r",
        "  Downloading Pillow-2.5.3.zip (6.9MB):  98%  6.8MB\r",
        "  Downloading Pillow-2.5.3.zip (6.9MB):  98%  6.8MB\r",
        "  Downloading Pillow-2.5.3.zip (6.9MB):  98%  6.8MB\r",
        "  Downloading Pillow-2.5.3.zip (6.9MB):  98%  6.8MB\r",
        "  Downloading Pillow-2.5.3.zip (6.9MB):  99%  6.8MB\r",
        "  Downloading Pillow-2.5.3.zip (6.9MB):  99%  6.8MB\r",
        "  Downloading Pillow-2.5.3.zip (6.9MB):  99%  6.8MB\r",
        "  Downloading Pillow-2.5.3.zip (6.9MB):  99%  6.8MB\r",
        "  Downloading Pillow-2.5.3.zip (6.9MB):  99%  6.8MB\r",
        "  Downloading Pillow-2.5.3.zip (6.9MB):  99%  6.8MB\r",
        "  Downloading Pillow-2.5.3.zip (6.9MB):  99%  6.8MB\r",
        "  Downloading Pillow-2.5.3.zip (6.9MB):  99%  6.8MB\r",
        "  Downloading Pillow-2.5.3.zip (6.9MB):  99%  6.8MB\r",
        "  Downloading Pillow-2.5.3.zip (6.9MB):  99%  6.8MB\r",
        "  Downloading Pillow-2.5.3.zip (6.9MB):  99%  6.8MB\r",
        "  Downloading Pillow-2.5.3.zip (6.9MB):  99%  6.9MB\r",
        "  Downloading Pillow-2.5.3.zip (6.9MB):  99%  6.9MB\r",
        "  Downloading Pillow-2.5.3.zip (6.9MB):  99%  6.9MB\r",
        "  Downloading Pillow-2.5.3.zip (6.9MB):  99%  6.9MB\r",
        "  Downloading Pillow-2.5.3.zip (6.9MB):  99%  6.9MB\r",
        "  Downloading Pillow-2.5.3.zip (6.9MB):  99%  6.9MB\r",
        "  Downloading Pillow-2.5.3.zip (6.9MB): 100%  6.9MB\r",
        "  Downloading Pillow-2.5.3.zip (6.9MB):            \r",
        "  Downloading Pillow-2.5.3.zip (6.9MB): 6.9MB downloaded\r\n"
       ]
      },
      {
       "output_type": "stream",
       "stream": "stdout",
       "text": [
        "  Running setup.py (path:/home/user/.virtualenvs/localpy/build/Pillow/setup.py) egg_info for package Pillow\r\n"
       ]
      },
      {
       "output_type": "stream",
       "stream": "stdout",
       "text": [
        "    Single threaded build, not installing mp_compile: 1 processes\r\n",
        "    \r\n"
       ]
      },
      {
       "output_type": "stream",
       "stream": "stdout",
       "text": [
        "    warning: no files found matching '*.bdf' under directory 'Images'\r\n",
        "    warning: no files found matching '*.fli' under directory 'Images'\r\n",
        "    warning: no files found matching '*.gif' under directory 'Images'\r\n",
        "    warning: no files found matching '*.icns' under directory 'Images'\r\n",
        "    warning: no files found matching '*.ico' under directory 'Images'\r\n",
        "    warning: no files found matching '*.jpg' under directory 'Images'\r\n",
        "    warning: no files found matching '*.pbm' under directory 'Images'\r\n",
        "    warning: no files found matching '*.pil' under directory 'Images'\r\n",
        "    warning: no files found matching '*.png' under directory 'Images'\r\n",
        "    warning: no files found matching '*.ppm' under directory 'Images'\r\n",
        "    warning: no files found matching '*.psd' under directory 'Images'\r\n",
        "    warning: no files found matching '*.tar' under directory 'Images'\r\n",
        "    warning: no files found matching '*.webp' under directory 'Images'\r\n",
        "    warning: no files found matching '*.xpm' under directory 'Images'\r\n",
        "    warning: no files found matching 'README' under directory 'Sane'\r\n",
        "    warning: no files found matching 'README' under directory 'Scripts'\r\n"
       ]
      },
      {
       "output_type": "stream",
       "stream": "stdout",
       "text": [
        "    warning: no files found matching '*.txt' under directory 'Tk'\r\n"
       ]
      },
      {
       "output_type": "stream",
       "stream": "stdout",
       "text": [
        "Downloading/unpacking funcparserlib (from blockdiag)\r\n"
       ]
      },
      {
       "output_type": "stream",
       "stream": "stdout",
       "text": [
        "  Downloading funcparserlib-0.3.6.tar.gz\r\n",
        "  Running setup.py (path:/home/user/.virtualenvs/localpy/build/funcparserlib/setup.py) egg_info for package funcparserlib\r\n"
       ]
      },
      {
       "output_type": "stream",
       "stream": "stdout",
       "text": [
        "    \r\n"
       ]
      },
      {
       "output_type": "stream",
       "stream": "stdout",
       "text": [
        "    warning: no files found matching 'requires.txt'\r\n"
       ]
      },
      {
       "output_type": "stream",
       "stream": "stdout",
       "text": [
        "Downloading/unpacking webcolors (from blockdiag)\r\n"
       ]
      },
      {
       "output_type": "stream",
       "stream": "stdout",
       "text": [
        "  Downloading webcolors-1.4.tar.gz\r\n",
        "  Running setup.py (path:/home/user/.virtualenvs/localpy/build/webcolors/setup.py) egg_info for package webcolors\r\n"
       ]
      },
      {
       "output_type": "stream",
       "stream": "stdout",
       "text": [
        "    \r\n"
       ]
      },
      {
       "output_type": "stream",
       "stream": "stdout",
       "text": [
        "Installing collected packages: actdiag, blockdiag, nwdiag, seqdiag, Pillow, funcparserlib, webcolors\r\n"
       ]
      },
      {
       "output_type": "stream",
       "stream": "stdout",
       "text": [
        "  Running setup.py install for Pillow\r\n"
       ]
      },
      {
       "output_type": "stream",
       "stream": "stdout",
       "text": [
        "    Single threaded build, not installing mp_compile: 1 processes\r\n"
       ]
      },
      {
       "output_type": "stream",
       "stream": "stdout",
       "text": [
        "    \r\n"
       ]
      },
      {
       "output_type": "stream",
       "stream": "stdout",
       "text": [
        "    warning: no files found matching '*.bdf' under directory 'Images'\r\n",
        "    warning: no files found matching '*.fli' under directory 'Images'\r\n",
        "    warning: no files found matching '*.gif' under directory 'Images'\r\n",
        "    warning: no files found matching '*.icns' under directory 'Images'\r\n",
        "    warning: no files found matching '*.ico' under directory 'Images'\r\n",
        "    warning: no files found matching '*.jpg' under directory 'Images'\r\n",
        "    warning: no files found matching '*.pbm' under directory 'Images'\r\n",
        "    warning: no files found matching '*.pil' under directory 'Images'\r\n",
        "    warning: no files found matching '*.png' under directory 'Images'\r\n",
        "    warning: no files found matching '*.ppm' under directory 'Images'\r\n",
        "    warning: no files found matching '*.psd' under directory 'Images'\r\n",
        "    warning: no files found matching '*.tar' under directory 'Images'\r\n",
        "    warning: no files found matching '*.webp' under directory 'Images'\r\n",
        "    warning: no files found matching '*.xpm' under directory 'Images'\r\n",
        "    warning: no files found matching 'README' under directory 'Sane'\r\n",
        "    warning: no files found matching 'README' under directory 'Scripts'\r\n"
       ]
      },
      {
       "output_type": "stream",
       "stream": "stdout",
       "text": [
        "    warning: no files found matching '*.txt' under directory 'Tk'\r\n"
       ]
      },
      {
       "output_type": "stream",
       "stream": "stdout",
       "text": [
        "    building 'PIL._imaging' extension\r\n",
        "    gcc -pthread -fno-strict-aliasing -DNDEBUG -g -fwrapv -O2 -Wall -Wstrict-prototypes -fPIC -DHAVE_LIBZ -I/home/user/.virtualenvs/localpy/build/Pillow/libImaging -I/home/user/.virtualenvs/localpy/include -I/usr/local/include -I/usr/include -I/usr/include/python2.7 -I/usr/include/x86_64-linux-gnu -c _imaging.c -o build/temp.linux-x86_64-2.7/_imaging.o\r\n"
       ]
      },
      {
       "output_type": "stream",
       "stream": "stdout",
       "text": [
        "    gcc -pthread -fno-strict-aliasing -DNDEBUG -g -fwrapv -O2 -Wall -Wstrict-prototypes -fPIC -DHAVE_LIBZ -I/home/user/.virtualenvs/localpy/build/Pillow/libImaging -I/home/user/.virtualenvs/localpy/include -I/usr/local/include -I/usr/include -I/usr/include/python2.7 -I/usr/include/x86_64-linux-gnu -c decode.c -o build/temp.linux-x86_64-2.7/decode.o\r\n"
       ]
      },
      {
       "output_type": "stream",
       "stream": "stdout",
       "text": [
        "    gcc -pthread -fno-strict-aliasing -DNDEBUG -g -fwrapv -O2 -Wall -Wstrict-prototypes -fPIC -DHAVE_LIBZ -I/home/user/.virtualenvs/localpy/build/Pillow/libImaging -I/home/user/.virtualenvs/localpy/include -I/usr/local/include -I/usr/include -I/usr/include/python2.7 -I/usr/include/x86_64-linux-gnu -c encode.c -o build/temp.linux-x86_64-2.7/encode.o\r\n"
       ]
      },
      {
       "output_type": "stream",
       "stream": "stdout",
       "text": [
        "    gcc -pthread -fno-strict-aliasing -DNDEBUG -g -fwrapv -O2 -Wall -Wstrict-prototypes -fPIC -DHAVE_LIBZ -I/home/user/.virtualenvs/localpy/build/Pillow/libImaging -I/home/user/.virtualenvs/localpy/include -I/usr/local/include -I/usr/include -I/usr/include/python2.7 -I/usr/include/x86_64-linux-gnu -c map.c -o build/temp.linux-x86_64-2.7/map.o\r\n"
       ]
      },
      {
       "output_type": "stream",
       "stream": "stdout",
       "text": [
        "    gcc -pthread -fno-strict-aliasing -DNDEBUG -g -fwrapv -O2 -Wall -Wstrict-prototypes -fPIC -DHAVE_LIBZ -I/home/user/.virtualenvs/localpy/build/Pillow/libImaging -I/home/user/.virtualenvs/localpy/include -I/usr/local/include -I/usr/include -I/usr/include/python2.7 -I/usr/include/x86_64-linux-gnu -c display.c -o build/temp.linux-x86_64-2.7/display.o"
       ]
      },
      {
       "output_type": "stream",
       "stream": "stdout",
       "text": [
        "\r\n"
       ]
      },
      {
       "output_type": "stream",
       "stream": "stdout",
       "text": [
        "    gcc -pthread -fno-strict-aliasing -DNDEBUG -g -fwrapv -O2 -Wall -Wstrict-prototypes -fPIC -DHAVE_LIBZ -I/home/user/.virtualenvs/localpy/build/Pillow/libImaging -I/home/user/.virtualenvs/localpy/include -I/usr/local/include -I/usr/include -I/usr/include/python2.7 -I/usr/include/x86_64-linux-gnu -c outline.c -o build/temp.linux-x86_64-2.7/outline.o\r\n"
       ]
      },
      {
       "output_type": "stream",
       "stream": "stdout",
       "text": [
        "    gcc -pthread -fno-strict-aliasing -DNDEBUG -g -fwrapv -O2 -Wall -Wstrict-prototypes -fPIC -DHAVE_LIBZ -I/home/user/.virtualenvs/localpy/build/Pillow/libImaging -I/home/user/.virtualenvs/localpy/include -I/usr/local/include -I/usr/include -I/usr/include/python2.7 -I/usr/include/x86_64-linux-gnu -c path.c -o build/temp.linux-x86_64-2.7/path.o\r\n"
       ]
      },
      {
       "output_type": "stream",
       "stream": "stdout",
       "text": [
        "    gcc -pthread -fno-strict-aliasing -DNDEBUG -g -fwrapv -O2 -Wall -Wstrict-prototypes -fPIC -DHAVE_LIBZ -I/home/user/.virtualenvs/localpy/build/Pillow/libImaging -I/home/user/.virtualenvs/localpy/include -I/usr/local/include -I/usr/include -I/usr/include/python2.7 -I/usr/include/x86_64-linux-gnu -c libImaging/Access.c -o build/temp.linux-x86_64-2.7/libImaging/Access.o\r\n"
       ]
      },
      {
       "output_type": "stream",
       "stream": "stdout",
       "text": [
        "    gcc -pthread -fno-strict-aliasing -DNDEBUG -g -fwrapv -O2 -Wall -Wstrict-prototypes -fPIC -DHAVE_LIBZ -I/home/user/.virtualenvs/localpy/build/Pillow/libImaging -I/home/user/.virtualenvs/localpy/include -I/usr/local/include -I/usr/include -I/usr/include/python2.7 -I/usr/include/x86_64-linux-gnu -c libImaging/AlphaComposite.c -o build/temp.linux-x86_64-2.7/libImaging/AlphaComposite.o\r\n"
       ]
      },
      {
       "output_type": "stream",
       "stream": "stdout",
       "text": [
        "    gcc -pthread -fno-strict-aliasing -DNDEBUG -g -fwrapv -O2 -Wall -Wstrict-prototypes -fPIC -DHAVE_LIBZ -I/home/user/.virtualenvs/localpy/build/Pillow/libImaging -I/home/user/.virtualenvs/localpy/include -I/usr/local/include -I/usr/include -I/usr/include/python2.7 -I/usr/include/x86_64-linux-gnu -c libImaging/Antialias.c -o build/temp.linux-x86_64-2.7/libImaging/Antialias.o\r\n"
       ]
      },
      {
       "output_type": "stream",
       "stream": "stdout",
       "text": [
        "    gcc -pthread -fno-strict-aliasing -DNDEBUG -g -fwrapv -O2 -Wall -Wstrict-prototypes -fPIC -DHAVE_LIBZ -I/home/user/.virtualenvs/localpy/build/Pillow/libImaging -I/home/user/.virtualenvs/localpy/include -I/usr/local/include -I/usr/include -I/usr/include/python2.7 -I/usr/include/x86_64-linux-gnu -c libImaging/Bands.c -o build/temp.linux-x86_64-2.7/libImaging/Bands.o\r\n"
       ]
      },
      {
       "output_type": "stream",
       "stream": "stdout",
       "text": [
        "    gcc -pthread -fno-strict-aliasing -DNDEBUG -g -fwrapv -O2 -Wall -Wstrict-prototypes -fPIC -DHAVE_LIBZ -I/home/user/.virtualenvs/localpy/build/Pillow/libImaging -I/home/user/.virtualenvs/localpy/include -I/usr/local/include -I/usr/include -I/usr/include/python2.7 -I/usr/include/x86_64-linux-gnu -c libImaging/BitDecode.c -o build/temp.linux-x86_64-2.7/libImaging/BitDecode.o\r\n"
       ]
      },
      {
       "output_type": "stream",
       "stream": "stdout",
       "text": [
        "    gcc -pthread -fno-strict-aliasing -DNDEBUG -g -fwrapv -O2 -Wall -Wstrict-prototypes -fPIC -DHAVE_LIBZ -I/home/user/.virtualenvs/localpy/build/Pillow/libImaging -I/home/user/.virtualenvs/localpy/include -I/usr/local/include -I/usr/include -I/usr/include/python2.7 -I/usr/include/x86_64-linux-gnu -c libImaging/Blend.c -o build/temp.linux-x86_64-2.7/libImaging/Blend.o\r\n"
       ]
      },
      {
       "output_type": "stream",
       "stream": "stdout",
       "text": [
        "    gcc -pthread -fno-strict-aliasing -DNDEBUG -g -fwrapv -O2 -Wall -Wstrict-prototypes -fPIC -DHAVE_LIBZ -I/home/user/.virtualenvs/localpy/build/Pillow/libImaging -I/home/user/.virtualenvs/localpy/include -I/usr/local/include -I/usr/include -I/usr/include/python2.7 -I/usr/include/x86_64-linux-gnu -c libImaging/Chops.c -o build/temp.linux-x86_64-2.7/libImaging/Chops.o\r\n"
       ]
      },
      {
       "output_type": "stream",
       "stream": "stdout",
       "text": [
        "    gcc -pthread -fno-strict-aliasing -DNDEBUG -g -fwrapv -O2 -Wall -Wstrict-prototypes -fPIC -DHAVE_LIBZ -I/home/user/.virtualenvs/localpy/build/Pillow/libImaging -I/home/user/.virtualenvs/localpy/include -I/usr/local/include -I/usr/include -I/usr/include/python2.7 -I/usr/include/x86_64-linux-gnu -c libImaging/Convert.c -o build/temp.linux-x86_64-2.7/libImaging/Convert.o\r\n"
       ]
      },
      {
       "output_type": "stream",
       "stream": "stdout",
       "text": [
        "    gcc -pthread -fno-strict-aliasing -DNDEBUG -g -fwrapv -O2 -Wall -Wstrict-prototypes -fPIC -DHAVE_LIBZ -I/home/user/.virtualenvs/localpy/build/Pillow/libImaging -I/home/user/.virtualenvs/localpy/include -I/usr/local/include -I/usr/include -I/usr/include/python2.7 -I/usr/include/x86_64-linux-gnu -c libImaging/ConvertYCbCr.c -o build/temp.linux-x86_64-2.7/libImaging/ConvertYCbCr.o\r\n"
       ]
      },
      {
       "output_type": "stream",
       "stream": "stdout",
       "text": [
        "    gcc -pthread -fno-strict-aliasing -DNDEBUG -g -fwrapv -O2 -Wall -Wstrict-prototypes -fPIC -DHAVE_LIBZ -I/home/user/.virtualenvs/localpy/build/Pillow/libImaging -I/home/user/.virtualenvs/localpy/include -I/usr/local/include -I/usr/include -I/usr/include/python2.7 -I/usr/include/x86_64-linux-gnu -c libImaging/Copy.c -o build/temp.linux-x86_64-2.7/libImaging/Copy.o\r\n"
       ]
      },
      {
       "output_type": "stream",
       "stream": "stdout",
       "text": [
        "    gcc -pthread -fno-strict-aliasing -DNDEBUG -g -fwrapv -O2 -Wall -Wstrict-prototypes -fPIC -DHAVE_LIBZ -I/home/user/.virtualenvs/localpy/build/Pillow/libImaging -I/home/user/.virtualenvs/localpy/include -I/usr/local/include -I/usr/include -I/usr/include/python2.7 -I/usr/include/x86_64-linux-gnu -c libImaging/Crc32.c -o build/temp.linux-x86_64-2.7/libImaging/Crc32.o\r\n"
       ]
      },
      {
       "output_type": "stream",
       "stream": "stdout",
       "text": [
        "    gcc -pthread -fno-strict-aliasing -DNDEBUG -g -fwrapv -O2 -Wall -Wstrict-prototypes -fPIC -DHAVE_LIBZ -I/home/user/.virtualenvs/localpy/build/Pillow/libImaging -I/home/user/.virtualenvs/localpy/include -I/usr/local/include -I/usr/include -I/usr/include/python2.7 -I/usr/include/x86_64-linux-gnu -c libImaging/Crop.c -o build/temp.linux-x86_64-2.7/libImaging/Crop.o\r\n"
       ]
      },
      {
       "output_type": "stream",
       "stream": "stdout",
       "text": [
        "    gcc -pthread -fno-strict-aliasing -DNDEBUG -g -fwrapv -O2 -Wall -Wstrict-prototypes -fPIC -DHAVE_LIBZ -I/home/user/.virtualenvs/localpy/build/Pillow/libImaging -I/home/user/.virtualenvs/localpy/include -I/usr/local/include -I/usr/include -I/usr/include/python2.7 -I/usr/include/x86_64-linux-gnu -c libImaging/Dib.c -o build/temp.linux-x86_64-2.7/libImaging/Dib.o\r\n"
       ]
      },
      {
       "output_type": "stream",
       "stream": "stdout",
       "text": [
        "    gcc -pthread -fno-strict-aliasing -DNDEBUG -g -fwrapv -O2 -Wall -Wstrict-prototypes -fPIC -DHAVE_LIBZ -I/home/user/.virtualenvs/localpy/build/Pillow/libImaging -I/home/user/.virtualenvs/localpy/include -I/usr/local/include -I/usr/include -I/usr/include/python2.7 -I/usr/include/x86_64-linux-gnu -c libImaging/Draw.c -o build/temp.linux-x86_64-2.7/libImaging/Draw.o\r\n"
       ]
      },
      {
       "output_type": "stream",
       "stream": "stdout",
       "text": [
        "    libImaging/Draw.c: In function 'ImagingDrawWideLine':\r\n",
        "    libImaging/Draw.c:603:9: warning: unused variable 'vertices' [-Wunused-variable]\r\n"
       ]
      },
      {
       "output_type": "stream",
       "stream": "stdout",
       "text": [
        "    gcc -pthread -fno-strict-aliasing -DNDEBUG -g -fwrapv -O2 -Wall -Wstrict-prototypes -fPIC -DHAVE_LIBZ -I/home/user/.virtualenvs/localpy/build/Pillow/libImaging -I/home/user/.virtualenvs/localpy/include -I/usr/local/include -I/usr/include -I/usr/include/python2.7 -I/usr/include/x86_64-linux-gnu -c libImaging/Effects.c -o build/temp.linux-x86_64-2.7/libImaging/Effects.o\r\n"
       ]
      },
      {
       "output_type": "stream",
       "stream": "stdout",
       "text": [
        "    gcc -pthread -fno-strict-aliasing -DNDEBUG -g -fwrapv -O2 -Wall -Wstrict-prototypes -fPIC -DHAVE_LIBZ -I/home/user/.virtualenvs/localpy/build/Pillow/libImaging -I/home/user/.virtualenvs/localpy/include -I/usr/local/include -I/usr/include -I/usr/include/python2.7 -I/usr/include/x86_64-linux-gnu -c libImaging/EpsEncode.c -o build/temp.linux-x86_64-2.7/libImaging/EpsEncode.o\r\n"
       ]
      },
      {
       "output_type": "stream",
       "stream": "stdout",
       "text": [
        "    gcc -pthread -fno-strict-aliasing -DNDEBUG -g -fwrapv -O2 -Wall -Wstrict-prototypes -fPIC -DHAVE_LIBZ -I/home/user/.virtualenvs/localpy/build/Pillow/libImaging -I/home/user/.virtualenvs/localpy/include -I/usr/local/include -I/usr/include -I/usr/include/python2.7 -I/usr/include/x86_64-linux-gnu -c libImaging/File.c -o build/temp.linux-x86_64-2.7/libImaging/File.o\r\n"
       ]
      },
      {
       "output_type": "stream",
       "stream": "stdout",
       "text": [
        "    gcc -pthread -fno-strict-aliasing -DNDEBUG -g -fwrapv -O2 -Wall -Wstrict-prototypes -fPIC -DHAVE_LIBZ -I/home/user/.virtualenvs/localpy/build/Pillow/libImaging -I/home/user/.virtualenvs/localpy/include -I/usr/local/include -I/usr/include -I/usr/include/python2.7 -I/usr/include/x86_64-linux-gnu -c libImaging/Fill.c -o build/temp.linux-x86_64-2.7/libImaging/Fill.o"
       ]
      },
      {
       "output_type": "stream",
       "stream": "stdout",
       "text": [
        "\r\n"
       ]
      },
      {
       "output_type": "stream",
       "stream": "stdout",
       "text": [
        "    gcc -pthread -fno-strict-aliasing -DNDEBUG -g -fwrapv -O2 -Wall -Wstrict-prototypes -fPIC -DHAVE_LIBZ -I/home/user/.virtualenvs/localpy/build/Pillow/libImaging -I/home/user/.virtualenvs/localpy/include -I/usr/local/include -I/usr/include -I/usr/include/python2.7 -I/usr/include/x86_64-linux-gnu -c libImaging/Filter.c -o build/temp.linux-x86_64-2.7/libImaging/Filter.o\r\n"
       ]
      },
      {
       "output_type": "stream",
       "stream": "stdout",
       "text": [
        "    gcc -pthread -fno-strict-aliasing -DNDEBUG -g -fwrapv -O2 -Wall -Wstrict-prototypes -fPIC -DHAVE_LIBZ -I/home/user/.virtualenvs/localpy/build/Pillow/libImaging -I/home/user/.virtualenvs/localpy/include -I/usr/local/include -I/usr/include -I/usr/include/python2.7 -I/usr/include/x86_64-linux-gnu -c libImaging/FliDecode.c -o build/temp.linux-x86_64-2.7/libImaging/FliDecode.o\r\n"
       ]
      },
      {
       "output_type": "stream",
       "stream": "stdout",
       "text": [
        "    gcc -pthread -fno-strict-aliasing -DNDEBUG -g -fwrapv -O2 -Wall -Wstrict-prototypes -fPIC -DHAVE_LIBZ -I/home/user/.virtualenvs/localpy/build/Pillow/libImaging -I/home/user/.virtualenvs/localpy/include -I/usr/local/include -I/usr/include -I/usr/include/python2.7 -I/usr/include/x86_64-linux-gnu -c libImaging/Geometry.c -o build/temp.linux-x86_64-2.7/libImaging/Geometry.o\r\n"
       ]
      },
      {
       "output_type": "stream",
       "stream": "stdout",
       "text": [
        "    gcc -pthread -fno-strict-aliasing -DNDEBUG -g -fwrapv -O2 -Wall -Wstrict-prototypes -fPIC -DHAVE_LIBZ -I/home/user/.virtualenvs/localpy/build/Pillow/libImaging -I/home/user/.virtualenvs/localpy/include -I/usr/local/include -I/usr/include -I/usr/include/python2.7 -I/usr/include/x86_64-linux-gnu -c libImaging/GetBBox.c -o build/temp.linux-x86_64-2.7/libImaging/GetBBox.o\r\n"
       ]
      },
      {
       "output_type": "stream",
       "stream": "stdout",
       "text": [
        "    gcc -pthread -fno-strict-aliasing -DNDEBUG -g -fwrapv -O2 -Wall -Wstrict-prototypes -fPIC -DHAVE_LIBZ -I/home/user/.virtualenvs/localpy/build/Pillow/libImaging -I/home/user/.virtualenvs/localpy/include -I/usr/local/include -I/usr/include -I/usr/include/python2.7 -I/usr/include/x86_64-linux-gnu -c libImaging/GifDecode.c -o build/temp.linux-x86_64-2.7/libImaging/GifDecode.o\r\n"
       ]
      },
      {
       "output_type": "stream",
       "stream": "stdout",
       "text": [
        "    gcc -pthread -fno-strict-aliasing -DNDEBUG -g -fwrapv -O2 -Wall -Wstrict-prototypes -fPIC -DHAVE_LIBZ -I/home/user/.virtualenvs/localpy/build/Pillow/libImaging -I/home/user/.virtualenvs/localpy/include -I/usr/local/include -I/usr/include -I/usr/include/python2.7 -I/usr/include/x86_64-linux-gnu -c libImaging/GifEncode.c -o build/temp.linux-x86_64-2.7/libImaging/GifEncode.o\r\n"
       ]
      },
      {
       "output_type": "stream",
       "stream": "stdout",
       "text": [
        "    gcc -pthread -fno-strict-aliasing -DNDEBUG -g -fwrapv -O2 -Wall -Wstrict-prototypes -fPIC -DHAVE_LIBZ -I/home/user/.virtualenvs/localpy/build/Pillow/libImaging -I/home/user/.virtualenvs/localpy/include -I/usr/local/include -I/usr/include -I/usr/include/python2.7 -I/usr/include/x86_64-linux-gnu -c libImaging/HexDecode.c -o build/temp.linux-x86_64-2.7/libImaging/HexDecode.o\r\n"
       ]
      },
      {
       "output_type": "stream",
       "stream": "stdout",
       "text": [
        "    gcc -pthread -fno-strict-aliasing -DNDEBUG -g -fwrapv -O2 -Wall -Wstrict-prototypes -fPIC -DHAVE_LIBZ -I/home/user/.virtualenvs/localpy/build/Pillow/libImaging -I/home/user/.virtualenvs/localpy/include -I/usr/local/include -I/usr/include -I/usr/include/python2.7 -I/usr/include/x86_64-linux-gnu -c libImaging/Histo.c -o build/temp.linux-x86_64-2.7/libImaging/Histo.o\r\n"
       ]
      },
      {
       "output_type": "stream",
       "stream": "stdout",
       "text": [
        "    gcc -pthread -fno-strict-aliasing -DNDEBUG -g -fwrapv -O2 -Wall -Wstrict-prototypes -fPIC -DHAVE_LIBZ -I/home/user/.virtualenvs/localpy/build/Pillow/libImaging -I/home/user/.virtualenvs/localpy/include -I/usr/local/include -I/usr/include -I/usr/include/python2.7 -I/usr/include/x86_64-linux-gnu -c libImaging/JpegDecode.c -o build/temp.linux-x86_64-2.7/libImaging/JpegDecode.o\r\n"
       ]
      },
      {
       "output_type": "stream",
       "stream": "stdout",
       "text": [
        "    gcc -pthread -fno-strict-aliasing -DNDEBUG -g -fwrapv -O2 -Wall -Wstrict-prototypes -fPIC -DHAVE_LIBZ -I/home/user/.virtualenvs/localpy/build/Pillow/libImaging -I/home/user/.virtualenvs/localpy/include -I/usr/local/include -I/usr/include -I/usr/include/python2.7 -I/usr/include/x86_64-linux-gnu -c libImaging/JpegEncode.c -o build/temp.linux-x86_64-2.7/libImaging/JpegEncode.o\r\n"
       ]
      },
      {
       "output_type": "stream",
       "stream": "stdout",
       "text": [
        "    gcc -pthread -fno-strict-aliasing -DNDEBUG -g -fwrapv -O2 -Wall -Wstrict-prototypes -fPIC -DHAVE_LIBZ -I/home/user/.virtualenvs/localpy/build/Pillow/libImaging -I/home/user/.virtualenvs/localpy/include -I/usr/local/include -I/usr/include -I/usr/include/python2.7 -I/usr/include/x86_64-linux-gnu -c libImaging/LzwDecode.c -o build/temp.linux-x86_64-2.7/libImaging/LzwDecode.o\r\n"
       ]
      },
      {
       "output_type": "stream",
       "stream": "stdout",
       "text": [
        "    gcc -pthread -fno-strict-aliasing -DNDEBUG -g -fwrapv -O2 -Wall -Wstrict-prototypes -fPIC -DHAVE_LIBZ -I/home/user/.virtualenvs/localpy/build/Pillow/libImaging -I/home/user/.virtualenvs/localpy/include -I/usr/local/include -I/usr/include -I/usr/include/python2.7 -I/usr/include/x86_64-linux-gnu -c libImaging/Matrix.c -o build/temp.linux-x86_64-2.7/libImaging/Matrix.o\r\n"
       ]
      },
      {
       "output_type": "stream",
       "stream": "stdout",
       "text": [
        "    gcc -pthread -fno-strict-aliasing -DNDEBUG -g -fwrapv -O2 -Wall -Wstrict-prototypes -fPIC -DHAVE_LIBZ -I/home/user/.virtualenvs/localpy/build/Pillow/libImaging -I/home/user/.virtualenvs/localpy/include -I/usr/local/include -I/usr/include -I/usr/include/python2.7 -I/usr/include/x86_64-linux-gnu -c libImaging/ModeFilter.c -o build/temp.linux-x86_64-2.7/libImaging/ModeFilter.o\r\n"
       ]
      },
      {
       "output_type": "stream",
       "stream": "stdout",
       "text": [
        "    gcc -pthread -fno-strict-aliasing -DNDEBUG -g -fwrapv -O2 -Wall -Wstrict-prototypes -fPIC -DHAVE_LIBZ -I/home/user/.virtualenvs/localpy/build/Pillow/libImaging -I/home/user/.virtualenvs/localpy/include -I/usr/local/include -I/usr/include -I/usr/include/python2.7 -I/usr/include/x86_64-linux-gnu -c libImaging/MspDecode.c -o build/temp.linux-x86_64-2.7/libImaging/MspDecode.o\r\n"
       ]
      },
      {
       "output_type": "stream",
       "stream": "stdout",
       "text": [
        "    gcc -pthread -fno-strict-aliasing -DNDEBUG -g -fwrapv -O2 -Wall -Wstrict-prototypes -fPIC -DHAVE_LIBZ -I/home/user/.virtualenvs/localpy/build/Pillow/libImaging -I/home/user/.virtualenvs/localpy/include -I/usr/local/include -I/usr/include -I/usr/include/python2.7 -I/usr/include/x86_64-linux-gnu -c libImaging/Negative.c -o build/temp.linux-x86_64-2.7/libImaging/Negative.o\r\n"
       ]
      },
      {
       "output_type": "stream",
       "stream": "stdout",
       "text": [
        "    gcc -pthread -fno-strict-aliasing -DNDEBUG -g -fwrapv -O2 -Wall -Wstrict-prototypes -fPIC -DHAVE_LIBZ -I/home/user/.virtualenvs/localpy/build/Pillow/libImaging -I/home/user/.virtualenvs/localpy/include -I/usr/local/include -I/usr/include -I/usr/include/python2.7 -I/usr/include/x86_64-linux-gnu -c libImaging/Offset.c -o build/temp.linux-x86_64-2.7/libImaging/Offset.o\r\n"
       ]
      },
      {
       "output_type": "stream",
       "stream": "stdout",
       "text": [
        "    gcc -pthread -fno-strict-aliasing -DNDEBUG -g -fwrapv -O2 -Wall -Wstrict-prototypes -fPIC -DHAVE_LIBZ -I/home/user/.virtualenvs/localpy/build/Pillow/libImaging -I/home/user/.virtualenvs/localpy/include -I/usr/local/include -I/usr/include -I/usr/include/python2.7 -I/usr/include/x86_64-linux-gnu -c libImaging/Pack.c -o build/temp.linux-x86_64-2.7/libImaging/Pack.o"
       ]
      },
      {
       "output_type": "stream",
       "stream": "stdout",
       "text": [
        "\r\n"
       ]
      },
      {
       "output_type": "stream",
       "stream": "stdout",
       "text": [
        "    gcc -pthread -fno-strict-aliasing -DNDEBUG -g -fwrapv -O2 -Wall -Wstrict-prototypes -fPIC -DHAVE_LIBZ -I/home/user/.virtualenvs/localpy/build/Pillow/libImaging -I/home/user/.virtualenvs/localpy/include -I/usr/local/include -I/usr/include -I/usr/include/python2.7 -I/usr/include/x86_64-linux-gnu -c libImaging/PackDecode.c -o build/temp.linux-x86_64-2.7/libImaging/PackDecode.o\r\n"
       ]
      },
      {
       "output_type": "stream",
       "stream": "stdout",
       "text": [
        "    gcc -pthread -fno-strict-aliasing -DNDEBUG -g -fwrapv -O2 -Wall -Wstrict-prototypes -fPIC -DHAVE_LIBZ -I/home/user/.virtualenvs/localpy/build/Pillow/libImaging -I/home/user/.virtualenvs/localpy/include -I/usr/local/include -I/usr/include -I/usr/include/python2.7 -I/usr/include/x86_64-linux-gnu -c libImaging/Palette.c -o build/temp.linux-x86_64-2.7/libImaging/Palette.o\r\n"
       ]
      },
      {
       "output_type": "stream",
       "stream": "stdout",
       "text": [
        "    gcc -pthread -fno-strict-aliasing -DNDEBUG -g -fwrapv -O2 -Wall -Wstrict-prototypes -fPIC -DHAVE_LIBZ -I/home/user/.virtualenvs/localpy/build/Pillow/libImaging -I/home/user/.virtualenvs/localpy/include -I/usr/local/include -I/usr/include -I/usr/include/python2.7 -I/usr/include/x86_64-linux-gnu -c libImaging/Paste.c -o build/temp.linux-x86_64-2.7/libImaging/Paste.o\r\n"
       ]
      },
      {
       "output_type": "stream",
       "stream": "stdout",
       "text": [
        "    gcc -pthread -fno-strict-aliasing -DNDEBUG -g -fwrapv -O2 -Wall -Wstrict-prototypes -fPIC -DHAVE_LIBZ -I/home/user/.virtualenvs/localpy/build/Pillow/libImaging -I/home/user/.virtualenvs/localpy/include -I/usr/local/include -I/usr/include -I/usr/include/python2.7 -I/usr/include/x86_64-linux-gnu -c libImaging/Quant.c -o build/temp.linux-x86_64-2.7/libImaging/Quant.o"
       ]
      },
      {
       "output_type": "stream",
       "stream": "stdout",
       "text": [
        "\r\n"
       ]
      },
      {
       "output_type": "stream",
       "stream": "stdout",
       "text": [
        "    gcc -pthread -fno-strict-aliasing -DNDEBUG -g -fwrapv -O2 -Wall -Wstrict-prototypes -fPIC -DHAVE_LIBZ -I/home/user/.virtualenvs/localpy/build/Pillow/libImaging -I/home/user/.virtualenvs/localpy/include -I/usr/local/include -I/usr/include -I/usr/include/python2.7 -I/usr/include/x86_64-linux-gnu -c libImaging/QuantOctree.c -o build/temp.linux-x86_64-2.7/libImaging/QuantOctree.o"
       ]
      },
      {
       "output_type": "stream",
       "stream": "stdout",
       "text": [
        "\r\n"
       ]
      },
      {
       "output_type": "stream",
       "stream": "stdout",
       "text": [
        "    gcc -pthread -fno-strict-aliasing -DNDEBUG -g -fwrapv -O2 -Wall -Wstrict-prototypes -fPIC -DHAVE_LIBZ -I/home/user/.virtualenvs/localpy/build/Pillow/libImaging -I/home/user/.virtualenvs/localpy/include -I/usr/local/include -I/usr/include -I/usr/include/python2.7 -I/usr/include/x86_64-linux-gnu -c libImaging/QuantHash.c -o build/temp.linux-x86_64-2.7/libImaging/QuantHash.o\r\n"
       ]
      },
      {
       "output_type": "stream",
       "stream": "stdout",
       "text": [
        "    gcc -pthread -fno-strict-aliasing -DNDEBUG -g -fwrapv -O2 -Wall -Wstrict-prototypes -fPIC -DHAVE_LIBZ -I/home/user/.virtualenvs/localpy/build/Pillow/libImaging -I/home/user/.virtualenvs/localpy/include -I/usr/local/include -I/usr/include -I/usr/include/python2.7 -I/usr/include/x86_64-linux-gnu -c libImaging/QuantHeap.c -o build/temp.linux-x86_64-2.7/libImaging/QuantHeap.o\r\n"
       ]
      },
      {
       "output_type": "stream",
       "stream": "stdout",
       "text": [
        "    gcc -pthread -fno-strict-aliasing -DNDEBUG -g -fwrapv -O2 -Wall -Wstrict-prototypes -fPIC -DHAVE_LIBZ -I/home/user/.virtualenvs/localpy/build/Pillow/libImaging -I/home/user/.virtualenvs/localpy/include -I/usr/local/include -I/usr/include -I/usr/include/python2.7 -I/usr/include/x86_64-linux-gnu -c libImaging/PcdDecode.c -o build/temp.linux-x86_64-2.7/libImaging/PcdDecode.o\r\n"
       ]
      },
      {
       "output_type": "stream",
       "stream": "stdout",
       "text": [
        "    gcc -pthread -fno-strict-aliasing -DNDEBUG -g -fwrapv -O2 -Wall -Wstrict-prototypes -fPIC -DHAVE_LIBZ -I/home/user/.virtualenvs/localpy/build/Pillow/libImaging -I/home/user/.virtualenvs/localpy/include -I/usr/local/include -I/usr/include -I/usr/include/python2.7 -I/usr/include/x86_64-linux-gnu -c libImaging/PcxDecode.c -o build/temp.linux-x86_64-2.7/libImaging/PcxDecode.o\r\n"
       ]
      },
      {
       "output_type": "stream",
       "stream": "stdout",
       "text": [
        "    gcc -pthread -fno-strict-aliasing -DNDEBUG -g -fwrapv -O2 -Wall -Wstrict-prototypes -fPIC -DHAVE_LIBZ -I/home/user/.virtualenvs/localpy/build/Pillow/libImaging -I/home/user/.virtualenvs/localpy/include -I/usr/local/include -I/usr/include -I/usr/include/python2.7 -I/usr/include/x86_64-linux-gnu -c libImaging/PcxEncode.c -o build/temp.linux-x86_64-2.7/libImaging/PcxEncode.o\r\n"
       ]
      },
      {
       "output_type": "stream",
       "stream": "stdout",
       "text": [
        "    gcc -pthread -fno-strict-aliasing -DNDEBUG -g -fwrapv -O2 -Wall -Wstrict-prototypes -fPIC -DHAVE_LIBZ -I/home/user/.virtualenvs/localpy/build/Pillow/libImaging -I/home/user/.virtualenvs/localpy/include -I/usr/local/include -I/usr/include -I/usr/include/python2.7 -I/usr/include/x86_64-linux-gnu -c libImaging/Point.c -o build/temp.linux-x86_64-2.7/libImaging/Point.o\r\n"
       ]
      },
      {
       "output_type": "stream",
       "stream": "stdout",
       "text": [
        "    gcc -pthread -fno-strict-aliasing -DNDEBUG -g -fwrapv -O2 -Wall -Wstrict-prototypes -fPIC -DHAVE_LIBZ -I/home/user/.virtualenvs/localpy/build/Pillow/libImaging -I/home/user/.virtualenvs/localpy/include -I/usr/local/include -I/usr/include -I/usr/include/python2.7 -I/usr/include/x86_64-linux-gnu -c libImaging/RankFilter.c -o build/temp.linux-x86_64-2.7/libImaging/RankFilter.o\r\n"
       ]
      },
      {
       "output_type": "stream",
       "stream": "stdout",
       "text": [
        "    gcc -pthread -fno-strict-aliasing -DNDEBUG -g -fwrapv -O2 -Wall -Wstrict-prototypes -fPIC -DHAVE_LIBZ -I/home/user/.virtualenvs/localpy/build/Pillow/libImaging -I/home/user/.virtualenvs/localpy/include -I/usr/local/include -I/usr/include -I/usr/include/python2.7 -I/usr/include/x86_64-linux-gnu -c libImaging/RawDecode.c -o build/temp.linux-x86_64-2.7/libImaging/RawDecode.o\r\n"
       ]
      },
      {
       "output_type": "stream",
       "stream": "stdout",
       "text": [
        "    gcc -pthread -fno-strict-aliasing -DNDEBUG -g -fwrapv -O2 -Wall -Wstrict-prototypes -fPIC -DHAVE_LIBZ -I/home/user/.virtualenvs/localpy/build/Pillow/libImaging -I/home/user/.virtualenvs/localpy/include -I/usr/local/include -I/usr/include -I/usr/include/python2.7 -I/usr/include/x86_64-linux-gnu -c libImaging/RawEncode.c -o build/temp.linux-x86_64-2.7/libImaging/RawEncode.o\r\n"
       ]
      },
      {
       "output_type": "stream",
       "stream": "stdout",
       "text": [
        "    gcc -pthread -fno-strict-aliasing -DNDEBUG -g -fwrapv -O2 -Wall -Wstrict-prototypes -fPIC -DHAVE_LIBZ -I/home/user/.virtualenvs/localpy/build/Pillow/libImaging -I/home/user/.virtualenvs/localpy/include -I/usr/local/include -I/usr/include -I/usr/include/python2.7 -I/usr/include/x86_64-linux-gnu -c libImaging/Storage.c -o build/temp.linux-x86_64-2.7/libImaging/Storage.o\r\n"
       ]
      },
      {
       "output_type": "stream",
       "stream": "stdout",
       "text": [
        "    gcc -pthread -fno-strict-aliasing -DNDEBUG -g -fwrapv -O2 -Wall -Wstrict-prototypes -fPIC -DHAVE_LIBZ -I/home/user/.virtualenvs/localpy/build/Pillow/libImaging -I/home/user/.virtualenvs/localpy/include -I/usr/local/include -I/usr/include -I/usr/include/python2.7 -I/usr/include/x86_64-linux-gnu -c libImaging/SunRleDecode.c -o build/temp.linux-x86_64-2.7/libImaging/SunRleDecode.o\r\n"
       ]
      },
      {
       "output_type": "stream",
       "stream": "stdout",
       "text": [
        "    gcc -pthread -fno-strict-aliasing -DNDEBUG -g -fwrapv -O2 -Wall -Wstrict-prototypes -fPIC -DHAVE_LIBZ -I/home/user/.virtualenvs/localpy/build/Pillow/libImaging -I/home/user/.virtualenvs/localpy/include -I/usr/local/include -I/usr/include -I/usr/include/python2.7 -I/usr/include/x86_64-linux-gnu -c libImaging/TgaRleDecode.c -o build/temp.linux-x86_64-2.7/libImaging/TgaRleDecode.o\r\n"
       ]
      },
      {
       "output_type": "stream",
       "stream": "stdout",
       "text": [
        "    gcc -pthread -fno-strict-aliasing -DNDEBUG -g -fwrapv -O2 -Wall -Wstrict-prototypes -fPIC -DHAVE_LIBZ -I/home/user/.virtualenvs/localpy/build/Pillow/libImaging -I/home/user/.virtualenvs/localpy/include -I/usr/local/include -I/usr/include -I/usr/include/python2.7 -I/usr/include/x86_64-linux-gnu -c libImaging/Unpack.c -o build/temp.linux-x86_64-2.7/libImaging/Unpack.o\r\n"
       ]
      },
      {
       "output_type": "stream",
       "stream": "stdout",
       "text": [
        "    gcc -pthread -fno-strict-aliasing -DNDEBUG -g -fwrapv -O2 -Wall -Wstrict-prototypes -fPIC -DHAVE_LIBZ -I/home/user/.virtualenvs/localpy/build/Pillow/libImaging -I/home/user/.virtualenvs/localpy/include -I/usr/local/include -I/usr/include -I/usr/include/python2.7 -I/usr/include/x86_64-linux-gnu -c libImaging/UnpackYCC.c -o build/temp.linux-x86_64-2.7/libImaging/UnpackYCC.o\r\n"
       ]
      },
      {
       "output_type": "stream",
       "stream": "stdout",
       "text": [
        "    gcc -pthread -fno-strict-aliasing -DNDEBUG -g -fwrapv -O2 -Wall -Wstrict-prototypes -fPIC -DHAVE_LIBZ -I/home/user/.virtualenvs/localpy/build/Pillow/libImaging -I/home/user/.virtualenvs/localpy/include -I/usr/local/include -I/usr/include -I/usr/include/python2.7 -I/usr/include/x86_64-linux-gnu -c libImaging/UnsharpMask.c -o build/temp.linux-x86_64-2.7/libImaging/UnsharpMask.o\r\n"
       ]
      },
      {
       "output_type": "stream",
       "stream": "stdout",
       "text": [
        "    gcc -pthread -fno-strict-aliasing -DNDEBUG -g -fwrapv -O2 -Wall -Wstrict-prototypes -fPIC -DHAVE_LIBZ -I/home/user/.virtualenvs/localpy/build/Pillow/libImaging -I/home/user/.virtualenvs/localpy/include -I/usr/local/include -I/usr/include -I/usr/include/python2.7 -I/usr/include/x86_64-linux-gnu -c libImaging/XbmDecode.c -o build/temp.linux-x86_64-2.7/libImaging/XbmDecode.o\r\n"
       ]
      },
      {
       "output_type": "stream",
       "stream": "stdout",
       "text": [
        "    gcc -pthread -fno-strict-aliasing -DNDEBUG -g -fwrapv -O2 -Wall -Wstrict-prototypes -fPIC -DHAVE_LIBZ -I/home/user/.virtualenvs/localpy/build/Pillow/libImaging -I/home/user/.virtualenvs/localpy/include -I/usr/local/include -I/usr/include -I/usr/include/python2.7 -I/usr/include/x86_64-linux-gnu -c libImaging/XbmEncode.c -o build/temp.linux-x86_64-2.7/libImaging/XbmEncode.o\r\n"
       ]
      },
      {
       "output_type": "stream",
       "stream": "stdout",
       "text": [
        "    gcc -pthread -fno-strict-aliasing -DNDEBUG -g -fwrapv -O2 -Wall -Wstrict-prototypes -fPIC -DHAVE_LIBZ -I/home/user/.virtualenvs/localpy/build/Pillow/libImaging -I/home/user/.virtualenvs/localpy/include -I/usr/local/include -I/usr/include -I/usr/include/python2.7 -I/usr/include/x86_64-linux-gnu -c libImaging/ZipDecode.c -o build/temp.linux-x86_64-2.7/libImaging/ZipDecode.o\r\n"
       ]
      },
      {
       "output_type": "stream",
       "stream": "stdout",
       "text": [
        "    gcc -pthread -fno-strict-aliasing -DNDEBUG -g -fwrapv -O2 -Wall -Wstrict-prototypes -fPIC -DHAVE_LIBZ -I/home/user/.virtualenvs/localpy/build/Pillow/libImaging -I/home/user/.virtualenvs/localpy/include -I/usr/local/include -I/usr/include -I/usr/include/python2.7 -I/usr/include/x86_64-linux-gnu -c libImaging/ZipEncode.c -o build/temp.linux-x86_64-2.7/libImaging/ZipEncode.o\r\n"
       ]
      },
      {
       "output_type": "stream",
       "stream": "stdout",
       "text": [
        "    gcc -pthread -fno-strict-aliasing -DNDEBUG -g -fwrapv -O2 -Wall -Wstrict-prototypes -fPIC -DHAVE_LIBZ -I/home/user/.virtualenvs/localpy/build/Pillow/libImaging -I/home/user/.virtualenvs/localpy/include -I/usr/local/include -I/usr/include -I/usr/include/python2.7 -I/usr/include/x86_64-linux-gnu -c libImaging/TiffDecode.c -o build/temp.linux-x86_64-2.7/libImaging/TiffDecode.o\r\n"
       ]
      },
      {
       "output_type": "stream",
       "stream": "stdout",
       "text": [
        "    gcc -pthread -fno-strict-aliasing -DNDEBUG -g -fwrapv -O2 -Wall -Wstrict-prototypes -fPIC -DHAVE_LIBZ -I/home/user/.virtualenvs/localpy/build/Pillow/libImaging -I/home/user/.virtualenvs/localpy/include -I/usr/local/include -I/usr/include -I/usr/include/python2.7 -I/usr/include/x86_64-linux-gnu -c libImaging/Incremental.c -o build/temp.linux-x86_64-2.7/libImaging/Incremental.o\r\n"
       ]
      },
      {
       "output_type": "stream",
       "stream": "stdout",
       "text": [
        "    gcc -pthread -fno-strict-aliasing -DNDEBUG -g -fwrapv -O2 -Wall -Wstrict-prototypes -fPIC -DHAVE_LIBZ -I/home/user/.virtualenvs/localpy/build/Pillow/libImaging -I/home/user/.virtualenvs/localpy/include -I/usr/local/include -I/usr/include -I/usr/include/python2.7 -I/usr/include/x86_64-linux-gnu -c libImaging/Jpeg2KDecode.c -o build/temp.linux-x86_64-2.7/libImaging/Jpeg2KDecode.o\r\n"
       ]
      },
      {
       "output_type": "stream",
       "stream": "stdout",
       "text": [
        "    gcc -pthread -fno-strict-aliasing -DNDEBUG -g -fwrapv -O2 -Wall -Wstrict-prototypes -fPIC -DHAVE_LIBZ -I/home/user/.virtualenvs/localpy/build/Pillow/libImaging -I/home/user/.virtualenvs/localpy/include -I/usr/local/include -I/usr/include -I/usr/include/python2.7 -I/usr/include/x86_64-linux-gnu -c libImaging/Jpeg2KEncode.c -o build/temp.linux-x86_64-2.7/libImaging/Jpeg2KEncode.o\r\n"
       ]
      },
      {
       "output_type": "stream",
       "stream": "stdout",
       "text": [
        "    gcc -pthread -shared -Wl,-O1 -Wl,-Bsymbolic-functions -Wl,-Bsymbolic-functions -Wl,-z,relro build/temp.linux-x86_64-2.7/_imaging.o build/temp.linux-x86_64-2.7/decode.o build/temp.linux-x86_64-2.7/encode.o build/temp.linux-x86_64-2.7/map.o build/temp.linux-x86_64-2.7/display.o build/temp.linux-x86_64-2.7/outline.o build/temp.linux-x86_64-2.7/path.o build/temp.linux-x86_64-2.7/libImaging/Access.o build/temp.linux-x86_64-2.7/libImaging/AlphaComposite.o build/temp.linux-x86_64-2.7/libImaging/Antialias.o build/temp.linux-x86_64-2.7/libImaging/Bands.o build/temp.linux-x86_64-2.7/libImaging/BitDecode.o build/temp.linux-x86_64-2.7/libImaging/Blend.o build/temp.linux-x86_64-2.7/libImaging/Chops.o build/temp.linux-x86_64-2.7/libImaging/Convert.o build/temp.linux-x86_64-2.7/libImaging/ConvertYCbCr.o build/temp.linux-x86_64-2.7/libImaging/Copy.o build/temp.linux-x86_64-2.7/libImaging/Crc32.o build/temp.linux-x86_64-2.7/libImaging/Crop.o build/temp.linux-x86_64-2.7/libImaging/Dib.o build/temp.linux-x86_64-2.7/libImaging/Draw.o build/temp.linux-x86_64-2.7/libImaging/Effects.o build/temp.linux-x86_64-2.7/libImaging/EpsEncode.o build/temp.linux-x86_64-2.7/libImaging/File.o build/temp.linux-x86_64-2.7/libImaging/Fill.o build/temp.linux-x86_64-2.7/libImaging/Filter.o build/temp.linux-x86_64-2.7/libImaging/FliDecode.o build/temp.linux-x86_64-2.7/libImaging/Geometry.o build/temp.linux-x86_64-2.7/libImaging/GetBBox.o build/temp.linux-x86_64-2.7/libImaging/GifDecode.o build/temp.linux-x86_64-2.7/libImaging/GifEncode.o build/temp.linux-x86_64-2.7/libImaging/HexDecode.o build/temp.linux-x86_64-2.7/libImaging/Histo.o build/temp.linux-x86_64-2.7/libImaging/JpegDecode.o build/temp.linux-x86_64-2.7/libImaging/JpegEncode.o build/temp.linux-x86_64-2.7/libImaging/LzwDecode.o build/temp.linux-x86_64-2.7/libImaging/Matrix.o build/temp.linux-x86_64-2.7/libImaging/ModeFilter.o build/temp.linux-x86_64-2.7/libImaging/MspDecode.o build/temp.linux-x86_64-2.7/libImaging/Negative.o build/temp.linux-x86_64-2.7/libImaging/Offset.o build/temp.linux-x86_64-2.7/libImaging/Pack.o build/temp.linux-x86_64-2.7/libImaging/PackDecode.o build/temp.linux-x86_64-2.7/libImaging/Palette.o build/temp.linux-x86_64-2.7/libImaging/Paste.o build/temp.linux-x86_64-2.7/libImaging/Quant.o build/temp.linux-x86_64-2.7/libImaging/QuantOctree.o build/temp.linux-x86_64-2.7/libImaging/QuantHash.o build/temp.linux-x86_64-2.7/libImaging/QuantHeap.o build/temp.linux-x86_64-2.7/libImaging/PcdDecode.o build/temp.linux-x86_64-2.7/libImaging/PcxDecode.o build/temp.linux-x86_64-2.7/libImaging/PcxEncode.o build/temp.linux-x86_64-2.7/libImaging/Point.o build/temp.linux-x86_64-2.7/libImaging/RankFilter.o build/temp.linux-x86_64-2.7/libImaging/RawDecode.o build/temp.linux-x86_64-2.7/libImaging/RawEncode.o build/temp.linux-x86_64-2.7/libImaging/Storage.o build/temp.linux-x86_64-2.7/libImaging/SunRleDecode.o build/temp.linux-x86_64-2.7/libImaging/TgaRleDecode.o build/temp.linux-x86_64-2.7/libImaging/Unpack.o build/temp.linux-x86_64-2.7/libImaging/UnpackYCC.o build/temp.linux-x86_64-2.7/libImaging/UnsharpMask.o build/temp.linux-x86_64-2.7/libImaging/XbmDecode.o build/temp.linux-x86_64-2.7/libImaging/XbmEncode.o build/temp.linux-x86_64-2.7/libImaging/ZipDecode.o build/temp.linux-x86_64-2.7/libImaging/ZipEncode.o build/temp.linux-x86_64-2.7/libImaging/TiffDecode.o build/temp.linux-x86_64-2.7/libImaging/Incremental.o build/temp.linux-x86_64-2.7/libImaging/Jpeg2KDecode.o build/temp.linux-x86_64-2.7/libImaging/Jpeg2KEncode.o -L/home/user/.virtualenvs/localpy/lib -L/usr/lib/x86_64-linux-gnu -L/usr/local/lib -L/usr/lib/x86_64-linux-gnu -lz -o build/lib.linux-x86_64-2.7/PIL/_imaging.so\r\n"
       ]
      },
      {
       "output_type": "stream",
       "stream": "stdout",
       "text": [
        "    building 'PIL._imagingmath' extension\r\n",
        "    gcc -pthread -fno-strict-aliasing -DNDEBUG -g -fwrapv -O2 -Wall -Wstrict-prototypes -fPIC -I/home/user/.virtualenvs/localpy/build/Pillow/libImaging -I/home/user/.virtualenvs/localpy/include -I/usr/local/include -I/usr/include -I/usr/include/python2.7 -I/usr/include/x86_64-linux-gnu -c _imagingmath.c -o build/temp.linux-x86_64-2.7/_imagingmath.o\r\n"
       ]
      },
      {
       "output_type": "stream",
       "stream": "stdout",
       "text": [
        "    gcc -pthread -shared -Wl,-O1 -Wl,-Bsymbolic-functions -Wl,-Bsymbolic-functions -Wl,-z,relro build/temp.linux-x86_64-2.7/_imagingmath.o -L/home/user/.virtualenvs/localpy/lib -L/usr/lib/x86_64-linux-gnu -L/usr/local/lib -L/usr/lib/x86_64-linux-gnu -o build/lib.linux-x86_64-2.7/PIL/_imagingmath.so\r\n"
       ]
      },
      {
       "output_type": "stream",
       "stream": "stdout",
       "text": [
        "    building 'PIL._imagingmorph' extension\r\n",
        "    gcc -pthread -fno-strict-aliasing -DNDEBUG -g -fwrapv -O2 -Wall -Wstrict-prototypes -fPIC -I/home/user/.virtualenvs/localpy/build/Pillow/libImaging -I/home/user/.virtualenvs/localpy/include -I/usr/local/include -I/usr/include -I/usr/include/python2.7 -I/usr/include/x86_64-linux-gnu -c _imagingmorph.c -o build/temp.linux-x86_64-2.7/_imagingmorph.o\r\n"
       ]
      },
      {
       "output_type": "stream",
       "stream": "stdout",
       "text": [
        "    gcc -pthread -shared -Wl,-O1 -Wl,-Bsymbolic-functions -Wl,-Bsymbolic-functions -Wl,-z,relro build/temp.linux-x86_64-2.7/_imagingmorph.o -L/home/user/.virtualenvs/localpy/lib -L/usr/lib/x86_64-linux-gnu -L/usr/local/lib -L/usr/lib/x86_64-linux-gnu -o build/lib.linux-x86_64-2.7/PIL/_imagingmorph.so\r\n"
       ]
      },
      {
       "output_type": "stream",
       "stream": "stdout",
       "text": [
        "    --------------------------------------------------------------------\r\n",
        "    PIL SETUP SUMMARY\r\n",
        "    --------------------------------------------------------------------\r\n",
        "    version      Pillow 2.5.3\r\n",
        "    platform     linux2 2.7.3 (default, Feb 27 2014, 19:58:35)\r\n",
        "                 [GCC 4.6.3]\r\n",
        "    --------------------------------------------------------------------\r\n",
        "    *** TKINTER support not available\r\n",
        "    (Tcl/Tk 8.5 libraries needed)\r\n",
        "    *** JPEG support not available\r\n",
        "    *** OPENJPEG (JPEG2000) support not available\r\n",
        "    --- ZLIB (PNG/ZIP) support available\r\n",
        "    *** LIBTIFF support not available\r\n",
        "    *** FREETYPE2 support not available\r\n",
        "    *** LITTLECMS2 support not available\r\n",
        "    *** WEBP support not available\r\n",
        "    *** WEBPMUX support not available\r\n",
        "    --------------------------------------------------------------------\r\n",
        "    To add a missing option, make sure you have the required\r\n",
        "    library, and set the corresponding ROOT variable in the\r\n",
        "    setup.py script.\r\n",
        "    \r\n",
        "    To check the build, run the selftest.py script.\r\n",
        "    \r\n",
        "    changing mode of build/scripts-2.7/pilfile.py from 644 to 755\r\n",
        "    changing mode of build/scripts-2.7/pildriver.py from 644 to 755\r\n",
        "    changing mode of build/scripts-2.7/pilfont.py from 644 to 755\r\n",
        "    changing mode of build/scripts-2.7/pilprint.py from 644 to 755\r\n",
        "    changing mode of build/scripts-2.7/pilconvert.py from 644 to 755\r\n"
       ]
      },
      {
       "output_type": "stream",
       "stream": "stdout",
       "text": [
        "    changing mode of /home/user/.virtualenvs/localpy/bin/pilfile.py to 755\r\n",
        "    changing mode of /home/user/.virtualenvs/localpy/bin/pildriver.py to 755\r\n",
        "    changing mode of /home/user/.virtualenvs/localpy/bin/pilfont.py to 755\r\n",
        "    changing mode of /home/user/.virtualenvs/localpy/bin/pilprint.py to 755\r\n",
        "    changing mode of /home/user/.virtualenvs/localpy/bin/pilconvert.py to 755\r\n",
        "  Running setup.py install for funcparserlib\r\n"
       ]
      },
      {
       "output_type": "stream",
       "stream": "stdout",
       "text": [
        "    \r\n"
       ]
      },
      {
       "output_type": "stream",
       "stream": "stdout",
       "text": [
        "    warning: no files found matching 'requires.txt'\r\n",
        "  Running setup.py install for webcolors\r\n"
       ]
      },
      {
       "output_type": "stream",
       "stream": "stdout",
       "text": [
        "    \r\n"
       ]
      },
      {
       "output_type": "stream",
       "stream": "stdout",
       "text": [
        "Successfully installed actdiag blockdiag nwdiag seqdiag Pillow funcparserlib webcolors\r\n",
        "Cleaning up...\r\n"
       ]
      }
     ],
     "prompt_number": 1
    },
    {
     "cell_type": "code",
     "collapsed": false,
     "input": [
      "%install_ext https://bitbucket.org/badi/ipython-diags/raw/default/diagmagic.py"
     ],
     "language": "python",
     "metadata": {},
     "outputs": [
      {
       "output_type": "stream",
       "stream": "stdout",
       "text": [
        "Installed diagmagic.py. To use it, type:\n",
        "  %load_ext diagmagic\n"
       ]
      }
     ],
     "prompt_number": 8
    },
    {
     "cell_type": "code",
     "collapsed": false,
     "input": [
      "%reload_ext diagmagic"
     ],
     "language": "python",
     "metadata": {},
     "outputs": [],
     "prompt_number": 10
    },
    {
     "cell_type": "code",
     "collapsed": false,
     "input": [
      "%%blockdiag\n",
      "{\n",
      "   A -> B -> C -> D;\n",
      "   A -> E -> F -> G;\n",
      "}"
     ],
     "language": "python",
     "metadata": {
      "slideshow": {
       "slide_type": "slide"
      }
     },
     "outputs": [
      {
       "metadata": {},
       "output_type": "display_data",
       "png": "[encoded data removed]"
      }
     ],
     "prompt_number": 11
    }
   ],
   "metadata": {}
  }
 ]
}