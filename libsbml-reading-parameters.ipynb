{
 "metadata": {
  "signature": "sha256:1e99877772370637499ce687de66784d91345ddea59512312820292d9f11afc1"
 },
 "nbformat": 3,
 "nbformat_minor": 0,
 "worksheets": [
  {
   "cells": [
    {
     "cell_type": "markdown",
     "metadata": {},
     "source": [
      "## Getting a test SBML model"
     ]
    },
    {
     "cell_type": "code",
     "collapsed": false,
     "input": [
      "import urllib\n",
      "\n",
      "link = \"https://raw.githubusercontent.com/stanleygu/biomodels_db/master/curated/BIOMD0000000001.xml\"\n",
      "f = urllib.urlopen(link)\n",
      "sbml = f.read()"
     ],
     "language": "python",
     "metadata": {},
     "outputs": [],
     "prompt_number": 1
    },
    {
     "cell_type": "markdown",
     "metadata": {},
     "source": [
      "## Attempting to get parameters from a single reaction, but coming up with 0"
     ]
    },
    {
     "cell_type": "code",
     "collapsed": false,
     "input": [
      "import libsbml\n",
      "doc = libsbml.readSBMLFromString(sbml)\n",
      "mod = doc.getModel()\n",
      "\n",
      "reactions = [r for r in mod.reactions]\n",
      "numParameters = [len(r.kinetic_law.parameters) for r in reactions]\n",
      "print numParameters\n",
      "\n",
      "numParams = [len(r.kinetic_law.getListOfParameters()) for r in reactions]\n",
      "print numParams"
     ],
     "language": "python",
     "metadata": {},
     "outputs": [
      {
       "output_type": "stream",
       "stream": "stdout",
       "text": [
        "[0, 0, 0, 0, 0, 0, 0, 0, 0, 0, 0, 0, 0, 0, 0, 0, 0]\n",
        "[0, 0, 0, 0, 0, 0, 0, 0, 0, 0, 0, 0, 0, 0, 0, 0, 0]\n"
       ]
      }
     ],
     "prompt_number": 2
    },
    {
     "cell_type": "markdown",
     "metadata": {},
     "source": [
      "## Parameters do exist in model"
     ]
    },
    {
     "cell_type": "code",
     "collapsed": false,
     "input": [
      "print len(mod.parameters)"
     ],
     "language": "python",
     "metadata": {},
     "outputs": [
      {
       "output_type": "stream",
       "stream": "stdout",
       "text": [
        "35\n"
       ]
      }
     ],
     "prompt_number": 3
    },
    {
     "cell_type": "markdown",
     "metadata": {},
     "source": [
      "## Also find parameters when through looking at kinetic law"
     ]
    },
    {
     "cell_type": "code",
     "collapsed": false,
     "input": [
      "print r.toSBML()"
     ],
     "language": "python",
     "metadata": {},
     "outputs": [
      {
       "output_type": "stream",
       "stream": "stdout",
       "text": [
        "<reaction metaid=\"_000032\" sboTerm=\"SBO:0000181\" id=\"React16\" name=\"React16\">\n",
        "  <notes>\n",
        "    <body xmlns=\"http://www.w3.org/1999/xhtml\">\n",
        "      <p>biliganded intermediate &lt;=&gt; biliganded desensitised</p>\n",
        "    </body>\n",
        "  </notes>\n",
        "  <listOfReactants>\n",
        "    <speciesReference metaid=\"_323921\" sboTerm=\"SBO:0000010\" species=\"ILL\"/>\n",
        "  </listOfReactants>\n",
        "  <listOfProducts>\n",
        "    <speciesReference metaid=\"_323932\" sboTerm=\"SBO:0000011\" species=\"DLL\"/>\n",
        "  </listOfProducts>\n",
        "  <kineticLaw metaid=\"_323944\" sboTerm=\"SBO:0000080\">\n",
        "    <notes>\n",
        "      <body xmlns=\"http://www.w3.org/1999/xhtml\">\n",
        "        <p>kf_16 * ILL - kr_16 * DLL</p>\n",
        "      </body>\n",
        "    </notes>\n",
        "    <math xmlns=\"http://www.w3.org/1998/Math/MathML\">\n",
        "      <apply>\n",
        "        <times/>\n",
        "        <ci> comp1 </ci>\n",
        "        <apply>\n",
        "          <minus/>\n",
        "          <apply>\n",
        "            <times/>\n",
        "            <ci> kf_16 </ci>\n",
        "            <ci> ILL </ci>\n",
        "          </apply>\n",
        "          <apply>\n",
        "            <times/>\n",
        "            <ci> kr_16 </ci>\n",
        "            <ci> DLL </ci>\n",
        "          </apply>\n",
        "        </apply>\n",
        "      </apply>\n",
        "    </math>\n",
        "  </kineticLaw>\n",
        "</reaction>\n"
       ]
      }
     ],
     "prompt_number": 4
    }
   ],
   "metadata": {}
  }
 ]
}