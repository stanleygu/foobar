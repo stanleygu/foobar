{
 "metadata": {
  "celltoolbar": "Slideshow",
  "signature": "sha256:14067f526ee6d036e780419ade44a916f5f1d160f56873c9d69095ef8b7609ad"
 },
 "nbformat": 3,
 "nbformat_minor": 0,
 "worksheets": [
  {
   "cells": [
    {
     "cell_type": "markdown",
     "metadata": {
      "slideshow": {
       "slide_type": "slide"
      }
     },
     "source": [
      "# This is my new slide"
     ]
    },
    {
     "cell_type": "markdown",
     "metadata": {
      "slideshow": {
       "slide_type": "subslide"
      }
     },
     "source": [
      "Okay here is a subslide"
     ]
    }
   ],
   "metadata": {}
  }
 ]
}