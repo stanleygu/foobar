{
 "metadata": {
  "signature": "sha256:ed1d854703c1452b022961d86f1a2a967e64eb9f330499185654ca8cee83caba"
 },
 "nbformat": 3,
 "nbformat_minor": 0,
 "worksheets": [
  {
   "cells": [
    {
     "cell_type": "markdown",
     "metadata": {},
     "source": [
      "This is something new."
     ]
    },
    {
     "cell_type": "markdown",
     "metadata": {},
     "source": [
      "Let's make another change."
     ]
    },
    {
     "cell_type": "code",
     "collapsed": false,
     "input": [
      "import tellurium as te\n",
      "import libsbml\n",
      "\n",
      "\n",
      "\n",
      "r = te.loadSBMLModel('testModel.xml')\n",
      "\n",
      "ant = te.sbmlToAntimony(r.getSBML())\n",
      "print ant\n",
      "\n",
      "with open('temp.xml', 'w') as f:\n",
      "    f.write(te.antimonyTosbml(ant))\n",
      "\n",
      "!touch empty.xml\n",
      "!cat temp.xml"
     ],
     "language": "python",
     "metadata": {},
     "outputs": [
      {
       "output_type": "stream",
       "stream": "stdout",
       "text": [
        "//Created by libAntimony v2.5\n",
        "model untitled()\n",
        "\n",
        "  // Compartments and Species:\n",
        "  compartment compartment_;\n",
        "  species S0 in compartment_, S1 in compartment_;\n",
        "\n",
        "  // Reactions:\n",
        "  R0: S0 => S1; ;\n",
        "\n",
        "  // Species initializations:\n",
        "  S0 = 0;\n",
        "  S1 = 0;\n",
        "\n",
        "  // Compartment initializations:\n",
        "  compartment_ = 1;\n",
        "\n",
        "  //Other declarations:\n",
        "  const compartment_;\n",
        "end\n",
        "\n"
       ]
      },
      {
       "output_type": "stream",
       "stream": "stdout",
       "text": [
        "<?xml version=\"1.0\" encoding=\"UTF-8\"?>\r\n",
        "<!-- Created by libAntimony version v2.5 on 2014-08-16 18:51 with libSBML version 5.10.0. -->\r\n",
        "<sbml xmlns=\"http://www.sbml.org/sbml/level3/version1/core\" level=\"3\" version=\"1\">\r\n",
        "  <model id=\"untitled\" name=\"untitled\">\r\n",
        "    <listOfCompartments>\r\n",
        "      <compartment id=\"compartment_\" spatialDimensions=\"3\" size=\"1\" constant=\"true\"/>\r\n",
        "    </listOfCompartments>\r\n",
        "    <listOfSpecies>\r\n",
        "      <species id=\"S0\" compartment=\"compartment_\" initialConcentration=\"0\" hasOnlySubstanceUnits=\"false\" boundaryCondition=\"false\" constant=\"false\"/>\r\n",
        "      <species id=\"S1\" compartment=\"compartment_\" initialConcentration=\"0\" hasOnlySubstanceUnits=\"false\" boundaryCondition=\"false\" constant=\"false\"/>\r\n",
        "    </listOfSpecies>\r\n",
        "    <listOfReactions>\r\n",
        "      <reaction id=\"R0\" reversible=\"false\" fast=\"false\">\r\n",
        "        <listOfReactants>\r\n",
        "          <speciesReference species=\"S0\" stoichiometry=\"1\" constant=\"true\"/>\r\n",
        "        </listOfReactants>\r\n",
        "        <listOfProducts>\r\n",
        "          <speciesReference species=\"S1\" stoichiometry=\"1\" constant=\"true\"/>\r\n",
        "        </listOfProducts>\r\n",
        "      </reaction>\r\n",
        "    </listOfReactions>\r\n",
        "  </model>\r\n",
        "</sbml>\r\n"
       ]
      }
     ],
     "prompt_number": 3
    },
    {
     "cell_type": "code",
     "collapsed": false,
     "input": [
      "!git merge-file -p temp.xml empty.xml testModel.xml "
     ],
     "language": "python",
     "metadata": {},
     "outputs": [
      {
       "output_type": "stream",
       "stream": "stdout",
       "text": [
        "<<<<<<< temp.xml\r\n",
        "<?xml version=\"1.0\" encoding=\"UTF-8\"?>\r\n",
        "<!-- Created by libAntimony version v2.5 on 2014-08-16 18:47 with libSBML version 5.10.0. -->\r\n",
        "<sbml xmlns=\"http://www.sbml.org/sbml/level3/version1/core\" level=\"3\" version=\"1\">\r\n",
        "  <model id=\"untitled\" name=\"untitled\">\r\n",
        "    <listOfCompartments>\r\n",
        "      <compartment id=\"compartment_\" spatialDimensions=\"3\" size=\"1\" constant=\"true\"/>\r\n",
        "    </listOfCompartments>\r\n",
        "    <listOfSpecies>\r\n",
        "      <species id=\"S0\" compartment=\"compartment_\" initialConcentration=\"0\" hasOnlySubstanceUnits=\"false\" boundaryCondition=\"false\" constant=\"false\"/>\r\n",
        "      <species id=\"S1\" compartment=\"compartment_\" initialConcentration=\"0\" hasOnlySubstanceUnits=\"false\" boundaryCondition=\"false\" constant=\"false\"/>\r\n",
        "    </listOfSpecies>\r\n",
        "    <listOfReactions>\r\n",
        "      <reaction id=\"R0\" reversible=\"false\" fast=\"false\">\r\n",
        "        <listOfReactants>\r\n",
        "          <speciesReference species=\"S0\" stoichiometry=\"1\" constant=\"true\"/>\r\n",
        "        </listOfReactants>\r\n",
        "        <listOfProducts>\r\n",
        "          <speciesReference species=\"S1\" stoichiometry=\"1\" constant=\"true\"/>\r\n",
        "        </listOfProducts>\r\n",
        "      </reaction>\r\n",
        "    </listOfReactions>\r\n",
        "  </model>\r\n",
        "</sbml>\r\n",
        "=======\r\n",
        "<sbml xmlns=\"http://www.sbml.org/sbml/level2\" xmlns:jd2=\"http://www.sys-bio.org/sbml/jd2\" level=\"2\" version=\"1\">\r\n",
        "    <model id=\"untitled\" name=\"untitled\">\r\n",
        "        <annotation>\r\n",
        "            <listOfLayouts>\r\n",
        "                <layout id=\"GrapheneLayout\">\r\n",
        "                    <dimensions width=\"497\" height=\"137\" />\r\n",
        "                    <listOfSpeciesGlyphs>\r\n",
        "                        <speciesGlyph id=\"sGlyph-S0\" species=\"S0\">\r\n",
        "                            <boundingBox>\r\n",
        "                                <dimensions height=\"30\" width=\"80\" />\r\n",
        "                                <position x=\"322\" y=\"64\" />\r\n",
        "                            </boundingBox>\r\n",
        "                        </speciesGlyph>\r\n",
        "                        <speciesGlyph id=\"sGlyph-S1\" species=\"S1\">\r\n",
        "                            <boundingBox>\r\n",
        "                                <dimensions height=\"30\" width=\"80\" />\r\n",
        "                                <position x=\"497\" y=\"137\" />\r\n",
        "                            </boundingBox>\r\n",
        "                        </speciesGlyph>\r\n",
        "                    </listOfSpeciesGlyphs>\r\n",
        "                    <listOfTextGlyphs>\r\n",
        "                        <textGlyph id=\"tGlyph-S0\" graphicalObject=\"sGlyph-S0\" text=\"S0\">\r\n",
        "                            <boundingBox>\r\n",
        "                                <dimensions height=\"30\" width=\"80\" />\r\n",
        "                                <position x=\"322\" y=\"64\" />\r\n",
        "                            </boundingBox>\r\n",
        "                        </textGlyph>\r\n",
        "                        <textGlyph id=\"tGlyph-S1\" graphicalObject=\"sGlyph-S1\" text=\"S1\">\r\n",
        "                            <boundingBox>\r\n",
        "                                <dimensions height=\"30\" width=\"80\" />\r\n",
        "                                <position x=\"497\" y=\"137\" />\r\n",
        "                            </boundingBox>\r\n",
        "                        </textGlyph>\r\n",
        "                    </listOfTextGlyphs>\r\n",
        "                    <annotation>\r\n",
        "                        <listOfRenderStyles />\r\n",
        "                    </annotation>\r\n",
        "                </layout>\r\n",
        "            </listOfLayouts>\r\n",
        "        </annotation>\r\n",
        "        <listOfCompartments>\r\n",
        "            <compartment id=\"compartment\" size=\"1\" />\r\n",
        "        </listOfCompartments>\r\n",
        "        <listOfSpecies>\r\n",
        "            <species id=\"S0\" boundaryCondition=\"false\" initialConcentration=\"0\" compartment=\"compartment\" />\r\n",
        "            <species id=\"S1\" boundaryCondition=\"false\" initialConcentration=\"0\" compartment=\"compartment\" />\r\n",
        "        </listOfSpecies>\r\n",
        "        <listOfReactions>\r\n",
        "            <reaction id=\"R0\" reversible=\"false\">\r\n",
        "                <listOfReactants>\r\n",
        "                    <speciesReference species=\"S0\" stoichiometry=\"1\" />\r\n",
        "                </listOfReactants>\r\n",
        "                <listOfProducts>\r\n",
        "                    <speciesReference species=\"S1\" stoichiometry=\"1\" />\r\n",
        "                </listOfProducts>\r\n",
        "            </reaction>\r\n",
        "        </listOfReactions>\r\n",
        "    </model>\r\n",
        "</sbml>\r\n",
        ">>>>>>> testModel.xml\r\n"
       ]
      }
     ],
     "prompt_number": 2
    },
    {
     "cell_type": "code",
     "collapsed": false,
     "input": [
      "doc = libsbml.readSBMLFromFile('testModel.xml')\n",
      "model = doc.getModel()\n",
      "layout = model.getAnnotation()\n",
      "\n",
      "antDoc = libsbml.readSBMLFromFile('temp.xml')\n",
      "antModel = antDoc.getModel()\n",
      "\n",
      "antModel.setAnnotation(layout)\n",
      "\n",
      "antModel.getAnnotationString()\n",
      "\n",
      "libsbml.writeSBMLToString(antDoc)"
     ],
     "language": "python",
     "metadata": {},
     "outputs": [
      {
       "metadata": {},
       "output_type": "pyout",
       "prompt_number": 16,
       "text": [
        "'<?xml version=\"1.0\" encoding=\"UTF-8\"?>\\n<sbml xmlns=\"http://www.sbml.org/sbml/level3/version1/core\" level=\"3\" version=\"1\">\\n  <model id=\"untitled\" name=\"untitled\">\\n    <annotation>\\n      <listOfLayouts>\\n        <layout id=\"GrapheneLayout\">\\n          <dimensions width=\"497\" height=\"137\"/>\\n          <listOfSpeciesGlyphs>\\n            <speciesGlyph id=\"sGlyph-S0\" species=\"S0\">\\n              <boundingBox>\\n                <dimensions height=\"30\" width=\"80\"/>\\n                <position x=\"322\" y=\"64\"/>\\n              </boundingBox>\\n            </speciesGlyph>\\n            <speciesGlyph id=\"sGlyph-S1\" species=\"S1\">\\n              <boundingBox>\\n                <dimensions height=\"30\" width=\"80\"/>\\n                <position x=\"497\" y=\"137\"/>\\n              </boundingBox>\\n            </speciesGlyph>\\n          </listOfSpeciesGlyphs>\\n          <listOfTextGlyphs>\\n            <textGlyph id=\"tGlyph-S0\" graphicalObject=\"sGlyph-S0\" text=\"S0\">\\n              <boundingBox>\\n                <dimensions height=\"30\" width=\"80\"/>\\n                <position x=\"322\" y=\"64\"/>\\n              </boundingBox>\\n            </textGlyph>\\n            <textGlyph id=\"tGlyph-S1\" graphicalObject=\"sGlyph-S1\" text=\"S1\">\\n              <boundingBox>\\n                <dimensions height=\"30\" width=\"80\"/>\\n                <position x=\"497\" y=\"137\"/>\\n              </boundingBox>\\n            </textGlyph>\\n          </listOfTextGlyphs>\\n          <annotation>\\n            <listOfRenderStyles/>\\n          </annotation>\\n        </layout>\\n      </listOfLayouts>\\n    </annotation>\\n    <listOfCompartments>\\n      <compartment id=\"compartment_\" spatialDimensions=\"3\" size=\"1\" constant=\"true\"/>\\n    </listOfCompartments>\\n    <listOfSpecies>\\n      <species id=\"S0\" compartment=\"compartment_\" initialConcentration=\"0\" hasOnlySubstanceUnits=\"false\" boundaryCondition=\"false\" constant=\"false\"/>\\n      <species id=\"S1\" compartment=\"compartment_\" initialConcentration=\"0\" hasOnlySubstanceUnits=\"false\" boundaryCondition=\"false\" constant=\"false\"/>\\n    </listOfSpecies>\\n    <listOfReactions>\\n      <reaction id=\"R0\" reversible=\"false\" fast=\"false\">\\n        <listOfReactants>\\n          <speciesReference species=\"S0\" stoichiometry=\"1\" constant=\"true\"/>\\n        </listOfReactants>\\n        <listOfProducts>\\n          <speciesReference species=\"S1\" stoichiometry=\"1\" constant=\"true\"/>\\n        </listOfProducts>\\n      </reaction>\\n    </listOfReactions>\\n  </model>\\n</sbml>\\n'"
       ]
      }
     ],
     "prompt_number": 16
    }
   ],
   "metadata": {}
  }
 ]
}