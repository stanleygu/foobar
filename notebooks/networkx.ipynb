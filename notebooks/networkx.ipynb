{
 "metadata": {
  "signature": "sha256:96019998683036513b9ce9806561d9b5bb7076b8199019b805049cac1eb5337e"
 },
 "nbformat": 3,
 "nbformat_minor": 0,
 "worksheets": [
  {
   "cells": [
    {
     "cell_type": "code",
     "collapsed": false,
     "input": [
      "import libsbml\n",
      "import tellurium as te\n",
      "\n",
      "sbml = te.antimonyTosbml('''\n",
      "$X0 -> S1; k1*X0/S3;\n",
      "S1 -> S2; k2*S1/S3;\n",
      "S2 -> S3; k3*S2;\n",
      "S3 -> X1; k4*S3;\n",
      "\n",
      "X0 = 1;\n",
      "\n",
      "k1 = 1; k2 = 0.5; k3 = 0.5; k4 = 0.1;\n",
      "''')\n",
      "\n",
      "doc = libsbml.readSBMLFromString(sbml)\n",
      "model = doc.getModel()"
     ],
     "language": "python",
     "metadata": {},
     "outputs": [],
     "prompt_number": 132
    },
    {
     "cell_type": "code",
     "collapsed": false,
     "input": [
      "import networkx as nx\n",
      "\n",
      "G = nx.DiGraph()\n",
      "labels = {}\n",
      "species = []\n",
      "reactions = []\n",
      "for i, s in enumerate(model.species):\n",
      "    G.add_node(s.getId())\n",
      "    species.append(s.getId())\n",
      "for i, r in enumerate(model.reactions):\n",
      "    G.add_node(r.getId())\n",
      "    reactions.append(r.getId())\n",
      "    for s in r.reactants:\n",
      "        G.add_edge(s.getSpecies(), r.getId(), kind='reactant')\n",
      "    for s in r.products:\n",
      "        G.add_edge(r.getId(), s.getSpecies(), kind='product')\n",
      "    for s in r.modifiers:\n",
      "        G.add_edge(s.getSpecies(), r.getId(), kind='modifier')\n"
     ],
     "language": "python",
     "metadata": {},
     "outputs": [],
     "prompt_number": 133
    },
    {
     "cell_type": "code",
     "collapsed": false,
     "input": [
      "modifier_edges = [key for key, val in nx.get_edge_attributes(G, 'kind').items() if val == 'modifier']\n",
      "product_edges = [key for key, val in nx.get_edge_attributes(G, 'kind').items() if val == 'product']\n",
      "reactant_edges = [key for key, val in nx.get_edge_attributes(G, 'kind').items() if val == 'reactant']\n",
      "mass_transfer_edges = [key for key, val in nx.get_edge_attributes(G, 'kind').items() if val != 'modifier']"
     ],
     "language": "python",
     "metadata": {},
     "outputs": [],
     "prompt_number": 134
    },
    {
     "cell_type": "code",
     "collapsed": false,
     "input": [
      "import matplotlib.pyplot as plt\n",
      "\n",
      "# pos=nx.circular_layout(G)\n",
      "# pos=nx.shell_layout(G)\n",
      "# pos=nx.spring_layout(G)\n",
      "pos=nx.spectral_layout(G)\n",
      "\n",
      "nx.draw_networkx_nodes(G,pos,\n",
      "                       nodelist=species,\n",
      "                       node_color='r',\n",
      "                       node_size=500,\n",
      "                       alpha=0.8)\n",
      "nx.draw_networkx_edges(G, pos, edgelist=product_edges)\n",
      "nx.draw_networkx_edges(G, pos, edgelist=reactant_edges, arrows=False)\n",
      "nx.draw_networkx_edges(G, pos, edgelist=modifier_edges, style='dashed')\n",
      "\n",
      "labels = {}\n",
      "for n in G.nodes():\n",
      "    if n in species:\n",
      "        labels[n] = n\n",
      "nx.draw_networkx_labels(G,pos,labels,font_size=16)\n",
      "plt.axis('off')\n",
      "plt.show()"
     ],
     "language": "python",
     "metadata": {},
     "outputs": [
      {
       "metadata": {},
       "output_type": "display_data",
       "png": "[encoded data removed]",
       "text": [
        "<matplotlib.figure.Figure at 0x699cf10>"
       ]
      }
     ],
     "prompt_number": 135
    },
    {
     "cell_type": "code",
     "collapsed": false,
     "input": [],
     "language": "python",
     "metadata": {},
     "outputs": []
    }
   ],
   "metadata": {}
  }
 ]
}