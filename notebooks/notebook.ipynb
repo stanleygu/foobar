{
 "metadata": {
  "signature": "sha256:eca4c15f475708221182544f7d1c3b8b2edbd2e9b8384fe8ad1ce842e3c8b98c"
 },
 "nbformat": 3,
 "nbformat_minor": 0,
 "worksheets": [
  {
   "cells": [
    {
     "cell_type": "code",
     "collapsed": false,
     "input": [
      "import tellurium as te"
     ],
     "language": "python",
     "metadata": {},
     "outputs": []
    }
   ],
   "metadata": {}
  }
 ]
}